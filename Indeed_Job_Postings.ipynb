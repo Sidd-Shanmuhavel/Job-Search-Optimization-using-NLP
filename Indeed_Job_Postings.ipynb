{
  "nbformat": 4,
  "nbformat_minor": 0,
  "metadata": {
    "colab": {
      "name": "Indeed_Job_Postings.ipynb",
      "provenance": [],
      "collapsed_sections": [],
      "authorship_tag": "ABX9TyNjk5ACol2Bf0L/IeqzVUiQ",
      "include_colab_link": true
    },
    "kernelspec": {
      "name": "python3",
      "display_name": "Python 3"
    },
    "accelerator": "GPU"
  },
  "cells": [
    {
      "cell_type": "markdown",
      "metadata": {
        "id": "view-in-github",
        "colab_type": "text"
      },
      "source": [
        "<a href=\"https://colab.research.google.com/github/Sidd-Shanmuhavel/Job-Search-Optimization-using-NLP/blob/master/Indeed_Job_Postings.ipynb\" target=\"_parent\"><img src=\"https://colab.research.google.com/assets/colab-badge.svg\" alt=\"Open In Colab\"/></a>"
      ]
    },
    {
      "cell_type": "code",
      "metadata": {
        "id": "LRagjAlHHoUH"
      },
      "source": [
        "import requests\n",
        "import bs4\n",
        "from bs4 import BeautifulSoup\n",
        "import pandas as pd\n",
        "import time\n",
        "import re"
      ],
      "execution_count": null,
      "outputs": []
    },
    {
      "cell_type": "code",
      "metadata": {
        "id": "UW6nG7L75WSX"
      },
      "source": [
        "url = \"https://ie.indeed.com/jobs?q={}\""
      ],
      "execution_count": null,
      "outputs": []
    },
    {
      "cell_type": "code",
      "metadata": {
        "id": "QNYDla9uVUwA"
      },
      "source": [
        "def user_search(role,url):\n",
        "  role_link = re.sub(\" \", \"+\", role)\n",
        "  #print(role_link)\n",
        "  URL = url.format(role_link)\n",
        "  print(URL)\n",
        "  #conducting a request of the stated URL above:\n",
        "  page = requests.get(URL)\n",
        "  #specifying a desired format of “page” using the html parser - this allows python to read the various components of the page, rather than treating it as one long string.\n",
        "  soup = BeautifulSoup(page.text, \"html.parser\")\n",
        "  #printing soup in a more structured tree format that makes for easier reading\n",
        "  #print(soup.prettify())\n",
        "  return soup"
      ],
      "execution_count": null,
      "outputs": []
    },
    {
      "cell_type": "code",
      "metadata": {
        "id": "FQBqLXRY5CGh",
        "outputId": "ceff1a9c-dc4c-4831-c755-b9498c27f309",
        "colab": {
          "base_uri": "https://localhost:8080/",
          "height": 35
        }
      },
      "source": [
        "soup = user_search('sql developer',url)"
      ],
      "execution_count": null,
      "outputs": [
        {
          "output_type": "stream",
          "text": [
            "https://ie.indeed.com/jobs?q=sql+developer\n"
          ],
          "name": "stdout"
        }
      ]
    },
    {
      "cell_type": "code",
      "metadata": {
        "id": "VMgYBDgDIdh3"
      },
      "source": [
        "def job_title(soup): \n",
        "  jobs = []\n",
        "  for div in soup.find_all(name=\"div\", attrs={\"class\":\"row\"}):\n",
        "    for a in div.find_all(name=\"a\", attrs={\"data-tn-element\":\"jobTitle\"}):\n",
        "      jobs.append(a[\"title\"])\n",
        "  return(jobs)"
      ],
      "execution_count": null,
      "outputs": []
    },
    {
      "cell_type": "code",
      "metadata": {
        "id": "cNlS1ET9O1Hh"
      },
      "source": [
        "def company(soup): \n",
        "  companies = []\n",
        "  for div in soup.find_all(name=\"div\", attrs={\"class\":\"row\"}):\n",
        "    company = div.find_all(name=\"span\", attrs={\"class\":\"company\"})\n",
        "    if len(company) > 0:\n",
        "      for b in company:\n",
        "        companies.append(b.text.strip())\n",
        "    else:\n",
        "      sec_try = div.find_all(name=\"span\", attrs={\"class\":\"result-link-source\"})\n",
        "      for span in sec_try:\n",
        "        companies.append(span.text.strip())\n",
        "  return(companies)"
      ],
      "execution_count": null,
      "outputs": []
    },
    {
      "cell_type": "code",
      "metadata": {
        "id": "6lIYcyVkPUos"
      },
      "source": [
        "def location(soup): \n",
        "  locations = []\n",
        "  spans = soup.findAll(\"span\", attrs={\"class\": \"location\"})\n",
        "  for span in spans:\n",
        "    locations.append(span.text)\n",
        "  return(locations)"
      ],
      "execution_count": null,
      "outputs": []
    },
    {
      "cell_type": "code",
      "metadata": {
        "id": "z7JyvB_pP_iQ"
      },
      "source": [
        "def extract_summary_from_result(soup): \n",
        "  summaries = []\n",
        "  spans = soup.findAll('div', attrs={'class': 'summary'})\n",
        "  for span in spans:\n",
        "    summaries.append(span.text.strip())\n",
        "  return(summaries)"
      ],
      "execution_count": null,
      "outputs": []
    },
    {
      "cell_type": "code",
      "metadata": {
        "id": "SoZP7bX8PhFt"
      },
      "source": [
        "def salary(soup): \n",
        "  salaries = []\n",
        "  try:\n",
        "    for div in soup.find_all(name=\"div\", attrs={\"class\":\"salarySnippet salarySnippetDemphasizeholisticSalary\"}):\n",
        "      #salaries.append(div.find('nobr').text)\n",
        "      #print(div)\n",
        "      spans = div.find_all(name=\"span\",attrs={\"class\":\"salaryText\"})\n",
        "      for span in spans:\n",
        "        print(span.text.strip())\n",
        "  except:\n",
        "    print(\"nothing\")\n",
        "  return(salaries)"
      ],
      "execution_count": null,
      "outputs": []
    },
    {
      "cell_type": "code",
      "metadata": {
        "id": "kA7Qyy18OhQi",
        "outputId": "3d2465c3-16cb-4000-9f14-fa84de547912",
        "colab": {
          "base_uri": "https://localhost:8080/",
          "height": 290
        }
      },
      "source": [
        "job_title(soup)"
      ],
      "execution_count": null,
      "outputs": [
        {
          "output_type": "execute_result",
          "data": {
            "text/plain": [
              "['SQL Developer- Contract',\n",
              " 'SQL Database Developer & Analyst',\n",
              " 'Senior SQL Server Developer',\n",
              " 'Pl/SQl Developer',\n",
              " 'SQL Developer Team Lead- Contract',\n",
              " 'BI Developer',\n",
              " 'Graduate software Developer/Data',\n",
              " 'BI Developer - Customer Support Insights Analyst',\n",
              " 'Power BI Developer',\n",
              " 'Database Developer',\n",
              " 'SQL Server DBA',\n",
              " 'BI Developer',\n",
              " 'Software Developer',\n",
              " 'IT ERP Developer',\n",
              " 'Application Developer (Remote Work)']"
            ]
          },
          "metadata": {
            "tags": []
          },
          "execution_count": 81
        }
      ]
    },
    {
      "cell_type": "code",
      "metadata": {
        "id": "DgKcYILVO9nW",
        "outputId": "c5562216-2005-4d68-bd1f-4b77103fa36f",
        "colab": {
          "base_uri": "https://localhost:8080/",
          "height": 290
        }
      },
      "source": [
        "company(soup)"
      ],
      "execution_count": null,
      "outputs": [
        {
          "output_type": "execute_result",
          "data": {
            "text/plain": [
              "['I.T. Alliance N.I. Ltd',\n",
              " 'PlaceMe',\n",
              " 'Version 1',\n",
              " 'Fiserv, Inc.',\n",
              " 'I.T. Alliance N.I. Ltd',\n",
              " 'Smartbox Group',\n",
              " 'IBM',\n",
              " 'Smartbox',\n",
              " 'Abbott Laboratories',\n",
              " 'AQMETRICS',\n",
              " 'Realex Payments',\n",
              " 'Ornua Co-operative Limited',\n",
              " 'Software Design',\n",
              " 'Ornua Co-operative Limited',\n",
              " 'UPS Ireland']"
            ]
          },
          "metadata": {
            "tags": []
          },
          "execution_count": 82
        }
      ]
    },
    {
      "cell_type": "code",
      "metadata": {
        "id": "gE8N0SSpPaqr",
        "outputId": "054ca344-4fdb-4246-862b-27a7244e79e7",
        "colab": {
          "base_uri": "https://localhost:8080/",
          "height": 290
        }
      },
      "source": [
        "location(soup)"
      ],
      "execution_count": null,
      "outputs": [
        {
          "output_type": "execute_result",
          "data": {
            "text/plain": [
              "['Dublin',\n",
              " 'Galway',\n",
              " 'Dublin',\n",
              " 'Nenagh, County Tipperary',\n",
              " 'Dublin',\n",
              " 'Dublin',\n",
              " 'Dublin',\n",
              " 'Dublin',\n",
              " 'Dublin',\n",
              " 'Maynooth, County Kildare',\n",
              " 'Dublin',\n",
              " 'Dublin',\n",
              " 'Dublin',\n",
              " 'Dublin',\n",
              " 'Finglas, County Dublin']"
            ]
          },
          "metadata": {
            "tags": []
          },
          "execution_count": 83
        }
      ]
    },
    {
      "cell_type": "code",
      "metadata": {
        "id": "aa4jgjb-Qg3a",
        "outputId": "b291c409-9e9f-486a-8fc5-322159afae58",
        "colab": {
          "base_uri": "https://localhost:8080/",
          "height": 290
        }
      },
      "source": [
        "extract_summary_from_result(soup)"
      ],
      "execution_count": null,
      "outputs": [
        {
          "output_type": "execute_result",
          "data": {
            "text/plain": [
              "['SQL Developer required for a 3-6 month contract.\\nRole will primarily be remote working but the client is Dublin based.\\nDeploy dashboards/reports to production.',\n",
              " 'Needs to be proficient at analysing Information.\\nNeeds to have excellent SQL Server database development & administration skills including T-SQL, Stored…',\n",
              " 'We pledge \"to prove IT can make a real difference to our customer\\'s businesses\".\\nWe work hard to ensure we understand what our customers need from their…',\n",
              " 'We are looking for a senior application developer to develop PLSQL and Java software on our core Merchant Acquiring platform.\\nBuild and deploy new services.',\n",
              " 'This is a technical leadership position and the selected candidate will need to be capable of both supporting developers to solve problems and also contribute…',\n",
              " 'Inspire people to experience life.\\nThat’s what Smartbox Group is all about.\\nWe’re the leading and fastest growing experience gift company in Europe with the…',\n",
              " 'These teams typically include software developers, data scientists, product managers, and end users.\\nWe are looking for creative, energetic developers to work…',\n",
              " 'Inspire people to experience life.\\nThat’s what Smartbox Group is all about.\\nWe’re the leading and fastest growing experience gift company in Europe with the…',\n",
              " 'Abbott serves the Irish market with a diverse range of health care products including diagnostics, medical devices and nutritionals products.',\n",
              " 'We are looking for someone with deep database technology experience.\\nYou must be flexible and motivated to work in a scaling SaaS company.',\n",
              " 'Our culture is all about innovation; you’ll work with network engineers, system administrators, software developers and project managers on the launch of new…',\n",
              " 'Minimum five years’ experience in similar BI analyst, developer or data analytical role.\\nOrnua – The Home of Irish Dairy and KERRYGOLD, is an agri-food…',\n",
              " 'We are looking for talented software developers to join our growing and diverse team.\\nThis role is for somebody who can jump straight into development for a…',\n",
              " 'Minimum 5+ years of experience in technical design/developer role.\\nInfor M3 v13.x MAK development (Infor certified developer).',\n",
              " \"We are UPS, the world's largest package delivery company and we are looking for enthusiastic, talented and ambitious full stack developers in Dublin, Ireland to…\"]"
            ]
          },
          "metadata": {
            "tags": []
          },
          "execution_count": 84
        }
      ]
    },
    {
      "cell_type": "code",
      "metadata": {
        "id": "Bwp09hVO6r0b",
        "outputId": "4791ed06-7f75-48f8-a8af-f59ae7ebce7c",
        "colab": {
          "base_uri": "https://localhost:8080/",
          "height": 35
        }
      },
      "source": [
        ""
      ],
      "execution_count": null,
      "outputs": [
        {
          "output_type": "execute_result",
          "data": {
            "text/plain": [
              "[]"
            ]
          },
          "metadata": {
            "tags": []
          },
          "execution_count": 85
        }
      ]
    },
    {
      "cell_type": "code",
      "metadata": {
        "id": "yQTXJOd3BO72"
      },
      "source": [
        ""
      ],
      "execution_count": null,
      "outputs": []
    }
  ]
}