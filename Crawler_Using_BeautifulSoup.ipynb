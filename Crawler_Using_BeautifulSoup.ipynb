{
 "cells": [
  {
   "cell_type": "code",
   "execution_count": 1,
   "metadata": {},
   "outputs": [],
   "source": [
    "from bs4 import BeautifulSoup"
   ]
  },
  {
   "cell_type": "code",
   "execution_count": 3,
   "metadata": {},
   "outputs": [],
   "source": [
    "import requests"
   ]
  },
  {
   "cell_type": "code",
   "execution_count": 48,
   "metadata": {},
   "outputs": [],
   "source": [
    "import csv"
   ]
  },
  {
   "cell_type": "code",
   "execution_count": 4,
   "metadata": {},
   "outputs": [],
   "source": [
    "with open('simple.html') as html_file:\n",
    "    soup = BeautifulSoup(html_file,'lxml')"
   ]
  },
  {
   "cell_type": "code",
   "execution_count": 5,
   "metadata": {},
   "outputs": [],
   "source": [
    "match = soup.find('div', class_='footer')"
   ]
  },
  {
   "cell_type": "code",
   "execution_count": 6,
   "metadata": {},
   "outputs": [
    {
     "name": "stdout",
     "output_type": "stream",
     "text": [
      "<div class=\"footer\">\n",
      "<p>Footer Information</p>\n",
      "</div>\n"
     ]
    }
   ],
   "source": [
    "print(match)"
   ]
  },
  {
   "cell_type": "code",
   "execution_count": 8,
   "metadata": {},
   "outputs": [
    {
     "data": {
      "text/plain": [
       "<div class=\"article\">\n",
       "<h2><a href=\"article_1.html\">Article 1 Headline</a></h2>\n",
       "<p>This is a summary of article 1</p>\n",
       "</div>"
      ]
     },
     "execution_count": 8,
     "metadata": {},
     "output_type": "execute_result"
    }
   ],
   "source": [
    "article = soup.find(\"div\",class_='article')\n",
    "article"
   ]
  },
  {
   "cell_type": "code",
   "execution_count": 10,
   "metadata": {},
   "outputs": [
    {
     "data": {
      "text/plain": [
       "'Article 1 Headline'"
      ]
     },
     "execution_count": 10,
     "metadata": {},
     "output_type": "execute_result"
    }
   ],
   "source": [
    "headline = article.h2.a.text\n",
    "headline"
   ]
  },
  {
   "cell_type": "code",
   "execution_count": 12,
   "metadata": {},
   "outputs": [
    {
     "data": {
      "text/plain": [
       "'This is a summary of article 1'"
      ]
     },
     "execution_count": 12,
     "metadata": {},
     "output_type": "execute_result"
    }
   ],
   "source": [
    "summary = article.p.text\n",
    "summary"
   ]
  },
  {
   "cell_type": "code",
   "execution_count": 13,
   "metadata": {},
   "outputs": [
    {
     "name": "stdout",
     "output_type": "stream",
     "text": [
      "Article 1 Headline\n",
      "This is a summary of article 1\n",
      "\n",
      "Article 2 Headline\n",
      "This is a summary of article 2\n",
      "\n"
     ]
    }
   ],
   "source": [
    "for article in soup.find_all('div',class_ = 'article'):\n",
    "    headline = article.h2.a.text\n",
    "    print(headline)\n",
    "    \n",
    "    summary = article.p.text\n",
    "    print(summary)\n",
    "    \n",
    "    print()"
   ]
  },
  {
   "cell_type": "code",
   "execution_count": null,
   "metadata": {},
   "outputs": [],
   "source": []
  },
  {
   "cell_type": "code",
   "execution_count": 14,
   "metadata": {},
   "outputs": [],
   "source": [
    "source = requests.get(\"http://coreyms.com\").text"
   ]
  },
  {
   "cell_type": "code",
   "execution_count": 42,
   "metadata": {},
   "outputs": [],
   "source": [
    "soup = BeautifulSoup(source,'lxml')\n",
    "#print(soup.prettify())"
   ]
  },
  {
   "cell_type": "code",
   "execution_count": 28,
   "metadata": {},
   "outputs": [],
   "source": [
    "article = soup.find('article')\n",
    "#print(article.prettify())"
   ]
  },
  {
   "cell_type": "code",
   "execution_count": 34,
   "metadata": {},
   "outputs": [
    {
     "data": {
      "text/plain": [
       "'Python Tutorial: Zip Files – Creating and Extracting Zip Archives'"
      ]
     },
     "execution_count": 34,
     "metadata": {},
     "output_type": "execute_result"
    }
   ],
   "source": [
    "headline = article.a.text\n",
    "headline"
   ]
  },
  {
   "cell_type": "code",
   "execution_count": 35,
   "metadata": {},
   "outputs": [
    {
     "data": {
      "text/plain": [
       "'In this video, we will be learning how to create and extract zip archives. We will start by using the zipfile module, and then we will see how to do this using the shutil module. We will learn how to do this with single files and directories, as well as learning how to use gzip as well. Let’s get started…'"
      ]
     },
     "execution_count": 35,
     "metadata": {},
     "output_type": "execute_result"
    }
   ],
   "source": [
    "summary = article.find('div',class_='entry-content').p.text\n",
    "summary"
   ]
  },
  {
   "cell_type": "code",
   "execution_count": 36,
   "metadata": {},
   "outputs": [
    {
     "data": {
      "text/plain": [
       "'https://www.youtube.com/embed/z0gguhEmWiY?version=3&rel=1&fs=1&autohide=2&showsearch=0&showinfo=1&iv_load_policy=1&wmode=transparent'"
      ]
     },
     "execution_count": 36,
     "metadata": {},
     "output_type": "execute_result"
    }
   ],
   "source": [
    "# Parse the link like a dictionary using the keys!!\n",
    "video_source = article.find('iframe',class_='youtube-player')['src']\n",
    "video_source"
   ]
  },
  {
   "cell_type": "code",
   "execution_count": 37,
   "metadata": {},
   "outputs": [
    {
     "data": {
      "text/plain": [
       "'z0gguhEmWiY?version=3&rel=1&fs=1&autohide=2&showsearch=0&showinfo=1&iv_load_policy=1&wmode=transparent'"
      ]
     },
     "execution_count": 37,
     "metadata": {},
     "output_type": "execute_result"
    }
   ],
   "source": [
    "video_id = video_source.split('/')[4]\n",
    "video_id"
   ]
  },
  {
   "cell_type": "code",
   "execution_count": 39,
   "metadata": {},
   "outputs": [
    {
     "data": {
      "text/plain": [
       "'z0gguhEmWiY'"
      ]
     },
     "execution_count": 39,
     "metadata": {},
     "output_type": "execute_result"
    }
   ],
   "source": [
    "#This is the video ID of the youtube video\n",
    "video_id = video_id.split('?')[0]\n",
    "video_id"
   ]
  },
  {
   "cell_type": "code",
   "execution_count": 41,
   "metadata": {},
   "outputs": [
    {
     "data": {
      "text/plain": [
       "'https://youtube.com/watch?v=z0gguhEmWiY'"
      ]
     },
     "execution_count": 41,
     "metadata": {},
     "output_type": "execute_result"
    }
   ],
   "source": [
    "youtube_link = f'https://youtube.com/watch?v={video_id}'\n",
    "youtube_link"
   ]
  },
  {
   "cell_type": "code",
   "execution_count": 45,
   "metadata": {
    "scrolled": true
   },
   "outputs": [
    {
     "name": "stdout",
     "output_type": "stream",
     "text": [
      "Python Tutorial: Zip Files – Creating and Extracting Zip Archives\n",
      "In this video, we will be learning how to create and extract zip archives. We will start by using the zipfile module, and then we will see how to do this using the shutil module. We will learn how to do this with single files and directories, as well as learning how to use gzip as well. Let’s get started…\n",
      "https://youtube.com/watch?v=z0gguhEmWiY\n",
      "\n",
      "Python Data Science Tutorial: Analyzing the 2019 Stack Overflow Developer Survey\n",
      "In this Python Programming video, we will be learning how to download and analyze real-world data from the 2019 Stack Overflow Developer Survey. This is terrific practice for anyone getting into the data science field. We will learn different ways to analyze this data and also some best practices. Let’s get started…\n",
      "https://youtube.com/watch?v=_P7X8tMplsw\n",
      "\n",
      "Python Multiprocessing Tutorial: Run Code in Parallel Using the Multiprocessing Module\n",
      "In this Python Programming video, we will be learning how to run code in parallel using the multiprocessing module. We will also look at how to process multiple high-resolution images at the same time using a ProcessPoolExecutor from the concurrent.futures module. Let’s get started…\n",
      "https://youtube.com/watch?v=fKl2JW_qrso\n",
      "\n",
      "Python Threading Tutorial: Run Code Concurrently Using the Threading Module\n",
      "In this Python Programming video, we will be learning how to run threads concurrently using the threading module. We will also look at how to download multiple high-resolution images online using a ThreadPoolExecutor from the concurrent.futures module. Let’s get started…\n",
      "https://youtube.com/watch?v=IEEhzQoKtQU\n",
      "\n",
      "Update (2019-09-03)\n",
      "Hey everyone. I wanted to give you an update on my videos. I will be releasing videos on threading and multiprocessing within the next week. Thanks so much for your patience. I currently have a temporary recording studio setup at my Airbnb that will allow me to record and edit the threading/multiprocessing videos. I am going to be moving into my new house in 10 days and once I have my recording studio setup then you can expect much faster video releases. I really appreciate how patient everyone has been while I go through this move, especially those of you who are contributing monthly through YouTube \n"
     ]
    },
    {
     "ename": "TypeError",
     "evalue": "'NoneType' object is not subscriptable",
     "output_type": "error",
     "traceback": [
      "\u001b[1;31m---------------------------------------------------------------------------\u001b[0m",
      "\u001b[1;31mTypeError\u001b[0m                                 Traceback (most recent call last)",
      "\u001b[1;32m<ipython-input-45-e6d165187115>\u001b[0m in \u001b[0;36m<module>\u001b[1;34m\u001b[0m\n\u001b[0;32m      7\u001b[0m     \u001b[0mprint\u001b[0m\u001b[1;33m(\u001b[0m\u001b[0msummary\u001b[0m\u001b[1;33m)\u001b[0m\u001b[1;33m\u001b[0m\u001b[1;33m\u001b[0m\u001b[0m\n\u001b[0;32m      8\u001b[0m \u001b[1;33m\u001b[0m\u001b[0m\n\u001b[1;32m----> 9\u001b[1;33m     \u001b[0mvideo_source\u001b[0m \u001b[1;33m=\u001b[0m \u001b[0marticle\u001b[0m\u001b[1;33m.\u001b[0m\u001b[0mfind\u001b[0m\u001b[1;33m(\u001b[0m\u001b[1;34m'iframe'\u001b[0m\u001b[1;33m,\u001b[0m\u001b[0mclass_\u001b[0m\u001b[1;33m=\u001b[0m\u001b[1;34m'youtube-player'\u001b[0m\u001b[1;33m)\u001b[0m\u001b[1;33m[\u001b[0m\u001b[1;34m'src'\u001b[0m\u001b[1;33m]\u001b[0m\u001b[1;33m\u001b[0m\u001b[1;33m\u001b[0m\u001b[0m\n\u001b[0m\u001b[0;32m     10\u001b[0m     \u001b[0mvideo_id\u001b[0m \u001b[1;33m=\u001b[0m \u001b[0mvideo_source\u001b[0m\u001b[1;33m.\u001b[0m\u001b[0msplit\u001b[0m\u001b[1;33m(\u001b[0m\u001b[1;34m'/'\u001b[0m\u001b[1;33m)\u001b[0m\u001b[1;33m[\u001b[0m\u001b[1;36m4\u001b[0m\u001b[1;33m]\u001b[0m\u001b[1;33m\u001b[0m\u001b[1;33m\u001b[0m\u001b[0m\n\u001b[0;32m     11\u001b[0m     \u001b[0mvideo_id\u001b[0m \u001b[1;33m=\u001b[0m \u001b[0mvideo_id\u001b[0m\u001b[1;33m.\u001b[0m\u001b[0msplit\u001b[0m\u001b[1;33m(\u001b[0m\u001b[1;34m'?'\u001b[0m\u001b[1;33m)\u001b[0m\u001b[1;33m[\u001b[0m\u001b[1;36m0\u001b[0m\u001b[1;33m]\u001b[0m\u001b[1;33m\u001b[0m\u001b[1;33m\u001b[0m\u001b[0m\n",
      "\u001b[1;31mTypeError\u001b[0m: 'NoneType' object is not subscriptable"
     ]
    }
   ],
   "source": [
    "# Scrapping details for all the articles\n",
    "for article in soup.find_all('article'):\n",
    "    headline = article.a.text\n",
    "    print(headline)\n",
    "    \n",
    "    summary = article.find('div',class_='entry-content').p.text\n",
    "    print(summary)\n",
    "    \n",
    "    video_source = article.find('iframe',class_='youtube-player')['src']\n",
    "    video_id = video_source.split('/')[4]\n",
    "    video_id = video_id.split('?')[0]\n",
    "    \n",
    "    youtube_link = f'https://youtube.com/watch?v={video_id}'\n",
    "    print(youtube_link)\n",
    "    \n",
    "    print()"
   ]
  },
  {
   "cell_type": "code",
   "execution_count": null,
   "metadata": {},
   "outputs": [],
   "source": [
    "#It throws an error because one link is not found. So now we'll try to fix this"
   ]
  },
  {
   "cell_type": "code",
   "execution_count": null,
   "metadata": {},
   "outputs": [],
   "source": []
  },
  {
   "cell_type": "code",
   "execution_count": 46,
   "metadata": {},
   "outputs": [
    {
     "name": "stdout",
     "output_type": "stream",
     "text": [
      "Python Tutorial: Zip Files – Creating and Extracting Zip Archives\n",
      "In this video, we will be learning how to create and extract zip archives. We will start by using the zipfile module, and then we will see how to do this using the shutil module. We will learn how to do this with single files and directories, as well as learning how to use gzip as well. Let’s get started…\n",
      "https://youtube.com/watch?v=z0gguhEmWiY\n",
      "\n",
      "Python Data Science Tutorial: Analyzing the 2019 Stack Overflow Developer Survey\n",
      "In this Python Programming video, we will be learning how to download and analyze real-world data from the 2019 Stack Overflow Developer Survey. This is terrific practice for anyone getting into the data science field. We will learn different ways to analyze this data and also some best practices. Let’s get started…\n",
      "https://youtube.com/watch?v=_P7X8tMplsw\n",
      "\n",
      "Python Multiprocessing Tutorial: Run Code in Parallel Using the Multiprocessing Module\n",
      "In this Python Programming video, we will be learning how to run code in parallel using the multiprocessing module. We will also look at how to process multiple high-resolution images at the same time using a ProcessPoolExecutor from the concurrent.futures module. Let’s get started…\n",
      "https://youtube.com/watch?v=fKl2JW_qrso\n",
      "\n",
      "Python Threading Tutorial: Run Code Concurrently Using the Threading Module\n",
      "In this Python Programming video, we will be learning how to run threads concurrently using the threading module. We will also look at how to download multiple high-resolution images online using a ThreadPoolExecutor from the concurrent.futures module. Let’s get started…\n",
      "https://youtube.com/watch?v=IEEhzQoKtQU\n",
      "\n",
      "Update (2019-09-03)\n",
      "Hey everyone. I wanted to give you an update on my videos. I will be releasing videos on threading and multiprocessing within the next week. Thanks so much for your patience. I currently have a temporary recording studio setup at my Airbnb that will allow me to record and edit the threading/multiprocessing videos. I am going to be moving into my new house in 10 days and once I have my recording studio setup then you can expect much faster video releases. I really appreciate how patient everyone has been while I go through this move, especially those of you who are contributing monthly through YouTube \n",
      "None\n",
      "\n",
      "Python Quick Tip: The Difference Between “==” and “is” (Equality vs Identity)\n",
      "In this Python Programming Tutorial, we will be learning the difference between using “==” and the “is” keyword when doing comparisons. The difference between these is that “==” checks to see if values are equal, and the “is” keyword checks their identity, which means it’s going to check if the values are identical in terms of being the same object in memory. We’ll learn more in the video. Let’s get started…\n",
      "https://youtube.com/watch?v=mO_dS3rXDIs\n",
      "\n",
      "Python Tutorial: Calling External Commands Using the Subprocess Module\n",
      "In this Python Programming Tutorial, we will be learning how to run external commands using the subprocess module from the standard library. We will learn how to run commands, capture the output, handle errors, and also how to pipe output into other commands. Let’s get started…\n",
      "https://youtube.com/watch?v=2Fp1N6dof0Y\n",
      "\n",
      "Visual Studio Code (Windows) – Setting up a Python Development Environment and Complete Overview\n",
      "In this Python Programming Tutorial, we will be learning how to set up a Python development environment in VSCode on Windows. VSCode is a very nice free editor for writing Python applications and many developers are now switching over to this editor. In this video, we will learn how to install VSCode, get the Python extension installed, how to change Python interpreters, create virtual environments, format/lint our code, how to use Git within VSCode, how to debug our programs, how unit testing works, and more. We have a lot to cover, so let’s go ahead and get started…\n",
      "https://youtube.com/watch?v=-nh9rCzPJ20\n",
      "\n",
      "Visual Studio Code (Mac) – Setting up a Python Development Environment and Complete Overview\n",
      "In this Python Programming Tutorial, we will be learning how to set up a Python development environment in VSCode on MacOS. VSCode is a very nice free editor for writing Python applications and many developers are now switching over to this editor. In this video, we will learn how to install VSCode, get the Python extension installed, how to change Python interpreters, create virtual environments, format/lint our code, how to use Git within VSCode, how to debug our programs, how unit testing works, and more. We have a lot to cover, so let’s go ahead and get started…\n",
      "https://youtube.com/watch?v=06I63_p-2A4\n",
      "\n",
      "Clarifying the Issues with Mutable Default Arguments\n",
      "In this Python Programming Tutorial, we will be clarifying the issues with mutable default arguments. We discussed this in my last video titled “5 Common Python Mistakes and How to Fix Them”, but I received many comments from people who were still confused. So we will be doing a deeper dive to explain exactly what is going on here. Let’s get started…\n",
      "https://youtube.com/watch?v=_JGmemuINww\n",
      "\n"
     ]
    }
   ],
   "source": [
    "# Adding Try Catch Block to escape for any exceptions!\n",
    "for article in soup.find_all('article'):\n",
    "    headline = article.a.text\n",
    "    print(headline)\n",
    "    \n",
    "    summary = article.find('div',class_='entry-content').p.text\n",
    "    print(summary)\n",
    "    \n",
    "    try:\n",
    "        video_source = article.find('iframe',class_='youtube-player')['src']\n",
    "        video_id = video_source.split('/')[4]\n",
    "        video_id = video_id.split('?')[0]\n",
    "\n",
    "        youtube_link = f'https://youtube.com/watch?v={video_id}'\n",
    "     \n",
    "    except Exception as e:\n",
    "        youtube_link = None\n",
    "    \n",
    "    print(youtube_link)\n",
    "    \n",
    "    print()"
   ]
  },
  {
   "cell_type": "code",
   "execution_count": 49,
   "metadata": {},
   "outputs": [
    {
     "name": "stdout",
     "output_type": "stream",
     "text": [
      "Python Tutorial: Zip Files – Creating and Extracting Zip Archives\n",
      "In this video, we will be learning how to create and extract zip archives. We will start by using the zipfile module, and then we will see how to do this using the shutil module. We will learn how to do this with single files and directories, as well as learning how to use gzip as well. Let’s get started…\n",
      "https://youtube.com/watch?v=z0gguhEmWiY\n",
      "\n",
      "Python Data Science Tutorial: Analyzing the 2019 Stack Overflow Developer Survey\n",
      "In this Python Programming video, we will be learning how to download and analyze real-world data from the 2019 Stack Overflow Developer Survey. This is terrific practice for anyone getting into the data science field. We will learn different ways to analyze this data and also some best practices. Let’s get started…\n",
      "https://youtube.com/watch?v=_P7X8tMplsw\n",
      "\n",
      "Python Multiprocessing Tutorial: Run Code in Parallel Using the Multiprocessing Module\n",
      "In this Python Programming video, we will be learning how to run code in parallel using the multiprocessing module. We will also look at how to process multiple high-resolution images at the same time using a ProcessPoolExecutor from the concurrent.futures module. Let’s get started…\n",
      "https://youtube.com/watch?v=fKl2JW_qrso\n",
      "\n",
      "Python Threading Tutorial: Run Code Concurrently Using the Threading Module\n",
      "In this Python Programming video, we will be learning how to run threads concurrently using the threading module. We will also look at how to download multiple high-resolution images online using a ThreadPoolExecutor from the concurrent.futures module. Let’s get started…\n",
      "https://youtube.com/watch?v=IEEhzQoKtQU\n",
      "\n",
      "Update (2019-09-03)\n",
      "Hey everyone. I wanted to give you an update on my videos. I will be releasing videos on threading and multiprocessing within the next week. Thanks so much for your patience. I currently have a temporary recording studio setup at my Airbnb that will allow me to record and edit the threading/multiprocessing videos. I am going to be moving into my new house in 10 days and once I have my recording studio setup then you can expect much faster video releases. I really appreciate how patient everyone has been while I go through this move, especially those of you who are contributing monthly through YouTube \n",
      "None\n",
      "\n",
      "Python Quick Tip: The Difference Between “==” and “is” (Equality vs Identity)\n",
      "In this Python Programming Tutorial, we will be learning the difference between using “==” and the “is” keyword when doing comparisons. The difference between these is that “==” checks to see if values are equal, and the “is” keyword checks their identity, which means it’s going to check if the values are identical in terms of being the same object in memory. We’ll learn more in the video. Let’s get started…\n",
      "https://youtube.com/watch?v=mO_dS3rXDIs\n",
      "\n",
      "Python Tutorial: Calling External Commands Using the Subprocess Module\n",
      "In this Python Programming Tutorial, we will be learning how to run external commands using the subprocess module from the standard library. We will learn how to run commands, capture the output, handle errors, and also how to pipe output into other commands. Let’s get started…\n",
      "https://youtube.com/watch?v=2Fp1N6dof0Y\n",
      "\n",
      "Visual Studio Code (Windows) – Setting up a Python Development Environment and Complete Overview\n",
      "In this Python Programming Tutorial, we will be learning how to set up a Python development environment in VSCode on Windows. VSCode is a very nice free editor for writing Python applications and many developers are now switching over to this editor. In this video, we will learn how to install VSCode, get the Python extension installed, how to change Python interpreters, create virtual environments, format/lint our code, how to use Git within VSCode, how to debug our programs, how unit testing works, and more. We have a lot to cover, so let’s go ahead and get started…\n",
      "https://youtube.com/watch?v=-nh9rCzPJ20\n",
      "\n",
      "Visual Studio Code (Mac) – Setting up a Python Development Environment and Complete Overview\n",
      "In this Python Programming Tutorial, we will be learning how to set up a Python development environment in VSCode on MacOS. VSCode is a very nice free editor for writing Python applications and many developers are now switching over to this editor. In this video, we will learn how to install VSCode, get the Python extension installed, how to change Python interpreters, create virtual environments, format/lint our code, how to use Git within VSCode, how to debug our programs, how unit testing works, and more. We have a lot to cover, so let’s go ahead and get started…\n",
      "https://youtube.com/watch?v=06I63_p-2A4\n",
      "\n",
      "Clarifying the Issues with Mutable Default Arguments\n",
      "In this Python Programming Tutorial, we will be clarifying the issues with mutable default arguments. We discussed this in my last video titled “5 Common Python Mistakes and How to Fix Them”, but I received many comments from people who were still confused. So we will be doing a deeper dive to explain exactly what is going on here. Let’s get started…\n",
      "https://youtube.com/watch?v=_JGmemuINww\n",
      "\n"
     ]
    }
   ],
   "source": [
    "#Saving the scrapped data into a csv file\n",
    "csv_file = open('cm_scrape.csv','w')\n",
    "csv_writer = csv.writer(csv_file)\n",
    "csv_writer.writerow(['headline','summary','videoLink'])\n",
    "\n",
    "for article in soup.find_all('article'):\n",
    "    headline = article.a.text\n",
    "    print(headline)\n",
    "    \n",
    "    summary = article.find('div',class_='entry-content').p.text\n",
    "    print(summary)\n",
    "    \n",
    "    try:\n",
    "        video_source = article.find('iframe',class_='youtube-player')['src']\n",
    "        video_id = video_source.split('/')[4]\n",
    "        video_id = video_id.split('?')[0]\n",
    "\n",
    "        youtube_link = f'https://youtube.com/watch?v={video_id}'\n",
    "     \n",
    "    except Exception as e:\n",
    "        youtube_link = None\n",
    "    \n",
    "    print(youtube_link)\n",
    "    \n",
    "    print()\n",
    "    \n",
    "    csv_writer.writerow([headline,summary,youtube_link])\n",
    "\n",
    "csv_file.close()"
   ]
  },
  {
   "cell_type": "code",
   "execution_count": null,
   "metadata": {},
   "outputs": [],
   "source": []
  }
 ],
 "metadata": {
  "kernelspec": {
   "display_name": "Python 3",
   "language": "python",
   "name": "python3"
  },
  "language_info": {
   "codemirror_mode": {
    "name": "ipython",
    "version": 3
   },
   "file_extension": ".py",
   "mimetype": "text/x-python",
   "name": "python",
   "nbconvert_exporter": "python",
   "pygments_lexer": "ipython3",
   "version": "3.7.4"
  }
 },
 "nbformat": 4,
 "nbformat_minor": 2
}
