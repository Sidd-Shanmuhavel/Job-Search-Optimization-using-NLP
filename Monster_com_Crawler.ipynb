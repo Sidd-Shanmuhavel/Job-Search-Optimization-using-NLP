{
  "nbformat": 4,
  "nbformat_minor": 0,
  "metadata": {
    "kernelspec": {
      "display_name": "Python 3",
      "language": "python",
      "name": "python3"
    },
    "language_info": {
      "codemirror_mode": {
        "name": "ipython",
        "version": 3
      },
      "file_extension": ".py",
      "mimetype": "text/x-python",
      "name": "python",
      "nbconvert_exporter": "python",
      "pygments_lexer": "ipython3",
      "version": "3.7.4"
    },
    "colab": {
      "name": "Monster.com_Crawler.ipynb",
      "provenance": [],
      "collapsed_sections": [],
      "include_colab_link": true
    },
    "accelerator": "GPU"
  },
  "cells": [
    {
      "cell_type": "markdown",
      "metadata": {
        "id": "view-in-github",
        "colab_type": "text"
      },
      "source": [
        "<a href=\"https://colab.research.google.com/github/Sidd-Shanmuhavel/Job-Search-Optimization-using-NLP/blob/master/Monster_com_Crawler.ipynb\" target=\"_parent\"><img src=\"https://colab.research.google.com/assets/colab-badge.svg\" alt=\"Open In Colab\"/></a>"
      ]
    },
    {
      "cell_type": "code",
      "metadata": {
        "id": "dfvjsTEFBfwS",
        "colab_type": "code",
        "colab": {}
      },
      "source": [
        "from bs4 import BeautifulSoup\n",
        "import csv\n",
        "import json\n",
        "import requests\n",
        "import pandas as pd\n",
        "import math\n",
        "import os\n",
        "import shutil"
      ],
      "execution_count": null,
      "outputs": []
    },
    {
      "cell_type": "code",
      "metadata": {
        "id": "N2QBAMPWR2rd",
        "colab_type": "code",
        "colab": {}
      },
      "source": [
        "import urllib"
      ],
      "execution_count": null,
      "outputs": []
    },
    {
      "cell_type": "code",
      "metadata": {
        "id": "Rit0zpUZQwhc",
        "colab_type": "code",
        "colab": {
          "base_uri": "https://localhost:8080/",
          "height": 237
        },
        "outputId": "267b37ef-41c9-4321-a5c8-e3a8d241af7a"
      },
      "source": [
        "!pip install justext\n",
        "!pip install unidecode"
      ],
      "execution_count": null,
      "outputs": [
        {
          "output_type": "stream",
          "text": [
            "Collecting justext\n",
            "\u001b[?25l  Downloading https://files.pythonhosted.org/packages/6c/5f/c7b909b4b864ebcacfac23ce2f6f01a50c53628787cc14b3c06f79464cab/jusText-2.2.0-py2.py3-none-any.whl (860kB)\n",
            "\r\u001b[K     |▍                               | 10kB 28.3MB/s eta 0:00:01\r\u001b[K     |▊                               | 20kB 3.1MB/s eta 0:00:01\r\u001b[K     |█▏                              | 30kB 4.2MB/s eta 0:00:01\r\u001b[K     |█▌                              | 40kB 3.2MB/s eta 0:00:01\r\u001b[K     |██                              | 51kB 3.9MB/s eta 0:00:01\r\u001b[K     |██▎                             | 61kB 4.4MB/s eta 0:00:01\r\u001b[K     |██▋                             | 71kB 4.7MB/s eta 0:00:01\r\u001b[K     |███                             | 81kB 5.2MB/s eta 0:00:01\r\u001b[K     |███▍                            | 92kB 5.6MB/s eta 0:00:01\r\u001b[K     |███▉                            | 102kB 5.4MB/s eta 0:00:01\r\u001b[K     |████▏                           | 112kB 5.4MB/s eta 0:00:01\r\u001b[K     |████▋                           | 122kB 5.4MB/s eta 0:00:01\r\u001b[K     |█████                           | 133kB 5.4MB/s eta 0:00:01\r\u001b[K     |█████▎                          | 143kB 5.4MB/s eta 0:00:01\r\u001b[K     |█████▊                          | 153kB 5.4MB/s eta 0:00:01\r\u001b[K     |██████                          | 163kB 5.4MB/s eta 0:00:01\r\u001b[K     |██████▌                         | 174kB 5.4MB/s eta 0:00:01\r\u001b[K     |██████▉                         | 184kB 5.4MB/s eta 0:00:01\r\u001b[K     |███████▎                        | 194kB 5.4MB/s eta 0:00:01\r\u001b[K     |███████▋                        | 204kB 5.4MB/s eta 0:00:01\r\u001b[K     |████████                        | 215kB 5.4MB/s eta 0:00:01\r\u001b[K     |████████▍                       | 225kB 5.4MB/s eta 0:00:01\r\u001b[K     |████████▊                       | 235kB 5.4MB/s eta 0:00:01\r\u001b[K     |█████████▏                      | 245kB 5.4MB/s eta 0:00:01\r\u001b[K     |█████████▌                      | 256kB 5.4MB/s eta 0:00:01\r\u001b[K     |██████████                      | 266kB 5.4MB/s eta 0:00:01\r\u001b[K     |██████████▎                     | 276kB 5.4MB/s eta 0:00:01\r\u001b[K     |██████████▋                     | 286kB 5.4MB/s eta 0:00:01\r\u001b[K     |███████████                     | 296kB 5.4MB/s eta 0:00:01\r\u001b[K     |███████████▍                    | 307kB 5.4MB/s eta 0:00:01\r\u001b[K     |███████████▉                    | 317kB 5.4MB/s eta 0:00:01\r\u001b[K     |████████████▏                   | 327kB 5.4MB/s eta 0:00:01\r\u001b[K     |████████████▋                   | 337kB 5.4MB/s eta 0:00:01\r\u001b[K     |█████████████                   | 348kB 5.4MB/s eta 0:00:01\r\u001b[K     |█████████████▎                  | 358kB 5.4MB/s eta 0:00:01\r\u001b[K     |█████████████▊                  | 368kB 5.4MB/s eta 0:00:01\r\u001b[K     |██████████████                  | 378kB 5.4MB/s eta 0:00:01\r\u001b[K     |██████████████▌                 | 389kB 5.4MB/s eta 0:00:01\r\u001b[K     |██████████████▉                 | 399kB 5.4MB/s eta 0:00:01\r\u001b[K     |███████████████▎                | 409kB 5.4MB/s eta 0:00:01\r\u001b[K     |███████████████▋                | 419kB 5.4MB/s eta 0:00:01\r\u001b[K     |████████████████                | 430kB 5.4MB/s eta 0:00:01\r\u001b[K     |████████████████▍               | 440kB 5.4MB/s eta 0:00:01\r\u001b[K     |████████████████▊               | 450kB 5.4MB/s eta 0:00:01\r\u001b[K     |█████████████████▏              | 460kB 5.4MB/s eta 0:00:01\r\u001b[K     |█████████████████▌              | 471kB 5.4MB/s eta 0:00:01\r\u001b[K     |██████████████████              | 481kB 5.4MB/s eta 0:00:01\r\u001b[K     |██████████████████▎             | 491kB 5.4MB/s eta 0:00:01\r\u001b[K     |██████████████████▋             | 501kB 5.4MB/s eta 0:00:01\r\u001b[K     |███████████████████             | 512kB 5.4MB/s eta 0:00:01\r\u001b[K     |███████████████████▍            | 522kB 5.4MB/s eta 0:00:01\r\u001b[K     |███████████████████▉            | 532kB 5.4MB/s eta 0:00:01\r\u001b[K     |████████████████████▏           | 542kB 5.4MB/s eta 0:00:01\r\u001b[K     |████████████████████▋           | 552kB 5.4MB/s eta 0:00:01\r\u001b[K     |█████████████████████           | 563kB 5.4MB/s eta 0:00:01\r\u001b[K     |█████████████████████▎          | 573kB 5.4MB/s eta 0:00:01\r\u001b[K     |█████████████████████▊          | 583kB 5.4MB/s eta 0:00:01\r\u001b[K     |██████████████████████          | 593kB 5.4MB/s eta 0:00:01\r\u001b[K     |██████████████████████▌         | 604kB 5.4MB/s eta 0:00:01\r\u001b[K     |██████████████████████▉         | 614kB 5.4MB/s eta 0:00:01\r\u001b[K     |███████████████████████▏        | 624kB 5.4MB/s eta 0:00:01\r\u001b[K     |███████████████████████▋        | 634kB 5.4MB/s eta 0:00:01\r\u001b[K     |████████████████████████        | 645kB 5.4MB/s eta 0:00:01\r\u001b[K     |████████████████████████▍       | 655kB 5.4MB/s eta 0:00:01\r\u001b[K     |████████████████████████▊       | 665kB 5.4MB/s eta 0:00:01\r\u001b[K     |█████████████████████████▏      | 675kB 5.4MB/s eta 0:00:01\r\u001b[K     |█████████████████████████▌      | 686kB 5.4MB/s eta 0:00:01\r\u001b[K     |█████████████████████████▉      | 696kB 5.4MB/s eta 0:00:01\r\u001b[K     |██████████████████████████▎     | 706kB 5.4MB/s eta 0:00:01\r\u001b[K     |██████████████████████████▋     | 716kB 5.4MB/s eta 0:00:01\r\u001b[K     |███████████████████████████     | 727kB 5.4MB/s eta 0:00:01\r\u001b[K     |███████████████████████████▍    | 737kB 5.4MB/s eta 0:00:01\r\u001b[K     |███████████████████████████▉    | 747kB 5.4MB/s eta 0:00:01\r\u001b[K     |████████████████████████████▏   | 757kB 5.4MB/s eta 0:00:01\r\u001b[K     |████████████████████████████▌   | 768kB 5.4MB/s eta 0:00:01\r\u001b[K     |█████████████████████████████   | 778kB 5.4MB/s eta 0:00:01\r\u001b[K     |█████████████████████████████▎  | 788kB 5.4MB/s eta 0:00:01\r\u001b[K     |█████████████████████████████▊  | 798kB 5.4MB/s eta 0:00:01\r\u001b[K     |██████████████████████████████  | 808kB 5.4MB/s eta 0:00:01\r\u001b[K     |██████████████████████████████▌ | 819kB 5.4MB/s eta 0:00:01\r\u001b[K     |██████████████████████████████▉ | 829kB 5.4MB/s eta 0:00:01\r\u001b[K     |███████████████████████████████▏| 839kB 5.4MB/s eta 0:00:01\r\u001b[K     |███████████████████████████████▋| 849kB 5.4MB/s eta 0:00:01\r\u001b[K     |████████████████████████████████| 860kB 5.4MB/s eta 0:00:01\r\u001b[K     |████████████████████████████████| 870kB 5.4MB/s \n",
            "\u001b[?25hRequirement already satisfied: lxml>=2.2.4 in /usr/local/lib/python3.6/dist-packages (from justext) (4.2.6)\n",
            "Installing collected packages: justext\n",
            "Successfully installed justext-2.2.0\n",
            "Collecting unidecode\n",
            "\u001b[?25l  Downloading https://files.pythonhosted.org/packages/d0/42/d9edfed04228bacea2d824904cae367ee9efd05e6cce7ceaaedd0b0ad964/Unidecode-1.1.1-py2.py3-none-any.whl (238kB)\n",
            "\u001b[K     |████████████████████████████████| 245kB 5.4MB/s \n",
            "\u001b[?25hInstalling collected packages: unidecode\n",
            "Successfully installed unidecode-1.1.1\n"
          ],
          "name": "stdout"
        }
      ]
    },
    {
      "cell_type": "code",
      "metadata": {
        "id": "RURRbh9lMEOo",
        "colab_type": "code",
        "colab": {}
      },
      "source": [
        "import cleanpage_py as cln"
      ],
      "execution_count": null,
      "outputs": []
    },
    {
      "cell_type": "code",
      "metadata": {
        "id": "ek182SCMvMW2",
        "colab_type": "code",
        "colab": {}
      },
      "source": [
        "def monsterLink(role):\n",
        "  \n",
        "  link = f'https://www.monster.ie/jobs/search/?q={role}'\n",
        "  source = requests.get(link).text\n",
        "  soup = BeautifulSoup(source,'lxml')\n",
        "  num = soup.find(class_='figure')\n",
        "  n = math.ceil(int(num.text.split()[0][1:])/25)\n",
        "  link_final = f'https://www.monster.ie/jobs/search/?q={role}&stpage=1&page={n}'\n",
        "  return link_final"
      ],
      "execution_count": null,
      "outputs": []
    },
    {
      "cell_type": "code",
      "metadata": {
        "id": "vk01knkKjE3F",
        "colab_type": "code",
        "colab": {}
      },
      "source": [
        "def getJson(link_final):\n",
        "  \n",
        "  source = requests.get(link_final).text\n",
        "  soup = BeautifulSoup(source,'lxml')\n",
        "\n",
        "  #fetching the search results\n",
        "  job_body = soup.find(id = 'ResultsContainer')\n",
        "\n",
        "  #It returns a json object\n",
        "  script = job_body.find('script').text\n",
        "\n",
        "  #Parsing the json, the result is a dict\n",
        "  jsonValue = json.loads(script)\n",
        "  return jsonValue"
      ],
      "execution_count": null,
      "outputs": []
    },
    {
      "cell_type": "code",
      "metadata": {
        "id": "AO2A3pUqyrwB",
        "colab_type": "code",
        "colab": {}
      },
      "source": [
        "def monsterData(jsonValue):\n",
        "  \n",
        "  #Links of all the jobs appearing\n",
        "  link_list = []\n",
        "  for job in jsonValue['itemListElement']:\n",
        "    url = job['url']\n",
        "    if len(url) > 0:\n",
        "        link_list.append(url)\n",
        "  \n",
        "  #Location of all the jobs posted\n",
        "  location_list = []\n",
        "  role_name_list = []\n",
        "  salary_list = []\n",
        "  i = 1\n",
        "  for link in link_list:\n",
        "    # print(i)\n",
        "    one_job = requests.get(link).text\n",
        "    job_soup = BeautifulSoup(one_job,'lxml')\n",
        "    heading = job_soup.find('div',class_='heading')\n",
        "\n",
        "    #Location\n",
        "    if heading != None:\n",
        "      location_list.append(heading.find(class_ = 'location c-gray-6').text)\n",
        "      #Role Name\n",
        "      role_name_list.append(heading.h1.text)\n",
        "    else:\n",
        "      location_list.append(\"Location Not Found\")\n",
        "      role_name_list.append(\"Role Name not specified\")\n",
        "      \n",
        "    #Salary\n",
        "    about_job = job_soup.find('div', class_='col-md-12 col-8 ta-md-l ta-r font-semibold')\n",
        "    if about_job != None:\n",
        "      \n",
        "      salary_list.append(about_job.text)\n",
        "    else:\n",
        "      salary_list.append(\"None\")\n",
        "    \n",
        "  #Checking if the Salary is mentioned in the posting or nots\n",
        "  for index in range(len(salary_list)):\n",
        "    if any(map(str.isdigit, salary_list[index])) == False:\n",
        "      salary_list[index] = 'Salary Not Quoted'\n",
        "  \n",
        "  #creating a dictionary of the data collected\n",
        "  data = {'Role':role_name_list,'Location':location_list,'Salary':salary_list,'Job Link': link_list}\n",
        "  df = pd.DataFrame(data)\n",
        "  return df"
      ],
      "execution_count": null,
      "outputs": []
    },
    {
      "cell_type": "code",
      "metadata": {
        "id": "SOLMtBF5BfzO",
        "colab_type": "code",
        "colab": {}
      },
      "source": [
        "link = monsterLink('Data-Analyst')\n",
        "jv = getJson(link)\n",
        "df = monsterData(jv)"
      ],
      "execution_count": null,
      "outputs": []
    },
    {
      "cell_type": "code",
      "metadata": {
        "id": "BfOJ9hha0HXE",
        "colab_type": "code",
        "colab": {
          "base_uri": "https://localhost:8080/",
          "height": 206
        },
        "outputId": "42b0dae1-59aa-4b9d-d18f-d52b4091bb8b"
      },
      "source": [
        "df.head()"
      ],
      "execution_count": null,
      "outputs": [
        {
          "output_type": "execute_result",
          "data": {
            "text/html": [
              "<div>\n",
              "<style scoped>\n",
              "    .dataframe tbody tr th:only-of-type {\n",
              "        vertical-align: middle;\n",
              "    }\n",
              "\n",
              "    .dataframe tbody tr th {\n",
              "        vertical-align: top;\n",
              "    }\n",
              "\n",
              "    .dataframe thead th {\n",
              "        text-align: right;\n",
              "    }\n",
              "</style>\n",
              "<table border=\"1\" class=\"dataframe\">\n",
              "  <thead>\n",
              "    <tr style=\"text-align: right;\">\n",
              "      <th></th>\n",
              "      <th>Role</th>\n",
              "      <th>Location</th>\n",
              "      <th>Salary</th>\n",
              "      <th>Job Link</th>\n",
              "    </tr>\n",
              "  </thead>\n",
              "  <tbody>\n",
              "    <tr>\n",
              "      <th>0</th>\n",
              "      <td>Data Warehouse Analyst - 50-60k</td>\n",
              "      <td>Clare, Clare</td>\n",
              "      <td>€50000 - €60000 per year</td>\n",
              "      <td>https://job-openings.monster.ie/data-warehouse...</td>\n",
              "    </tr>\n",
              "    <tr>\n",
              "      <th>1</th>\n",
              "      <td>Salesforce Data Analyst</td>\n",
              "      <td>Dublin, Dublin</td>\n",
              "      <td>€50003 - €50003 per year</td>\n",
              "      <td>https://job-openings.monster.ie/salesforce-dat...</td>\n",
              "    </tr>\n",
              "    <tr>\n",
              "      <th>2</th>\n",
              "      <td>SAS Data Analyst</td>\n",
              "      <td>Dublin, Dublin</td>\n",
              "      <td>Salary Not Quoted</td>\n",
              "      <td>https://job-openings.monster.ie/sas-data-analy...</td>\n",
              "    </tr>\n",
              "    <tr>\n",
              "      <th>3</th>\n",
              "      <td>Fleet, GDPR &amp; Data Administrator/Analyst</td>\n",
              "      <td>westmeath, Westmeath</td>\n",
              "      <td>Salary Not Quoted</td>\n",
              "      <td>https://job-openings.monster.ie/fleet-gdpr-dat...</td>\n",
              "    </tr>\n",
              "    <tr>\n",
              "      <th>4</th>\n",
              "      <td>Data Analyst</td>\n",
              "      <td>westmeath, Westmeath</td>\n",
              "      <td>Salary Not Quoted</td>\n",
              "      <td>https://job-openings.monster.ie/data-analyst-w...</td>\n",
              "    </tr>\n",
              "  </tbody>\n",
              "</table>\n",
              "</div>"
            ],
            "text/plain": [
              "                                        Role  ...                                           Job Link\n",
              "0            Data Warehouse Analyst - 50-60k  ...  https://job-openings.monster.ie/data-warehouse...\n",
              "1                    Salesforce Data Analyst  ...  https://job-openings.monster.ie/salesforce-dat...\n",
              "2                           SAS Data Analyst  ...  https://job-openings.monster.ie/sas-data-analy...\n",
              "3   Fleet, GDPR & Data Administrator/Analyst  ...  https://job-openings.monster.ie/fleet-gdpr-dat...\n",
              "4                               Data Analyst  ...  https://job-openings.monster.ie/data-analyst-w...\n",
              "\n",
              "[5 rows x 4 columns]"
            ]
          },
          "metadata": {
            "tags": []
          },
          "execution_count": 10
        }
      ]
    },
    {
      "cell_type": "code",
      "metadata": {
        "id": "O4atxl6TmUGR",
        "colab_type": "code",
        "colab": {}
      },
      "source": [
        "df."
      ],
      "execution_count": null,
      "outputs": []
    },
    {
      "cell_type": "code",
      "metadata": {
        "id": "o3nAgpGcROmd",
        "colab_type": "code",
        "colab": {}
      },
      "source": [
        "def download_page(link, context=None, timeout=None):\n",
        "    \"\"\"\n",
        "    Return code, page\n",
        "    0: successfully read (write to index)\n",
        "    1: bad_url (write to bad_url)\n",
        "    2: unicode error (write to non_ascii_urls)\n",
        "    3. bad_connection_urls\n",
        "    When code is not 0, return ''\n",
        "    \"\"\"\n",
        "    try:\n",
        "        req = urllib.request.Request(link)\n",
        "    except ValueError as e:\n",
        "        print(link, \"doesn't exist.\")\n",
        "        return 1, ''\n",
        "    except ConnectionResetError as e:\n",
        "        print('ConnectionResetError', link)\n",
        "        return 3, ''\n",
        "\n",
        "    try:\n",
        "        if timeout is not None:\n",
        "            response = urllib.request.urlopen(\n",
        "                req, context=context, timeout=timeout)\n",
        "        else:\n",
        "            response = urllib.request.urlopen(req, context=context)\n",
        "    except UnicodeError as e:\n",
        "        print('UnicodeError for', link)\n",
        "        return 2, ''\n",
        "    except (urllib.error.HTTPError) as e:\n",
        "        print('Error {} for {}'.format(e.code, link))\n",
        "        return 1, ''\n",
        "    except urllib.error.URLError as e:\n",
        "        print('URLError for', link)\n",
        "        return 1, ''\n",
        "    except http.client.HTTPException as e:\n",
        "        print('HTTPException', link)\n",
        "        return 1, ''\n",
        "    except http.client.RemoteDisconnected as e:\n",
        "        print('RemoteDisconnected', link)\n",
        "        return 1, ''\n",
        "    except (ConnectionError, socket.timeout) as e:\n",
        "        print('ConnectionError or Timeout', link)\n",
        "        return 3, ''\n",
        "\n",
        "    try:\n",
        "        page = response.read()\n",
        "    except http.client.HTTPException as e:\n",
        "        print('HTTPException', link)\n",
        "        return 1, ''\n",
        "    except (ConnectionError, socket.timeout) as e:\n",
        "        print('ConnectionError or Timeout', link)\n",
        "        return 3, ''\n",
        "    return 0, page"
      ],
      "execution_count": null,
      "outputs": []
    },
    {
      "cell_type": "code",
      "metadata": {
        "id": "kvfTlE2sY_bE",
        "colab_type": "code",
        "colab": {
          "base_uri": "https://localhost:8080/",
          "height": 55
        },
        "outputId": "3c3163f3-e4a9-49f3-ed1b-fb3ed0714b03"
      },
      "source": [
        "page = download_page(df['Job Link'][1])[1]\n",
        "page"
      ],
      "execution_count": null,
      "outputs": [
        {
          "output_type": "execute_result",
          "data": {
            "text/plain": [
              "b'\\n<!doctype html>\\n<html>\\n  <head>\\n  <!-- header start -->\\n  \\n  <!-- req.get(\\'origin-host\\') = ie -->\\n  <!-- header end -->\\n    <meta name=\"google-site-verification\" content=\"AhK0211wQ5cQW8lYNvsNLqD-yjwiOsNi-CTbWv0mUkc\" />\\n    <meta http-equiv=\"Content-Type\" content=\"text/html; charset=utf-8\">\\n    <meta name=\"viewport\" content=\"width=device-width, initial-scale=1, user-scalable=yes\">\\n    <meta name=\"Description\" content=\"Monster.com - job view\">\\n    \\n    <title data-react-helmet=\"true\">Monster</title>\\n    <meta data-react-helmet=\"true\" http-equiv=\"X-UA-Compatible\" content=\"IE=edge\"/><meta data-react-helmet=\"true\" charset=\"utf-8\"/><meta data-react-helmet=\"true\" name=\"viewport\" content=\"width=device-width, initial-scale=1\"/>\\n    \\n    \\n    <link rel=\"stylesheet\" href=\"/static/css/bundle.7346228d.css\">\\n    <link href=\"/static/css/0.250e8f00.chunk.css\" defer rel=\"stylesheet\" type=\"text/css\">\\n<link href=\"/0-feef76b3050030886ad8.css\" defer rel=\"stylesheet\" type=\"text/css\">\\n<link href=\"/static/css/0.250e8f00.chunk.css\" defer rel=\"stylesheet\" type=\"text/css\">\\n<link href=\"/0-feef76b3050030886ad8.css\" defer rel=\"stylesheet\" type=\"text/css\">\\n\\n\\n    <link defer rel=\"preload\" href=\"/fonts/Proxima-Nova-SemiBold.otf\" type=\"font/otf\">\\n  </head>\\n  <body id=\"app\"><div><div><div class=\"seeker-header bg-black ta-c\"><a class=\"skip-main\" href=\"#main-content\">Skip to main content</a><header class=\"page-header ta-l mx-auto\" role=\"banner\"><div class=\"header-content\"><div class=\"primary-logo mr-auto\" itemscope=\"\" itemType=\"//schema.org/Organization\" href=\"https://www.monster.ie/?intcid=swoop_TopNav_Logo\" logo=\"[object Object]\" el=\"span\" content=\"Monster Home\"><a class=\"link\" itemProp=\"url\" href=\"https://www.monster.ie/?intcid=swoop_TopNav_Logo\"><span class=\"brand\" itemProp=\"legalName\"><span title=\"Monster Home\" class=\"monster-logo\"><svg width=\"185\" height=\"32\" viewBox=\"0 0 185 32\" fill=\"none\" xmlns=\"http://www.w3.org/2000/svg\"> <path fill-rule=\"evenodd\" clip-rule=\"evenodd\" d=\"M175.116 19.0327C176.496 18.5113 181.175 16.3758 181.175 10.2866C181.175 5.88335 177.787 0.947357 170.472 0.947357H161V31.8947H167.523V19.6705H167.856L177.205 31.8947H185L175.116 19.0327ZM171.153 13.7532H167.261V7.35026H171.153C173.211 7.35026 174.565 8.75442 174.565 10.5511C174.565 12.1216 173.421 13.7532 171.153 13.7532Z\" fill=\"white\"></path> <path fill-rule=\"evenodd\" clip-rule=\"evenodd\" d=\"M140 5.07367V31.8947H155V25.7482H145.892V21.2781H152.857V15.6903H145.893L145.892 11.2202H155V5.07367H140Z\" fill=\"white\"></path> <path fill-rule=\"evenodd\" clip-rule=\"evenodd\" d=\"M116 5.07367V11.2202H121.824L121.797 31.8947H128.176V11.2202H134V5.07367H116Z\" fill=\"white\"></path> <path fill-rule=\"evenodd\" clip-rule=\"evenodd\" d=\"M102.22 31.8947C96.4811 31.8947 93.4992 28.5559 93 28.0497L96.2236 23.3074C96.7272 23.7689 99.0121 25.8675 102.026 25.8675C104.073 25.8675 104.665 24.8498 104.665 24.0355C104.665 23.1903 104.054 22.4385 101.894 21.6031L99.9908 20.8665C96.4862 19.5105 94.2566 16.9734 94.2566 13.2041C94.2566 8.58231 97.824 5.07367 102.89 5.07367C107.455 5.07367 110.012 7.35067 110.295 7.60806L107.277 12.4919C106.659 12.0521 104.954 11.0877 103.066 11.0877C101.299 11.0877 100.493 11.8698 100.493 12.8085C100.493 14.0309 101.54 14.5503 103.403 15.2705L105.124 15.9373C108.731 17.3329 111 20.1997 111 23.6306C111 28.34 107.414 31.8947 102.22 31.8947Z\" fill=\"white\"></path> <path fill-rule=\"evenodd\" clip-rule=\"evenodd\" d=\"M66 31.8947H72.3V19.043L87 31.8947V5.07367H80.7V18.4842L66 5.07367V31.8947Z\" fill=\"white\"></path> <path fill-rule=\"evenodd\" clip-rule=\"evenodd\" d=\"M47 5.07367C39.7332 5.07367 34 11.0779 34 18.4839C34 25.8905 39.7332 31.8947 47 31.8947C54.2668 31.8947 60 25.8905 60 18.4839C60 11.0779 54.2668 5.07367 47 5.07367ZM47 25.6166C43.1701 25.6166 40.2229 22.4235 40.2229 18.4839C40.2229 14.5449 43.1701 11.3512 47 11.3512C50.8299 11.3512 53.7777 14.5449 53.7777 18.4839C53.7777 22.4235 50.8299 25.6166 47 25.6166Z\" fill=\"#00B6B4\"></path> <path fill-rule=\"evenodd\" clip-rule=\"evenodd\" d=\"M29 0.947357L14.501 15.334L0 0.947357V31.8947H6.4522V16.3162L14.4997 24.3057L22.5484 16.3162V31.8947H29V0.947357Z\" fill=\"white\"></path> </svg></span></span></a></div><form action=\"https://www.monster.ie/jobs/search/\" method=\"get\" class=\"search-bar-container form-inline d-0 d-lg-f pos-f pos-lg-r pos-l-0 pos-r-0\"><div class=\"typeahead-wrapper \" role=\"combobox\" aria-haspopup=\"listbox\" aria-expanded=\"false\" aria-controls=\"displayed-options\"><fieldset class=\"form-group br-0\"><label id=\"skvgj8td194-label\" for=\"skvgj8td194\" class=\"form-label form-label--size-md sr-only\">Keyword<!-- --> </label><input type=\"search\" name=\"q\" aria-autocomplete=\"list\" aria-multiline=\"false\" aria-activedescendant=\"\" autoComplete=\"off\" error=\"\" value=\"\" placeholder=\"Keyword\" class=\"form-control form-control--search bg-black c-teal-elt teal-elt-placer-text my-0 icon-magnify form-control--size-md form-control--has-icon\" id=\"skvgj8td194\" aria-labelledby=\"skvgj8td194-label\"/><span></span></fieldset></div><div class=\"typeahead-wrapper \" role=\"combobox\" aria-haspopup=\"listbox\" aria-expanded=\"false\" aria-controls=\"displayed-options\"><fieldset class=\"form-group br-0\"><label id=\"voaxkxo5utc-label\" for=\"voaxkxo5utc\" class=\"form-label form-label--size-md sr-only\">Location<!-- --> </label><input type=\"search\" name=\"where\" aria-autocomplete=\"list\" aria-multiline=\"false\" aria-activedescendant=\"\" autoComplete=\"off\" error=\"\" value=\"\" placeholder=\"Location\" class=\"form-control form-control--search bg-black c-teal-elt teal-elt-placer-text my-0 icon-marker form-control--size-md form-control--has-icon\" id=\"voaxkxo5utc\" aria-labelledby=\"voaxkxo5utc-label\"/><span></span></fieldset></div><div><button class=\"btn br-[object Object] btn--color-teal-elt br-3 search-button tt-u btn--size-md\" type=\"submit\"><span class=\"btn-content\">Search</span></button></div></form><div class=\"\"><div class=\"d-lg-n pos-a pos-r-0 p-0 mobile-search-button\"><a class=\"btn br-3 ml-2 bos-0 c-white mr-3 p-0 bgr-nr d-tc ta-c bgp-tc btn--type-link\" href=\"#\" aria-haspopup=\"true\" aria-expanded=\"false\"><span class=\"btn-content\"></span></a></div><div class=\"ml-auto d-n d-lg-b\"><a class=\"btn br-3 mr-2 ml-2 bos-0 c-white mr-4 btn--type-link\" href=\"https://login20.monster.ie/Login/SignIn?r=https%3a%2f%2fwww.monster.ie%2fjobs%2fsearch%2f%3fq%3dd%26where%3dd%26cy%3die%26intcid%3dswoop_HeroSearch_IE\"><span class=\"btn-content\">Log In</span></a><a class=\"btn br-3 bos-0 c-white mr-0 btn--type-link\" href=\"https://hiring.monster.ie/?intcid=skr_LPF_TopNav_Employer&amp;ch=IEEN\"><span class=\"btn-content\">Employers</span></a></div></div></div><div><ul class=\"d-n d-lg-b mb-0\"><li class=\"d-ib mr-5\"><a href=\"https://www.monster.ie/jobs/advanced-search/?intcid=swoop_TopNav_Find_Jobs_Advanced_Search\" name=\"header_label_0\" class=\"c-white\">Find Jobs</a></li><li class=\"d-ib mr-5\"><a href=\"https://www.monster.ie/career-advice\" name=\"header_label_1\" class=\"c-white\">Career Resources</a></li><li class=\"d-ib mr-5\"><a href=\"https://www.monster.ie/cv/post-resume?landedFrom=Header\" name=\"header_label_2\" class=\"c-white\">Post CV</a></li><li class=\"d-ib mr-5\"><a href=\"https://www.monster.ie/company?intcid=swoop_TopNav_Company_Profiles\" name=\"header_label_3\" class=\"c-white\">Company Profiles</a></li></ul></div></header><nav class=\"primary-navigation bg-black\" id=\"PrimaryNavigation\" role=\"navigation\"><div class=\"mux-dropdown navigation-content\"><button id=\"PrimaryNavigationToggle\" type=\"button\" class=\"btn btn-link dropdown-toggle\" aria-haspopup=\"true\" aria-expanded=\"false\"><span class=\"sr-only\">All</span><i class=\"icon icon-burger\"></i></button><div class=\"inverse-xs\" role=\"menu\" aria-labelledby=\"PrimaryNavigationToggle\"><ul class=\"dropdown-menu-xs\" id=\"PrimaryNavigationDropdown\"><li><button type=\"button\" class=\"mux-close c-white ml-3 mt-3 mb-3 d-ib\"><i class=\"icon icon-close\" aria-hidden=\"true\"></i><span class=\"sr-only\">Close</span></button><span class=\"c-white d-ib va-m pos-a menuSpan tt-u\">Menu</span><div class=\"pos-a pos-r-0 pos-t-0\"><div class=\"c-black toggleElement\"><span ariaLabel=\"Toggle language selector\" aria-controls=\"tt\" tabindex=\"0\" class=\"fw-b icon-area\" role=\"button\"><span class=\"globe-img d-ib\"><i class=\"icon icon-svg\" aria-hidden=\"true\"></i></span><div class=\"wrapper-icon-content d-ib\"><span class=\"c-teal-elt\">US</span><button class=\"btn pt-1 d-ib btn--icon btn--icon-chevron-down btn--type-primary btn--color-teal-elt btn--size-md btn--icon btn--icon-chevron-down\" id=\"\" icon=\"chevron-down\" color=\"teal-elt\" href=\"\" type=\"button\"><span class=\"m-icon chevron-down\"></span><span class=\"btn-content\"></span></button></div></span></div><div class=\"d-ib bg-gray-9 c-white tooltip-container show-hide ta-l pos-a pl-3 pr-3 pb-3 br-3 tooltip-content br-3 p-3\" tabindex=\"0\"><form class=\"country-language-selector-container d-b\"><p class=\"d-ib fs-3 fw-b ta-l mt-0 mb-2\">Change country and/or select language</p><fieldset class=\"form-group country-select-input pl-0 pr-0 m-0\"><select type=\"select\" options=\"Country,Austria,Belgium,Canada,Croatia,Czech Republic Jobs,Estonia,Finland,France,Germany,Hungary Workania,Ireland,Italy,Latvia,Lithuania,Luxembourg,Netherlands,Slovakia Profesia,Spain,Sweden,Switzerland,United Kingdom,United States\" refElement=\"[object Object]\" placeholder=\"\" name=\"\" autoComplete=\"\" class=\"form-control form-control--select d-b mx-auto w-100 cur-pointer\" id=\"\" aria-labelledby=\"-label\"><option value=\"Country\">Country</option><option value=\"Austria\">Austria</option><option value=\"Belgium\">Belgium</option><option value=\"Canada\">Canada</option><option value=\"Croatia\">Croatia</option><option value=\"Czech-Republic Jobs\">Czech Republic Jobs</option><option value=\"Estonia\">Estonia</option><option value=\"Finland\">Finland</option><option value=\"France\">France</option><option value=\"Germany\">Germany</option><option value=\"Hungary-Workania\">Hungary Workania</option><option value=\"Ireland\">Ireland</option><option value=\"Italy\">Italy</option><option value=\"Latvia\">Latvia</option><option value=\"Lithuania\">Lithuania</option><option value=\"Luxembourg\">Luxembourg</option><option value=\"Netherlands\">Netherlands</option><option value=\"Slovakia-Profesia\">Slovakia Profesia</option><option value=\"Spain\">Spain</option><option value=\"Sweden\">Sweden</option><option value=\"Switzerland\">Switzerland</option><option value=\"United-Kingdom\">United Kingdom</option><option value=\"United-States\">United States</option></select><span></span></fieldset><a class=\"btn tooltip-button ta-c fw-b d-b mx-auto tt-u btn--type-submit btn--color-teal btn--size-md btn--shape-squared btn--disabled\" disabled=\"\" color=\"teal\" icon=\"\" href=\"x\" shape=\"squared\"><span class=\"btn-content\">Apply</span></a></form></div></div></li><li class=\"pb-2 pt-2\"><a href=\"https://login20.monster.ie/Login/SignIn?r=https%3a%2f%2fwww.monster.ie%2fjobs%2fsearch%2f%3fq%3dd%26where%3dd%26cy%3die%26intcid%3dswoop_HeroSearch_IE\" name=\"LogIn\" class=\"\" role=\"menuitem\">Log In</a></li><li class=\"pb-2 pt-2\"><a href=\"https://www.monster.ie/jobs/advanced-search/?intcid=swoop_TopNav_Find_Jobs_Advanced_Search\" name=\"FindJobs\" class=\"\" role=\"menuitem\">Find Jobs</a></li><li class=\"pb-2 pt-2\"><a href=\"https://www.monster.ie/career-advice\" name=\"CareerResources\" class=\"\" role=\"menuitem\">Career Resources</a></li><li class=\"pb-2 pt-2\"><a href=\"https://www.monster.ie/cv/post-resume?landedFrom=Header\" name=\"PostCV\" class=\"\" role=\"menuitem\">Post CV</a></li><li class=\"pb-2 pt-2\"><a href=\"https://www.monster.ie/company?intcid=swoop_TopNav_Company_Profiles\" name=\"CompanyProfiles\" class=\"\" role=\"menuitem\">Company Profiles</a></li><li class=\"pb-2 pt-2\"><a href=\"https://hiring.monster.ie/?intcid=skr_LPF_TopNav_Employer&amp;ch=IEEN\" name=\"Employers\" class=\"\" role=\"menuitem\">Employers</a></li></ul></div></div></nav></div><div class=\"seeker-frame-content cf\" id=\"main-content\" tabindex=\"-1\"><div class=\"layout-container\"><div class=\"full-jobview-container page-container\"><script name=\"googleJsonJob\" type=\"application/ld+json\">{&quot;title&quot;:&quot;Salesforce Data Analyst&quot;,&quot;description&quot;:&quot;&lt;img height=\\\\&quot;1\\\\&quot; width=\\\\&quot;1\\\\&quot; src=\\\\&quot;https://counter.adcourier.com/TGlhbWMuNTgyODMuNDc5QGFsbGVucmVjLmFwbGl0cmFrLmNvbQ.gif\\\\&quot;&gt;&lt;br&gt;&lt;strong&gt;Salesforce Data Analyst&lt;/strong&gt;&lt;br&gt;&lt;br&gt;Based in the heart of Dublin&#x27;s Silicon Docks (Dublin 2), our client has been at the forefront in changing the internet and online technologies as we know it.&lt;br&gt;&lt;br&gt;&lt;strong&gt;Our client is currently conducting all interviews online and are onboarding all new workers remotely.&lt;/strong&gt;&lt;br&gt;&lt;br&gt;Initially on a 3-month contract, our client requires a &lt;strong&gt;Salesforce&lt;/strong&gt; &lt;strong&gt;Data Analyst &lt;/strong&gt;with 1-2 years of experience in an analytical role with a marketing multinational agency or with a tech multinational. The successful candidate will analyze leads from campaigns and events from the marketing team in order to improve the performance of their acquisition campaign.&lt;br&gt;&lt;br&gt;&lt;strong&gt;Job Reference:&lt;/strong&gt; &lt;strong&gt;BBBH 18478&lt;/strong&gt;&lt;br&gt;&lt;br&gt;&lt;strong&gt;What will a&lt;/strong&gt; &lt;strong&gt;Salesforce&lt;/strong&gt; &lt;strong&gt;Data Analyst do?  &lt;/strong&gt;&lt;br&gt;&lt;ul&gt;&lt;li&gt;Data diagnostics - extracting, scrubbing and patching very large sets of data together from a variety of internal and external sources&lt;/li&gt;&lt;li&gt;Effectively communicate your insights and findings to other members of the team&lt;/li&gt;&lt;li&gt;Create reports and share analysis with the sales teams and stakeholders&lt;/li&gt;&lt;li&gt;Work with all levels of internal management&lt;/li&gt;&lt;/ul&gt;&lt;br&gt;&lt;strong&gt;What does the Ideal Candidate look like?&lt;/strong&gt;&lt;br&gt;&lt;ul&gt;&lt;li&gt;1-2 years of experience in an analytical role with a marketing multinational agency or with a tech multinational&lt;/li&gt;&lt;li&gt;Previous Salesforce experience&lt;/li&gt;&lt;/ul&gt;&lt;br&gt;&lt;strong&gt;Benefits?&lt;/strong&gt;&lt;br&gt;&lt;ul&gt;&lt;li&gt;Competitive Salary, with great onsite benefits including free canteen, unlimited (top class) coffee, tea, soft drinks and much more.&lt;/li&gt;&lt;li&gt;Work Laptop, phone (most roles) and latest tools and technologies.&lt;/li&gt;&lt;li&gt;State of the art modern office.&lt;/li&gt;&lt;li&gt;25 days annual leave (pro-rata) plus paid bank holidays.&lt;/li&gt;&lt;li&gt;The experience of working with a company that will make your CV stand out from the crowd.&lt;/li&gt;&lt;/ul&gt;&lt;br&gt;&lt;strong&gt;Still interested in this opportunity?&lt;/strong&gt;&lt;br&gt;&lt;br&gt;Submit your CV (in a Microsoft Word format) today!&lt;br&gt;&lt;br&gt;OR&lt;br&gt;&lt;br&gt;Perhaps this role didn&#x27;t fully fit your criteria, not to worry - we have many similar roles advertised on our website - &lt;a href=\\\\&quot;http://www.allenrec.com/\\\\&quot; rel=\\\\&quot;nofollow\\\\&quot;&gt;www.allenrec.com&lt;/a&gt; &lt;br&gt;&lt;br&gt;Please don&#x27;t hesitate to contact any of our team with any questions you may have on Email: or Phone: +353 1 6694040&lt;br&gt;&quot;,&quot;hiringOrganization&quot;:{&quot;@type&quot;:&quot;Organization&quot;,&quot;name&quot;:&quot;Allen Recruitment Consulting&quot;},&quot;jobLocation&quot;:{&quot;@type&quot;:&quot;Place&quot;,&quot;address&quot;:{&quot;@type&quot;:&quot;PostalAddress&quot;,&quot;streetAddress&quot;:&quot;&quot;,&quot;addressLocality&quot;:&quot;Dublin&quot;,&quot;addressRegion&quot;:&quot;Dublin&quot;,&quot;addressCountry&quot;:&quot;Ireland&quot;},&quot;geo&quot;:{&quot;@type&quot;:&quot;GeoCoordinates&quot;,&quot;latitude&quot;:&quot;53.333&quot;,&quot;longitude&quot;:&quot;-6.249&quot;}},&quot;validThrough&quot;:&quot;2020-09-16T11:00:19.573+0000&quot;,&quot;baseSalary&quot;:{&quot;@type&quot;:&quot;MonetaryAmount&quot;,&quot;currency&quot;:&quot;EUR&quot;,&quot;value&quot;:{&quot;@type&quot;:&quot;QuantitativeValue&quot;,&quot;minValue&quot;:&quot;50003&quot;,&quot;maxValue&quot;:&quot;50003&quot;,&quot;unitText&quot;:&quot;YEAR&quot;}},&quot;employmentType&quot;:[&quot;FULL_TIME&quot;,&quot;CONTRACTOR&quot;],&quot;url&quot;:&quot;https://job-openings.monster.ie/salesforce-data-analyst-dublin-dublin-ie-allen-recruitment-consulting/219423962&quot;,&quot;identifier&quot;:{&quot;@type&quot;:&quot;PropertyValue&quot;,&quot;name&quot;:&quot;Allen Recruitment Consulting&quot;,&quot;value&quot;:&quot;bbbh18478_1597074694&quot;},&quot;educationRequirements&quot;:&quot;Bachelors Degree&quot;,&quot;industry&quot;:&quot;Internet Services&quot;,&quot;salaryCurrency&quot;:&quot;EUR&quot;,&quot;datePosted&quot;:&quot;2020-08-17T11:00:19.019Z&quot;}</script><div><div style=\"display:none\" coretrackclickmanual=\"\">Salesforce Data Analyst</div><div class=\"heading bg-white container\"><div name=\"job_title_banner\" class=\"title-banner container\"><div class=\"row\"><div name=\"job_company_titlebar\" class=\"job_company_titlebar col-md-9\"><div class=\"svx-logo-container\"><div class=\"show-on-sm\"></div><div class=\"show-on-md\"></div><div class=\"show-on-lg\"></div><div class=\"show-on-xl\"></div></div><div class=\"header-text-block\"><h1 name=\"job_title\" class=\"job_title c-primary-dk\" title=\"Salesforce Data Analyst\"> <!-- -->Salesforce Data Analyst</h1><div name=\"job_company_name\" class=\"job_company_name tag-line c-primary\">Allen Recruitment Consulting</div><div name=\"job_company_location\" class=\"location c-gray-6\">Dublin, Dublin</div></div></div><div name=\"job_apply_links\" class=\"col-md-3 company-apply-links d-n d-md-b\"><div class=\"button-holder row button-bar\"><div class=\"row button-bar\"><div class=\"col col-sm-12 col-md-12\"><button class=\"btn job-apply-button bg-primary-lt px-4\" title=\"Apply\" name=\"top_button_apply_now\" type=\"button\"><span class=\"btn-content\"><div id=\"OnsiteApplyButton\" aria-hidden=\"true\">Apply</div></span></button></div></div><div class=\"col col-sm-6 col-md-12 see-more-results\"><a href=\"//www.monster.ie/jobs/search/?where=dublin%2cdublin&amp;mescoid=1300087001001&amp;jobid=2271e108-f480-4828-9b45-0568367911b9\" name=\"link_see_more_results_top\" class=\"more-results-link c-primary\">See More Results</a></div></div></div></div></div><div class=\"header-divider\"></div></div><div class=\"container job-body-container\"><div class=\"row\"><div class=\"job-description col-md-8 col-sm-12 order-2 order-sm-2 order-md-1\"><div name=\"job_description\" class=\"job-description\"><h2 name=\"label_description\" class=\"c-primary-dk\">Description</h2><div name=\"value_description\"><div name=\"sanitizedHtml\"><img height=\"1\" width=\"1\" src=\"https://counter.adcourier.com/TGlhbWMuNTgyODMuNDc5QGFsbGVucmVjLmFwbGl0cmFrLmNvbQ.gif\"><br><strong>Salesforce Data Analyst</strong><br><br>Based in the heart of Dublin\\'s Silicon Docks (Dublin 2), our client has been at the forefront in changing the internet and online technologies as we know it.<br><br><strong>Our client is currently conducting all interviews online and are onboarding all new workers remotely.</strong><br><br>Initially on a 3-month contract, our client requires a <strong>Salesforce</strong> <strong>Data Analyst </strong>with 1-2 years of experience in an analytical role with a marketing multinational agency or with a tech multinational. The successful candidate will analyze leads from campaigns and events from the marketing team in order to improve the performance of their acquisition campaign.<br><br><strong>Job Reference:</strong> <strong>BBBH 18478</strong><br><br><strong>What will a</strong> <strong>Salesforce</strong> <strong>Data Analyst do?  </strong><br><ul><li>Data diagnostics - extracting, scrubbing and patching very large sets of data together from a variety of internal and external sources</li><li>Effectively communicate your insights and findings to other members of the team</li><li>Create reports and share analysis with the sales teams and stakeholders</li><li>Work with all levels of internal management</li></ul><br><strong>What does the Ideal Candidate look like?</strong><br><ul><li>1-2 years of experience in an analytical role with a marketing multinational agency or with a tech multinational</li><li>Previous Salesforce experience</li></ul><br><strong>Benefits?</strong><br><ul><li>Competitive Salary, with great onsite benefits including free canteen, unlimited (top class) coffee, tea, soft drinks and much more.</li><li>Work Laptop, phone (most roles) and latest tools and technologies.</li><li>State of the art modern office.</li><li>25 days annual leave (pro-rata) plus paid bank holidays.</li><li>The experience of working with a company that will make your CV stand out from the crowd.</li></ul><br><strong>Still interested in this opportunity?</strong><br><br>Submit your CV (in a Microsoft Word format) today!<br><br>OR<br><br>Perhaps this role didn\\'t fully fit your criteria, not to worry - we have many similar roles advertised on our website - <a href=\"http://www.allenrec.com/\" rel=\"nofollow\">www.allenrec.com</a> <br><br>Please don\\'t hesitate to contact any of our team with any questions you may have on Email: or Phone: +353 1 6694040<br></div></div></div></div><div class=\"job-details container col-md-4 col-sm-12 order-1 order-sm-1 order-md-2\"><div class=\" \"><h3 id=\"job_details\" name=\"job_details\" class=\"job-details-heading c-primary-dk\" style=\"text-transform:capitalize\">Job Details</h3><div class=\"detail-row row\" aria-label=\"Salary\"><div class=\"col-md-12 col-4 c-gray-8\" name=\"label_salary\">Salary</div><div aria-label=\"salary\" class=\"col-md-12 col-8 ta-md-l ta-r font-semibold\" name=\"value_salary\" style=\"text-transform:capitalize\">\\xe2\\x82\\xac50003<span aria-label=\"to\"> - </span>\\xe2\\x82\\xac50003<!-- --> <!-- -->per year</div></div><div class=\"detail-row row\" aria-label=\"Employment type\"><div class=\"col-md-12 col-4 c-gray-8\" name=\"label_job_type\">Job Type</div><div style=\"text-transform:capitalize\" class=\"col-md-12 col-8 ta-md-l ta-r font-semibold\" name=\"value_job_type\">Full Time<!-- -->, <!-- -->Contract</div></div><div class=\"detail-row row\" aria-label=\"Posted days\"><div class=\"col-md-12 col-6 c-gray-8\" name=\"label_posted\">Posted</div><div class=\"col-md-12 col-6 ta-md-l ta-r font-semibold\" name=\"value_posted\"><div> <!-- -->2<!-- --> <!-- -->days ago</div></div></div></div></div></div><hr class=\"divider\"/></div><div class=\"container company-body-container\"><div class=\"row\"><div class=\"company-profile col-md-8 col-sm-12\"><div></div></div><div class=\"company-details col-md-4 col-sm-12\"><div><div class=\"media-overlay\"></div><div class=\"thumbnail-gallery video-gallery\" name=\"video-gallery\"></div></div><div><div class=\"media-overlay\"></div><div class=\"thumbnail-gallery image-gallery\" name=\"image-gallery\"></div></div><div><div class=\"social-media\" name=\"social-media\"></div></div></div></div></div><div class=\"bottom-bar bs-2 d-md-n\"><div name=\"bottom_bar\" class=\"_2QKEv0urcMdljUwMmWXAiT bg-white ta-c\"><div class=\"_3FuVX7gIlfpqeak6SrImiX\"><div class=\"_3EIfrmwA2qb_H3McZbDIKw\"><div class=\"row button-bar\"><div class=\"col col-sm-12 col-md-12\"><button class=\"btn job-apply-button bg-primary-lt px-4\" title=\"Apply\" name=\"top_button_apply_now\" type=\"button\"><span class=\"btn-content\"><div id=\"OnsiteApplyButton\" aria-hidden=\"true\">Apply</div></span></button></div></div></div><div class=\"_3EIfrmwA2qb_H3McZbDIKw\"><div class=\"col col-sm-6 col-md-12 see-more-results\"><a href=\"//www.monster.ie/jobs/search/?where=dublin%2cdublin&amp;mescoid=1300087001001&amp;jobid=2271e108-f480-4828-9b45-0568367911b9\" name=\"link_see_more_results_top\" class=\"more-results-link c-primary\">See More Results</a></div></div></div></div></div></div></div></div><footer><div class=\"page-footer ff-proxima bg-gray c-white p-md-3 pt-md-5 pt-2\"><div class=\"container p-md-3 pt-md-4 pt-3\"><a href=\"https://www.monster.ie/?intcid=swoop_Footer_logo\" title=\"Go to Monster home\" class=\"logo-link\"><div class=\"logo-container\"><div class=\"m-logo\">Monster Logo</div></div></a><div class=\"row d-0 d-md-b ta-l\"></div><div class=\"row d-md-0\"><ul class=\"ml-0 col-12 cf\"></ul></div><div class=\"mobileApp\">Get the Monster App<div><a href=\"https://itunes.apple.com/ie/app/monster-job-search/id870221491?mt=8&amp;intcid=swoop_Footer_Apps_Apple\" aria-label=\"iphone phone app link\"><div class=\"en iphone app-icon\"></div></a><a href=\"https://play.google.com/store/apps/details?id=com.jobrapp.jobr&amp;hl=*ie*&amp;intcid=swoop_Footer_Apps_Google\" aria-label=\"Android phone app link\"><div class=\"en android app-icon\"></div></a></div></div><p class=\"copyrights mt-md-5\">Copyright<!-- --> <!-- -->2020</p><div class=\"cable\">Looking for<!-- --> <a class=\"ff-proxima\" href=\"http://www.monsterproducts.com/\" target=\"_blank\" rel=\"nofollow noreferrer noopener\">Monster Cable</a>?<div class=\"trust-seal\"><a class=\"ff-proxima\" href=\"//privacy.truste.com/privacy-seal/validation?rid=232f8c51-711d-4fbc-afed-b3b87885979a\" target=\"_blank\" rel=\"nofollow noreferrer noopener\"><img style=\"border:none\" src=\"//privacy-policy.truste.com/privacy-seal/seal?rid=232f8c51-711d-4fbc-afed-b3b87885979a\" alt=\"TRUSTe\" width=\"156\" height=\"50\"/></a></div></div></div></div></footer></div></div></div></body>\\n  <script name=\"redux_preload\">window.__INITIAL_STATE__ = {\"country\":\"ie\",\"language\":\"en\",\"domain\":\"job-openings.monster.ie\",\"job\":{\"title\":\"Salesforce Data Analyst\",\"description\":\"\\\\u003Cimg height=\\\\\"1\\\\\" width=\\\\\"1\\\\\" src=\\\\\"https:\\\\u002F\\\\u002Fcounter.adcourier.com\\\\u002FTGlhbWMuNTgyODMuNDc5QGFsbGVucmVjLmFwbGl0cmFrLmNvbQ.gif\\\\\"\\\\u003E\\\\u003Cbr\\\\u003E\\\\u003Cstrong\\\\u003ESalesforce Data Analyst\\\\u003C\\\\u002Fstrong\\\\u003E\\\\u003Cbr\\\\u003E\\\\u003Cbr\\\\u003EBased in the heart of Dublin\\'s Silicon Docks (Dublin 2), our client has been at the forefront in changing the internet and online technologies as we know it.\\\\u003Cbr\\\\u003E\\\\u003Cbr\\\\u003E\\\\u003Cstrong\\\\u003EOur client is currently conducting all interviews online and are onboarding all new workers remotely.\\\\u003C\\\\u002Fstrong\\\\u003E\\\\u003Cbr\\\\u003E\\\\u003Cbr\\\\u003EInitially on a 3-month contract, our client requires a \\\\u003Cstrong\\\\u003ESalesforce\\\\u003C\\\\u002Fstrong\\\\u003E \\\\u003Cstrong\\\\u003EData Analyst \\\\u003C\\\\u002Fstrong\\\\u003Ewith 1-2 years of experience in an analytical role with a marketing multinational agency or with a tech multinational. The successful candidate will analyze leads from campaigns and events from the marketing team in order to improve the performance of their acquisition campaign.\\\\u003Cbr\\\\u003E\\\\u003Cbr\\\\u003E\\\\u003Cstrong\\\\u003EJob Reference:\\\\u003C\\\\u002Fstrong\\\\u003E \\\\u003Cstrong\\\\u003EBBBH 18478\\\\u003C\\\\u002Fstrong\\\\u003E\\\\u003Cbr\\\\u003E\\\\u003Cbr\\\\u003E\\\\u003Cstrong\\\\u003EWhat will a\\\\u003C\\\\u002Fstrong\\\\u003E \\\\u003Cstrong\\\\u003ESalesforce\\\\u003C\\\\u002Fstrong\\\\u003E \\\\u003Cstrong\\\\u003EData Analyst do?  \\\\u003C\\\\u002Fstrong\\\\u003E\\\\u003Cbr\\\\u003E\\\\u003Cul\\\\u003E\\\\u003Cli\\\\u003EData diagnostics - extracting, scrubbing and patching very large sets of data together from a variety of internal and external sources\\\\u003C\\\\u002Fli\\\\u003E\\\\u003Cli\\\\u003EEffectively communicate your insights and findings to other members of the team\\\\u003C\\\\u002Fli\\\\u003E\\\\u003Cli\\\\u003ECreate reports and share analysis with the sales teams and stakeholders\\\\u003C\\\\u002Fli\\\\u003E\\\\u003Cli\\\\u003EWork with all levels of internal management\\\\u003C\\\\u002Fli\\\\u003E\\\\u003C\\\\u002Ful\\\\u003E\\\\u003Cbr\\\\u003E\\\\u003Cstrong\\\\u003EWhat does the Ideal Candidate look like?\\\\u003C\\\\u002Fstrong\\\\u003E\\\\u003Cbr\\\\u003E\\\\u003Cul\\\\u003E\\\\u003Cli\\\\u003E1-2 years of experience in an analytical role with a marketing multinational agency or with a tech multinational\\\\u003C\\\\u002Fli\\\\u003E\\\\u003Cli\\\\u003EPrevious Salesforce experience\\\\u003C\\\\u002Fli\\\\u003E\\\\u003C\\\\u002Ful\\\\u003E\\\\u003Cbr\\\\u003E\\\\u003Cstrong\\\\u003EBenefits?\\\\u003C\\\\u002Fstrong\\\\u003E\\\\u003Cbr\\\\u003E\\\\u003Cul\\\\u003E\\\\u003Cli\\\\u003ECompetitive Salary, with great onsite benefits including free canteen, unlimited (top class) coffee, tea, soft drinks and much more.\\\\u003C\\\\u002Fli\\\\u003E\\\\u003Cli\\\\u003EWork Laptop, phone (most roles) and latest tools and technologies.\\\\u003C\\\\u002Fli\\\\u003E\\\\u003Cli\\\\u003EState of the art modern office.\\\\u003C\\\\u002Fli\\\\u003E\\\\u003Cli\\\\u003E25 days annual leave (pro-rata) plus paid bank holidays.\\\\u003C\\\\u002Fli\\\\u003E\\\\u003Cli\\\\u003EThe experience of working with a company that will make your CV stand out from the crowd.\\\\u003C\\\\u002Fli\\\\u003E\\\\u003C\\\\u002Ful\\\\u003E\\\\u003Cbr\\\\u003E\\\\u003Cstrong\\\\u003EStill interested in this opportunity?\\\\u003C\\\\u002Fstrong\\\\u003E\\\\u003Cbr\\\\u003E\\\\u003Cbr\\\\u003ESubmit your CV (in a Microsoft Word format) today!\\\\u003Cbr\\\\u003E\\\\u003Cbr\\\\u003EOR\\\\u003Cbr\\\\u003E\\\\u003Cbr\\\\u003EPerhaps this role didn\\'t fully fit your criteria, not to worry - we have many similar roles advertised on our website - \\\\u003Ca href=\\\\\"http:\\\\u002F\\\\u002Fwww.allenrec.com\\\\u002F\\\\\" rel=\\\\\"nofollow\\\\\"\\\\u003Ewww.allenrec.com\\\\u003C\\\\u002Fa\\\\u003E \\\\u003Cbr\\\\u003E\\\\u003Cbr\\\\u003EPlease don\\'t hesitate to contact any of our team with any questions you may have on Email: or Phone: +353 1 6694040\\\\u003Cbr\\\\u003E\",\"hiringOrganization\":{\"@type\":\"Organization\",\"name\":\"Allen Recruitment Consulting\"},\"jobLocation\":{\"@type\":\"Place\",\"address\":{\"@type\":\"PostalAddress\",\"streetAddress\":\"\",\"addressLocality\":\"Dublin\",\"addressRegion\":\"Dublin\",\"addressCountry\":\"Ireland\"},\"geo\":{\"@type\":\"GeoCoordinates\",\"latitude\":\"53.333\",\"longitude\":\"-6.249\"}},\"validThrough\":\"2020-09-16T11:00:19.573+0000\",\"baseSalary\":{\"@type\":\"MonetaryAmount\",\"currency\":\"EUR\",\"value\":{\"@type\":\"QuantitativeValue\",\"minValue\":\"50003\",\"maxValue\":\"50003\",\"unitText\":\"Per Year\"}},\"employmentType\":\"Fulltime, Contract\",\"url\":\"https:\\\\u002F\\\\u002Fjob-openings.monster.ie\\\\u002Fsalesforce-data-analyst-dublin-dublin-ie-allen-recruitment-consulting\\\\u002F219423962\",\"identifier\":{\"@type\":\"PropertyValue\",\"name\":\"Allen Recruitment Consulting\",\"value\":\"bbbh18478_1597074694\"},\"educationRequirements\":\"Bachelors Degree\",\"industry\":\"Internet Services\",\"salaryCurrency\":\"EUR\",\"jobId\":\"2271e108-f480-4828-9b45-0568367911b9\",\"extensions\":{\"activeDate\":\"2020-08-17T11:00:19.573+0000\",\"inferredData\":{\"rankedSkills\":[{\"name\":\"Salesforce.com\",\"score\":98.8499984741211},{\"name\":\"Data Analysis\",\"score\":98.54000091552734},{\"name\":\"Campaigns\",\"score\":67.58000183105469},{\"name\":\"Marketing\",\"score\":67.25},{\"name\":\"Analysis Skills\",\"score\":67.19999694824219},{\"name\":\"Reporting Skills\",\"score\":67.05000305175781},{\"name\":\"Emerging Technology\",\"score\":65.44000244140625},{\"name\":\"Communication Skills\",\"score\":26.43},{\"name\":\"Event Marketing\",\"score\":26.43},{\"name\":\"Internet Technology\",\"score\":26.43}],\"mescos\":[{\"id\":1300087001001,\"alias\":\"Management Analysts\",\"usen\":\"Management Analysts\",\"normalizedTokens\":[\"data\",\"analyst\"]}],\"normalizedTitles\":[{\"title\":\"Data Analyst\"}],\"locations\":{\"locationId\":955,\"countryId\":74},\"companyKb\":{\"normalizedCompanyName\":\"Allen Recruitment Consulting\",\"code\":\"xalleniex\",\"normalizedCompanyGuid\":\"px7vtlmdxjhfhcpg4lmgtoxubg\",\"normalizedCompanyId\":141568}},\"urlTypes\":[{\"type\":\"monsterUrl\",\"url\":\"https:\\\\u002F\\\\u002Fjob-openings.monster.ie\\\\u002Fsalesforce-data-analyst-dublin-dublin-ie-allen-recruitment-consulting\\\\u002F219423962\"},{\"type\":\"combinedJobViewUrl\",\"url\":\"https:\\\\u002F\\\\u002Fwww.monster.ie\\\\u002Fjobs\\\\u002Fsearch?where=dublin%2cdublin&mescoid=1300087001001&jobid=2271e108-f480-4828-9b45-0568367911b9\"},{\"type\":\"url\",\"url\":\"https:\\\\u002F\\\\u002Fjob-openings.monster.ie\\\\u002Fsalesforce-data-analyst-dublin-dublin-ie-allen-recruitment-consulting\\\\u002F219423962\"},{\"type\":\"origUrl\",\"url\":\"https:\\\\u002F\\\\u002Fjob-openings.monster.ie\\\\u002Fsalesforce-data-analyst-dublin-dublin-ie-allen-recruitment-consulting\\\\u002F219423962\"}],\"proDiversity\":false,\"apply\":{\"applyOnlineUrl\":\"https:\\\\u002F\\\\u002Fjob-openings.monster.ie\\\\u002Fv2\\\\u002Fjob\\\\u002Fapply?jobid=219423962\",\"applyType\":\"Onsite\",\"applyOnlineUriPart\":\"\\\\u002Fv2\\\\u002Fjob\\\\u002Fapply?jobid=219423962\"},\"now\":{\"ad\":{\"activeDate\":\"2020-08-17T11:00:19.573+0000\",\"generatedDate\":\"2020-08-17T11:13:21.000+0000\",\"g4j\":{\"qualifiedForG4J\":\"true\"},\"group\":\"1\",\"campaign\":{\"isJobLevelCampaigned\":false,\"customFields\":[{\"name\":\"JobPricingTierID\",\"value\":\"2\"}],\"cpc\":\"0.4400\",\"isDirectClickEnabled\":false},\"bold\":\"True\",\"monsJobSourceId\":\"3\",\"inventoryType\":\"Standard\",\"relatedJobBoardId\":\"1\",\"userName\":\"xalleniexxml\",\"emailAddress\":\"brian@allenrec.com\",\"channelId\":\"200\",\"folderId\":\"265356672\",\"jobAdPricingTypeId\":1,\"status\":\"ACTIVE\"},\"locations\":{\"countryName\":\"Ireland\",\"stateName\":\"Dublin\",\"monsLocationId\":\"955\",\"monsCountryLocationId\":\"173\",\"monsStateLocationId\":\"955\",\"coreLocations\":[{\"type\":\"physicaladdress\",\"monsterGeo\":{\"stateLocationId\":955,\"countryLocationId\":173,\"city\":\"Dublin\",\"latitude\":53.333,\"longitude\":-6.249,\"countryCode\":\"IE\",\"stateCode\":\"Dublin\",\"stateName\":\"Dublin\"}},{\"type\":\"advertisinglocation\",\"positionAdIds\":[\"219423962\"],\"monsterGeo\":{\"stateLocationId\":955,\"countryLocationId\":173,\"city\":\"\",\"countryCode\":\"IE\",\"stateCode\":\"Dublin\",\"stateName\":\"Dublin\"}}]},\"category\":{\"monsCategoryId\":\"660\",\"monsCategoryName\":\"IT\\\\u002FSoftware Development\",\"monsOccId\":\"11904\",\"monsOccName\":\"General\\\\u002FOther: IT\\\\u002FSoftware Development\"},\"monsJobLevelId\":12,\"monsJobLevelName\":\"Experienced (Non-Manager)\",\"monsLanguageId\":27,\"monsLanguageName\":\"English\",\"exemptionStatusId\":0,\"exemptionStatusName\":\"Exempt\",\"isHandinamic\":false,\"provider\":{\"id\":1,\"source\":\"Feed\",\"code\":\"monster\",\"name\":\"monster\"},\"nowPostingId\":\"2271e108-f480-4828-9b45-0568367911b9\",\"positionAdId\":\"219423962\",\"jobTemplateId\":\"42455\",\"isBeSpokeJob\":false},\"jobViewPreferences\":{\"hiringOrganizationConfidential\":false}},\"formattedActiveDate\":\"2020-08-17T11:00:19.019Z\",\"formattedEmploymentType\":[\"FULL_TIME\",\"CONTRACTOR\"],\"formattedPayFrequencyType\":\"YEAR\"}} </script>\\n    <script src=\"/static/js/bundle.9ba143df.js\"></script>\\n    <script src=\"/static/js/0.febfea05.chunk.js\" defer ></script>\\n<script src=\"/static/js/0.febfea05.chunk.js\" defer ></script>\\n    <script type=\"text/javascript\" src=\"//nexus.ensighten.com/monster/privacytest/Bootstrap.js\"></script>\\n            <!-- Google Tag Manager -->\\n            <script>(function(w,d,s,l,i){w[l]=w[l]||[];w[l].push({\\'gtm.start\\':\\n            new Date().getTime(),event:\\'gtm.js\\'});var f=d.getElementsByTagName(s)[0],\\n            j=d.createElement(s),dl=l!=\\'dataLayer\\'?\\'&l=\\'+l:\\'\\';j.async=true;j.src=\\n            \\'https://www.googletagmanager.com/gtm.js?id=\\'+i+dl;f.parentNode.insertBefore(j,f);\\n            })(window,document,\\'script\\',\\'dataLayer\\',\\'GTM-TTZS5RQ\\');</script>\\n            <!-- End Google Tag Manager -->\\n            <script src=\"https://logs.jobs.com/coreTrackFP\"></script>\\n            <script src=\"https://logs.jobs.com/coreTrack\"></script>\\n            <script>coretrack.setMeta({\"a_affiliate_id\":\"Monster\",\"j_pg\":\"-1\",\"s_q\":\"-1\",\"s_where\":\"-1\",\"s_search_query\":\"-1\"}); coretrack.init();</script>\\n            \\n  </body>\\n  \\n</html>\\n    '"
            ]
          },
          "metadata": {
            "tags": []
          },
          "execution_count": 23
        }
      ]
    },
    {
      "cell_type": "code",
      "metadata": {
        "id": "y8Oj3qGHal1N",
        "colab_type": "code",
        "colab": {
          "base_uri": "https://localhost:8080/",
          "height": 163
        },
        "outputId": "c357465e-f265-4d8f-c0e0-05525298833e"
      },
      "source": [
        "cp.callAll(page)"
      ],
      "execution_count": null,
      "outputs": [
        {
          "output_type": "execute_result",
          "data": {
            "application/vnd.google.colaboratory.intrinsic+json": {
              "type": "string"
            },
            "text/plain": [
              "'Salesforce Data AnalystDescriptionBased in the heart of Dublins Silicon Docks Dublin our client has been at the forefront in changing the internet and online technologies as we know itOur client is currently conducting all interviews online and are onboarding all new workers remotelyInitially on a month contract our client requires a SalesforceData Analyst with years of experience in an analytical role with a marketing multinational agency or with a tech multinational The successful candidate will analyze leads from campaigns and events from the marketing team in order to improve the performance of their acquisition campaignJob ReferenceBBBH What will aSalesforceData Analyst doData diagnostics extracting scrubbing and patching very large sets of data together from a variety of internal and external sourcesEffectively communicate your insights and findings to other members of the teamCreate reports and share analysis with the sales teams and stakeholdersWork with all levels of internal managementWhat does the Ideal Candidate look like years of experience in an analytical role with a marketing multinational agency or with a tech multinational '"
            ]
          },
          "metadata": {
            "tags": []
          },
          "execution_count": 24
        }
      ]
    },
    {
      "cell_type": "code",
      "metadata": {
        "id": "Hs1m9ocPwkHr",
        "colab_type": "code",
        "colab": {}
      },
      "source": [
        "# To connect google drive\n",
        "#from google.colab import drive\n",
        "#drive.mount('/content/drive')"
      ],
      "execution_count": null,
      "outputs": []
    }
  ]
}