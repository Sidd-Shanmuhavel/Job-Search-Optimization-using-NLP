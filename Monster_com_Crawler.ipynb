{
  "nbformat": 4,
  "nbformat_minor": 0,
  "metadata": {
    "kernelspec": {
      "display_name": "Python 3",
      "language": "python",
      "name": "python3"
    },
    "language_info": {
      "codemirror_mode": {
        "name": "ipython",
        "version": 3
      },
      "file_extension": ".py",
      "mimetype": "text/x-python",
      "name": "python",
      "nbconvert_exporter": "python",
      "pygments_lexer": "ipython3",
      "version": "3.7.4"
    },
    "colab": {
      "name": "Monster.com_Crawler.ipynb",
      "provenance": [],
      "collapsed_sections": [],
      "include_colab_link": true
    },
    "accelerator": "GPU"
  },
  "cells": [
    {
      "cell_type": "markdown",
      "metadata": {
        "id": "view-in-github",
        "colab_type": "text"
      },
      "source": [
        "<a href=\"https://colab.research.google.com/github/Sidd-Shanmuhavel/Python---WebCrawler-Using-BeautifulSoup4/blob/master/Monster_com_Crawler.ipynb\" target=\"_parent\"><img src=\"https://colab.research.google.com/assets/colab-badge.svg\" alt=\"Open In Colab\"/></a>"
      ]
    },
    {
      "cell_type": "code",
      "metadata": {
        "id": "dfvjsTEFBfwS",
        "colab_type": "code",
        "colab": {}
      },
      "source": [
        "from bs4 import BeautifulSoup\n",
        "import csv\n",
        "import json\n",
        "import requests\n",
        "import pandas as pd"
      ],
      "execution_count": 39,
      "outputs": []
    },
    {
      "cell_type": "code",
      "metadata": {
        "id": "ek182SCMvMW2",
        "colab_type": "code",
        "colab": {}
      },
      "source": [
        "import math"
      ],
      "execution_count": 40,
      "outputs": []
    },
    {
      "cell_type": "code",
      "metadata": {
        "id": "nb5e0_1YBfxa",
        "colab_type": "code",
        "colab": {
          "base_uri": "https://localhost:8080/",
          "height": 35
        },
        "outputId": "35f54db1-5071-410c-b49a-858f52e743b7"
      },
      "source": [
        "role = \"data-analyst\"\n",
        "link = f'https://www.monster.ie/jobs/search/?q={role}'\n",
        "\n",
        "print(link)"
      ],
      "execution_count": 41,
      "outputs": [
        {
          "output_type": "stream",
          "text": [
            "https://www.monster.ie/jobs/search/?q=data-analyst\n"
          ],
          "name": "stdout"
        }
      ]
    },
    {
      "cell_type": "code",
      "metadata": {
        "id": "0Wp5yPQtBfyL",
        "colab_type": "code",
        "colab": {}
      },
      "source": [
        "source = requests.get(link).text\n",
        "soup = BeautifulSoup(source,'lxml')"
      ],
      "execution_count": 42,
      "outputs": []
    },
    {
      "cell_type": "code",
      "metadata": {
        "id": "jndrt9YqsJd1",
        "colab_type": "code",
        "colab": {}
      },
      "source": [
        "num = soup.find(class_='figure')\n",
        "n = math.ceil(int(num.text.split()[0][1:])/25)"
      ],
      "execution_count": 43,
      "outputs": []
    },
    {
      "cell_type": "code",
      "metadata": {
        "id": "8tUqGDfBwYMX",
        "colab_type": "code",
        "colab": {
          "base_uri": "https://localhost:8080/",
          "height": 35
        },
        "outputId": "5afaa573-7252-4ccb-f168-81ecbd52f445"
      },
      "source": [
        "link_final = f'https://www.monster.ie/jobs/search/?q={role}&stpage=1&page={n}'\n",
        "print(link_final)"
      ],
      "execution_count": 44,
      "outputs": [
        {
          "output_type": "stream",
          "text": [
            "https://www.monster.ie/jobs/search/?q=data-analyst&stpage=1&page=10\n"
          ],
          "name": "stdout"
        }
      ]
    },
    {
      "cell_type": "code",
      "metadata": {
        "id": "AO2A3pUqyrwB",
        "colab_type": "code",
        "colab": {}
      },
      "source": [
        "source = requests.get(link_final).text\n",
        "soup = BeautifulSoup(source,'lxml')\n",
        "\n",
        "#fetching the search results\n",
        "job_body = soup.find(id = 'ResultsContainer')\n",
        "\n",
        "#It returns a json object\n",
        "script = job_body.find('script').text\n",
        "\n",
        "#Parsing the json, the result is a dict\n",
        "jsonValue = json.loads(script)"
      ],
      "execution_count": 45,
      "outputs": []
    },
    {
      "cell_type": "code",
      "metadata": {
        "id": "SOLMtBF5BfzO",
        "colab_type": "code",
        "colab": {}
      },
      "source": [
        "#Links of all the jobs appearing\n",
        "link_list = []\n",
        "for job in jsonValue['itemListElement']:\n",
        "    url = job['url']\n",
        "    if len(url) > 0:\n",
        "        link_list.append(url)"
      ],
      "execution_count": 46,
      "outputs": []
    },
    {
      "cell_type": "code",
      "metadata": {
        "id": "4jD1lPNlBfzr",
        "colab_type": "code",
        "colab": {
          "base_uri": "https://localhost:8080/",
          "height": 1000
        },
        "outputId": "e40dc6c1-6642-4842-db1c-82e10f13becf"
      },
      "source": [
        "#Location of all the jobs posted\n",
        "location_list = []\n",
        "role_name_list = []\n",
        "salary_list = []\n",
        "i = 1\n",
        "for link in link_list:\n",
        "  # print(i)\n",
        "  one_job = requests.get(link).text\n",
        "  job_soup = BeautifulSoup(one_job,'lxml')\n",
        "  heading = job_soup.find('div',class_='heading')\n",
        "\n",
        "  #Location\n",
        "  if heading != None:\n",
        "    location_list.append(heading.find(class_ = 'location c-gray-6').text)\n",
        "    #Role Name\n",
        "    role_name_list.append(heading.h1.text)\n",
        "  else:\n",
        "    location_list.append(\"Location Not Found\")\n",
        "    role_name_list.append(\"Role Name not specified\")\n",
        "    \n",
        "  #Salary\n",
        "  about_job = job_soup.find('div', class_='col-md-12 col-8 ta-md-l ta-r font-semibold')\n",
        "  if about_job != None:\n",
        "    print(\"-\", about_job.text, \"-\")\n",
        "    salary_list.append(about_job.text)\n",
        "  else:\n",
        "    salary_list.append(\"None\")"
      ],
      "execution_count": 47,
      "outputs": [
        {
          "output_type": "stream",
          "text": [
            "- Full Time, Contract -\n",
            "- €60000 - €75000 per year -\n",
            "- €35000 - €45000 per year -\n",
            "- Full Time, Permanent -\n",
            "- Full Time, Permanent -\n",
            "- €60000 - €70000 per year -\n",
            "- €350 - €450 Per Day -\n",
            "- €45000 - €50000 per year -\n",
            "- â‚¬50000 per year -\n",
            "- Full Time, Permanent -\n",
            "- €400 - €700 Per Day -\n",
            "- €25000 - €35000 per year -\n",
            "- Full Time, Permanent -\n",
            "- Full Time, Permanent -\n",
            "- Full Time, Permanent -\n",
            "- €500 - €550 Per Day -\n",
            "- Full Time, Permanent -\n",
            "- €350 - €400 Per Day -\n",
            "- €65000 - €75000 per year -\n",
            "- €65000 - €75000 per year -\n",
            "- €350 - €400 Per Day -\n",
            "- Full Time, Permanent -\n",
            "- €60000 - €70000 per year -\n",
            "- Full Time, Permanent -\n",
            "- Full Time, Permanent -\n",
            "- €25000 - €28000 per year -\n",
            "- Full Time, Permanent -\n",
            "- €25000 - €35000 per year -\n",
            "- €40000 - €50000 per year -\n",
            "- €40000 - €50000 per year -\n",
            "- €40000 - €50000 per year -\n",
            "- €60000 - €75000 per year -\n",
            "- Full Time, Permanent -\n",
            "- Full Time, Permanent -\n",
            "- €85000 - €95000 per year -\n",
            "- €55000 - €75000 per year -\n",
            "- Full Time, Permanent -\n",
            "- Full Time, Permanent -\n",
            "- €350 - €400 Per Day -\n",
            "- Full Time, Contract -\n",
            "- €45000 - €55000 per year -\n",
            "- Full Time, Permanent -\n",
            "- Full Time, Contract -\n",
            "- Full Time, Contract -\n",
            "- Full Time, Permanent -\n",
            "- Full Time, Contract -\n",
            "- €30000 - €32000 per year -\n",
            "- €28000 - €31000 per year -\n",
            "- Full Time, Permanent -\n",
            "- Full Time, Permanent -\n",
            "- €50000 - €65000 per year -\n",
            "- Full Time, Permanent -\n",
            "- €33000 - €40000 per year -\n",
            "- €70000 - €80000 per year -\n",
            "- Full Time, Permanent -\n",
            "- €35000 - €41000 per year -\n",
            "- Full Time, Permanent -\n",
            "- Full Time, Contract -\n",
            "- Full Time, Permanent -\n",
            "- Full Time, Permanent -\n",
            "- Full Time, Permanent -\n",
            "- Full Time, Permanent -\n",
            "- Full Time, Permanent -\n",
            "- €30000 - €35000 per year -\n",
            "- Full Time, Permanent -\n",
            "- €45000 - €50000 per year -\n",
            "- Full Time, Permanent -\n",
            "- Full Time, Contract -\n",
            "- Full Time, Contract -\n",
            "- €50000 - €65000 per year -\n",
            "- €45000 - €60000 per year -\n",
            "- â‚¬60000 per year -\n",
            "- Full Time, Permanent -\n",
            "- Full Time, Permanent -\n",
            "- Full Time, Contract -\n",
            "- Full Time, Permanent -\n",
            "- Full Time, Permanent -\n",
            "- €25000 per year -\n",
            "- €41412 - €41412 per year -\n",
            "- €41412 - €41412 per year -\n",
            "- €41412 - €41412 per year -\n",
            "- €41412 - €41412 per year -\n",
            "- €41412 - €41412 per year -\n",
            "- €41412 - €41412 per year -\n",
            "- Full Time, Contract -\n",
            "- Full Time, Permanent -\n"
          ],
          "name": "stdout"
        }
      ]
    },
    {
      "cell_type": "code",
      "metadata": {
        "id": "UHd8LD1kM9VM",
        "colab_type": "code",
        "colab": {}
      },
      "source": [
        "#Checking if the Salary is mentioned in the posting or nots\n",
        "for index in range(len(salary_list)):\n",
        "  if any(map(str.isdigit, salary_list[index])) == False:\n",
        "    salary_list[index] = 'Salary Not Quoted'"
      ],
      "execution_count": 48,
      "outputs": []
    },
    {
      "cell_type": "code",
      "metadata": {
        "id": "H0sb3jJdJacE",
        "colab_type": "code",
        "colab": {}
      },
      "source": [
        "#creating a dictionary of the data collected\n",
        "data = {'Role':role_name_list,'Location':location_list,'Salary':salary_list,'Job Link': link_list}"
      ],
      "execution_count": 49,
      "outputs": []
    },
    {
      "cell_type": "code",
      "metadata": {
        "id": "vFJXW8qmJqJE",
        "colab_type": "code",
        "colab": {
          "base_uri": "https://localhost:8080/",
          "height": 206
        },
        "outputId": "064b470c-0a0e-4426-c1b8-00bf0b60b171"
      },
      "source": [
        "#creating a data frame with the data scrapped\n",
        "df = pd.DataFrame(data)\n",
        "df.head()"
      ],
      "execution_count": 50,
      "outputs": [
        {
          "output_type": "execute_result",
          "data": {
            "text/html": [
              "<div>\n",
              "<style scoped>\n",
              "    .dataframe tbody tr th:only-of-type {\n",
              "        vertical-align: middle;\n",
              "    }\n",
              "\n",
              "    .dataframe tbody tr th {\n",
              "        vertical-align: top;\n",
              "    }\n",
              "\n",
              "    .dataframe thead th {\n",
              "        text-align: right;\n",
              "    }\n",
              "</style>\n",
              "<table border=\"1\" class=\"dataframe\">\n",
              "  <thead>\n",
              "    <tr style=\"text-align: right;\">\n",
              "      <th></th>\n",
              "      <th>Role</th>\n",
              "      <th>Location</th>\n",
              "      <th>Salary</th>\n",
              "      <th>Job Link</th>\n",
              "    </tr>\n",
              "  </thead>\n",
              "  <tbody>\n",
              "    <tr>\n",
              "      <th>0</th>\n",
              "      <td>Senior Data Analyst w/ Python</td>\n",
              "      <td>Dublin, Dublin</td>\n",
              "      <td>Salary Not Quoted</td>\n",
              "      <td>https://job-openings.monster.ie/senior-data-an...</td>\n",
              "    </tr>\n",
              "    <tr>\n",
              "      <th>1</th>\n",
              "      <td>Claims Data Analyst</td>\n",
              "      <td>Dublin, Dublin Dublin</td>\n",
              "      <td>€60000 - €75000 per year</td>\n",
              "      <td>https://job-openings.monster.ie/claims-data-an...</td>\n",
              "    </tr>\n",
              "    <tr>\n",
              "      <th>2</th>\n",
              "      <td>Data Quality Analyst - Global Innovation Centre</td>\n",
              "      <td>Dublin, Dublin</td>\n",
              "      <td>€35000 - €45000 per year</td>\n",
              "      <td>https://job-openings.monster.ie/data-quality-a...</td>\n",
              "    </tr>\n",
              "    <tr>\n",
              "      <th>3</th>\n",
              "      <td>Fleet, GDPR &amp; Data Administrator/Analyst</td>\n",
              "      <td>westmeath, Westmeath</td>\n",
              "      <td>Salary Not Quoted</td>\n",
              "      <td>https://job-openings.monster.ie/fleet-gdpr-dat...</td>\n",
              "    </tr>\n",
              "    <tr>\n",
              "      <th>4</th>\n",
              "      <td>Data Analyst</td>\n",
              "      <td>westmeath, Westmeath</td>\n",
              "      <td>Salary Not Quoted</td>\n",
              "      <td>https://job-openings.monster.ie/data-analyst-w...</td>\n",
              "    </tr>\n",
              "  </tbody>\n",
              "</table>\n",
              "</div>"
            ],
            "text/plain": [
              "                                               Role  ...                                           Job Link\n",
              "0                     Senior Data Analyst w/ Python  ...  https://job-openings.monster.ie/senior-data-an...\n",
              "1                               Claims Data Analyst  ...  https://job-openings.monster.ie/claims-data-an...\n",
              "2   Data Quality Analyst - Global Innovation Centre  ...  https://job-openings.monster.ie/data-quality-a...\n",
              "3          Fleet, GDPR & Data Administrator/Analyst  ...  https://job-openings.monster.ie/fleet-gdpr-dat...\n",
              "4                                      Data Analyst  ...  https://job-openings.monster.ie/data-analyst-w...\n",
              "\n",
              "[5 rows x 4 columns]"
            ]
          },
          "metadata": {
            "tags": []
          },
          "execution_count": 50
        }
      ]
    },
    {
      "cell_type": "code",
      "metadata": {
        "id": "BfOJ9hha0HXE",
        "colab_type": "code",
        "colab": {}
      },
      "source": [
        "df.to_csv(\"details.csv\",index=False)"
      ],
      "execution_count": 51,
      "outputs": []
    },
    {
      "cell_type": "code",
      "metadata": {
        "id": "1WLHrcSL62m9",
        "colab_type": "code",
        "colab": {}
      },
      "source": [
        "with open('link_file.txt', 'w') as f:\n",
        "    for item in link_list:\n",
        "        f.write(\"%s\\n\" % item)"
      ],
      "execution_count": 52,
      "outputs": []
    },
    {
      "cell_type": "code",
      "metadata": {
        "id": "n0D2Xym97UTs",
        "colab_type": "code",
        "colab": {
          "base_uri": "https://localhost:8080/",
          "height": 35
        },
        "outputId": "13e7c6f2-ab80-4f5a-fb95-8fcf4a6f52d8"
      },
      "source": [
        "!git clone https://github.com/chiphuyen/lazynlp.git\n",
        "!cd lazynlp"
      ],
      "execution_count": 53,
      "outputs": [
        {
          "output_type": "stream",
          "text": [
            "fatal: destination path 'lazynlp' already exists and is not an empty directory.\n"
          ],
          "name": "stdout"
        }
      ]
    },
    {
      "cell_type": "code",
      "metadata": {
        "id": "qr1gXJs9-cr9",
        "colab_type": "code",
        "colab": {
          "base_uri": "https://localhost:8080/",
          "height": 673
        },
        "outputId": "cddc6767-7e1a-48a6-bf71-75300f23e67d"
      },
      "source": [
        "!pip install -r lazynlp/requirements.txt"
      ],
      "execution_count": 57,
      "outputs": [
        {
          "output_type": "stream",
          "text": [
            "Collecting git+https://github.com/jaybaird/python-bloomfilter/ (from -r lazynlp/requirements.txt (line 1))\n",
            "  Cloning https://github.com/jaybaird/python-bloomfilter/ to /tmp/pip-req-build-ftzt6uo1\n",
            "  Running command git clone -q https://github.com/jaybaird/python-bloomfilter/ /tmp/pip-req-build-ftzt6uo1\n",
            "Collecting justext\n",
            "\u001b[?25l  Downloading https://files.pythonhosted.org/packages/6c/5f/c7b909b4b864ebcacfac23ce2f6f01a50c53628787cc14b3c06f79464cab/jusText-2.2.0-py2.py3-none-any.whl (860kB)\n",
            "\u001b[K     |████████████████████████████████| 870kB 7.0MB/s \n",
            "\u001b[?25hCollecting unidecode\n",
            "\u001b[?25l  Downloading https://files.pythonhosted.org/packages/d0/42/d9edfed04228bacea2d824904cae367ee9efd05e6cce7ceaaedd0b0ad964/Unidecode-1.1.1-py2.py3-none-any.whl (238kB)\n",
            "\u001b[K     |████████████████████████████████| 245kB 11.5MB/s \n",
            "\u001b[?25hCollecting tldextract\n",
            "\u001b[?25l  Downloading https://files.pythonhosted.org/packages/fd/0e/9ab599d6e78f0340bb1d1e28ddeacb38c8bb7f91a1b0eae9a24e9603782f/tldextract-2.2.2-py2.py3-none-any.whl (48kB)\n",
            "\u001b[K     |████████████████████████████████| 51kB 5.8MB/s \n",
            "\u001b[?25hRequirement already satisfied: requests in /usr/local/lib/python3.6/dist-packages (from -r lazynlp/requirements.txt (line 5)) (2.23.0)\n",
            "Collecting bitarray>=0.3.4\n",
            "\u001b[?25l  Downloading https://files.pythonhosted.org/packages/d5/7e/d44c87d6b96491e546d3d8c68212c99f2311db9bc5a158c8fd5f21148fb7/bitarray-1.4.2.tar.gz (51kB)\n",
            "\u001b[K     |████████████████████████████████| 61kB 6.4MB/s \n",
            "\u001b[?25hRequirement already satisfied: lxml>=2.2.4 in /usr/local/lib/python3.6/dist-packages (from justext->-r lazynlp/requirements.txt (line 2)) (4.2.6)\n",
            "Collecting requests-file>=1.4\n",
            "  Downloading https://files.pythonhosted.org/packages/77/86/cdb5e8eaed90796aa83a6d9f75cfbd37af553c47a291cd47bc410ef9bdb2/requests_file-1.5.1-py2.py3-none-any.whl\n",
            "Requirement already satisfied: setuptools in /usr/local/lib/python3.6/dist-packages (from tldextract->-r lazynlp/requirements.txt (line 4)) (49.1.0)\n",
            "Requirement already satisfied: idna in /usr/local/lib/python3.6/dist-packages (from tldextract->-r lazynlp/requirements.txt (line 4)) (2.10)\n",
            "Requirement already satisfied: certifi>=2017.4.17 in /usr/local/lib/python3.6/dist-packages (from requests->-r lazynlp/requirements.txt (line 5)) (2020.6.20)\n",
            "Requirement already satisfied: urllib3!=1.25.0,!=1.25.1,<1.26,>=1.21.1 in /usr/local/lib/python3.6/dist-packages (from requests->-r lazynlp/requirements.txt (line 5)) (1.24.3)\n",
            "Requirement already satisfied: chardet<4,>=3.0.2 in /usr/local/lib/python3.6/dist-packages (from requests->-r lazynlp/requirements.txt (line 5)) (3.0.4)\n",
            "Requirement already satisfied: six in /usr/local/lib/python3.6/dist-packages (from requests-file>=1.4->tldextract->-r lazynlp/requirements.txt (line 4)) (1.15.0)\n",
            "Building wheels for collected packages: pybloom, bitarray\n",
            "  Building wheel for pybloom (setup.py) ... \u001b[?25l\u001b[?25hdone\n",
            "  Created wheel for pybloom: filename=pybloom-2.0.0-cp36-none-any.whl size=9031 sha256=930976ae9bec5271afd9fd96b6c36923c5e2d1ceb5c6252db70f08d3f1f53e8a\n",
            "  Stored in directory: /tmp/pip-ephem-wheel-cache-wr835d8k/wheels/93/d0/47/719b050d35bfa666a91692a995a12bd77f1671c9f90b8ffc55\n",
            "  Building wheel for bitarray (setup.py) ... \u001b[?25l\u001b[?25hdone\n",
            "  Created wheel for bitarray: filename=bitarray-1.4.2-cp36-cp36m-linux_x86_64.whl size=108537 sha256=902fad6d3d507a67e56eae8cbfc0240b348001382ba21b06ddda86d71bd4ac15\n",
            "  Stored in directory: /root/.cache/pip/wheels/21/11/f3/7c9571443475b1a364ae541cf3cc80f9ceb4f6d6dc5ba7db44\n",
            "Successfully built pybloom bitarray\n",
            "Installing collected packages: justext, unidecode, requests-file, tldextract, bitarray, pybloom\n",
            "Successfully installed bitarray-1.4.2 justext-2.2.0 pybloom-2.0.0 requests-file-1.5.1 tldextract-2.2.2 unidecode-1.1.1\n"
          ],
          "name": "stdout"
        }
      ]
    },
    {
      "cell_type": "code",
      "metadata": {
        "id": "GlQV0nmv_CYa",
        "colab_type": "code",
        "colab": {
          "base_uri": "https://localhost:8080/",
          "height": 182
        },
        "outputId": "ffdfc57b-595e-48cd-9345-19ae8325a783"
      },
      "source": [
        "!pip3 install lazynlp/."
      ],
      "execution_count": 60,
      "outputs": [
        {
          "output_type": "stream",
          "text": [
            "Processing ./lazynlp\n",
            "Building wheels for collected packages: lazynlp\n",
            "  Building wheel for lazynlp (setup.py) ... \u001b[?25l\u001b[?25hdone\n",
            "  Created wheel for lazynlp: filename=lazynlp-0.0.1-cp36-none-any.whl size=12118 sha256=f4180bf720f4bf54cabbcdbf475657b42c93a03bd86bbdc9213dfb1225947f2f\n",
            "  Stored in directory: /tmp/pip-ephem-wheel-cache-7okk5pg_/wheels/15/db/52/4700668f5c5924aeeff06540467dcd910886365522658eb03c\n",
            "Successfully built lazynlp\n",
            "Installing collected packages: lazynlp\n",
            "Successfully installed lazynlp-0.0.1\n"
          ],
          "name": "stdout"
        }
      ]
    },
    {
      "cell_type": "code",
      "metadata": {
        "id": "SDA3uh9yBluM",
        "colab_type": "code",
        "colab": {}
      },
      "source": [
        "import lazynlp"
      ],
      "execution_count": 62,
      "outputs": []
    },
    {
      "cell_type": "code",
      "metadata": {
        "id": "RQEXKQDFA9SZ",
        "colab_type": "code",
        "colab": {}
      },
      "source": [
        "lazynlp.download_pages('link_file.txt', 'downloaded_web_pages/', timeout=30, default_skip=True, extensions=[], domains=[])"
      ],
      "execution_count": null,
      "outputs": []
    },
    {
      "cell_type": "code",
      "metadata": {
        "id": "ckQlD4kcBkgM",
        "colab_type": "code",
        "colab": {}
      },
      "source": [
        ""
      ],
      "execution_count": null,
      "outputs": []
    }
  ]
}