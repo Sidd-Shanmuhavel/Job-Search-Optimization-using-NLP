{
  "nbformat": 4,
  "nbformat_minor": 0,
  "metadata": {
    "kernelspec": {
      "display_name": "Python 3",
      "language": "python",
      "name": "python3"
    },
    "language_info": {
      "codemirror_mode": {
        "name": "ipython",
        "version": 3
      },
      "file_extension": ".py",
      "mimetype": "text/x-python",
      "name": "python",
      "nbconvert_exporter": "python",
      "pygments_lexer": "ipython3",
      "version": "3.7.4"
    },
    "colab": {
      "name": "Monster.com_Crawler.ipynb",
      "provenance": [],
      "collapsed_sections": [],
      "include_colab_link": true
    },
    "accelerator": "GPU"
  },
  "cells": [
    {
      "cell_type": "markdown",
      "metadata": {
        "id": "view-in-github",
        "colab_type": "text"
      },
      "source": [
        "<a href=\"https://colab.research.google.com/github/Sidd-Shanmuhavel/Python---WebCrawler-Using-BeautifulSoup4/blob/master/Monster_com_Crawler.ipynb\" target=\"_parent\"><img src=\"https://colab.research.google.com/assets/colab-badge.svg\" alt=\"Open In Colab\"/></a>"
      ]
    },
    {
      "cell_type": "code",
      "metadata": {
        "id": "dfvjsTEFBfwS",
        "colab_type": "code",
        "colab": {}
      },
      "source": [
        "from bs4 import BeautifulSoup\n",
        "import csv\n",
        "import json\n",
        "import requests\n",
        "import pandas as pd"
      ],
      "execution_count": null,
      "outputs": []
    },
    {
      "cell_type": "code",
      "metadata": {
        "id": "ek182SCMvMW2",
        "colab_type": "code",
        "colab": {}
      },
      "source": [
        "import math"
      ],
      "execution_count": null,
      "outputs": []
    },
    {
      "cell_type": "code",
      "metadata": {
        "id": "nb5e0_1YBfxa",
        "colab_type": "code",
        "colab": {
          "base_uri": "https://localhost:8080/",
          "height": 35
        },
        "outputId": "10a91e22-0333-4dbd-b31f-75dbed5d4368"
      },
      "source": [
        "role = \"data-analyst\"\n",
        "link = f'https://www.monster.ie/jobs/search/?q={role}'\n",
        "\n",
        "print(link)"
      ],
      "execution_count": null,
      "outputs": [
        {
          "output_type": "stream",
          "text": [
            "https://www.monster.ie/jobs/search/?q=data-analyst\n"
          ],
          "name": "stdout"
        }
      ]
    },
    {
      "cell_type": "code",
      "metadata": {
        "id": "0Wp5yPQtBfyL",
        "colab_type": "code",
        "colab": {}
      },
      "source": [
        "source = requests.get(link).text\n",
        "soup = BeautifulSoup(source,'lxml')"
      ],
      "execution_count": null,
      "outputs": []
    },
    {
      "cell_type": "code",
      "metadata": {
        "id": "jndrt9YqsJd1",
        "colab_type": "code",
        "colab": {}
      },
      "source": [
        "num = soup.find(class_='figure')\n",
        "n = math.ceil(int(num.text.split()[0][1:])/25)"
      ],
      "execution_count": null,
      "outputs": []
    },
    {
      "cell_type": "code",
      "metadata": {
        "id": "8tUqGDfBwYMX",
        "colab_type": "code",
        "colab": {
          "base_uri": "https://localhost:8080/",
          "height": 35
        },
        "outputId": "16939b3b-7681-44b1-9255-f563f19d014b"
      },
      "source": [
        "link_final = f'https://www.monster.ie/jobs/search/?q={role}&stpage=1&page={n}'\n",
        "print(link_final)"
      ],
      "execution_count": null,
      "outputs": [
        {
          "output_type": "stream",
          "text": [
            "https://www.monster.ie/jobs/search/?q=data-analyst&stpage=1&page=9\n"
          ],
          "name": "stdout"
        }
      ]
    },
    {
      "cell_type": "code",
      "metadata": {
        "id": "AO2A3pUqyrwB",
        "colab_type": "code",
        "colab": {}
      },
      "source": [
        "source = requests.get(link_final).text\n",
        "soup = BeautifulSoup(source,'lxml')\n",
        "\n",
        "#fetching the search results\n",
        "job_body = soup.find(id = 'ResultsContainer')\n",
        "\n",
        "#It returns a json object\n",
        "script = job_body.find('script').text\n",
        "\n",
        "#Parsing the json, the result is a dict\n",
        "jsonValue = json.loads(script)"
      ],
      "execution_count": null,
      "outputs": []
    },
    {
      "cell_type": "code",
      "metadata": {
        "id": "SOLMtBF5BfzO",
        "colab_type": "code",
        "colab": {}
      },
      "source": [
        "#Links of all the jobs appearing\n",
        "link_list = []\n",
        "for job in jsonValue['itemListElement']:\n",
        "    url = job['url']\n",
        "    if len(url) > 0:\n",
        "        link_list.append(url)"
      ],
      "execution_count": null,
      "outputs": []
    },
    {
      "cell_type": "code",
      "metadata": {
        "id": "4jD1lPNlBfzr",
        "colab_type": "code",
        "colab": {}
      },
      "source": [
        "#Location of all the jobs posted\n",
        "location_list = []\n",
        "role_name_list = []\n",
        "salary_list = []\n",
        "i = 1\n",
        "for link in link_list:\n",
        "  # print(i)\n",
        "  one_job = requests.get(link).text\n",
        "  job_soup = BeautifulSoup(one_job,'lxml')\n",
        "  heading = job_soup.find('div',class_='heading')\n",
        "\n",
        "  #Location\n",
        "  if heading != None:\n",
        "    location_list.append(heading.find(class_ = 'location c-gray-6').text)\n",
        "    #Role Name\n",
        "    role_name_list.append(heading.h1.text)\n",
        "  else:\n",
        "    location_list.append(\"Location Not Found\")\n",
        "    role_name_list.append(\"Role Name not specified\")\n",
        "    \n",
        "  #Salary\n",
        "  about_job = job_soup.find('div', class_='col-md-12 col-8 ta-md-l ta-r font-semibold')\n",
        "  if about_job != None:\n",
        "    \n",
        "    salary_list.append(about_job.text)\n",
        "  else:\n",
        "    salary_list.append(\"None\")"
      ],
      "execution_count": null,
      "outputs": []
    },
    {
      "cell_type": "code",
      "metadata": {
        "id": "UHd8LD1kM9VM",
        "colab_type": "code",
        "colab": {}
      },
      "source": [
        "#Checking if the Salary is mentioned in the posting or nots\n",
        "for index in range(len(salary_list)):\n",
        "  if any(map(str.isdigit, salary_list[index])) == False:\n",
        "    salary_list[index] = 'Salary Not Quoted'"
      ],
      "execution_count": null,
      "outputs": []
    },
    {
      "cell_type": "code",
      "metadata": {
        "id": "H0sb3jJdJacE",
        "colab_type": "code",
        "colab": {}
      },
      "source": [
        "#creating a dictionary of the data collected\n",
        "data = {'Role':role_name_list,'Location':location_list,'Salary':salary_list,'Job Link': link_list}"
      ],
      "execution_count": null,
      "outputs": []
    },
    {
      "cell_type": "code",
      "metadata": {
        "id": "vFJXW8qmJqJE",
        "colab_type": "code",
        "colab": {
          "base_uri": "https://localhost:8080/",
          "height": 206
        },
        "outputId": "8cbe0edb-58c8-4dae-d504-0c346d6c6674"
      },
      "source": [
        "#creating a data frame with the data scrapped\n",
        "df = pd.DataFrame(data)\n",
        "df.head()"
      ],
      "execution_count": null,
      "outputs": [
        {
          "output_type": "execute_result",
          "data": {
            "text/html": [
              "<div>\n",
              "<style scoped>\n",
              "    .dataframe tbody tr th:only-of-type {\n",
              "        vertical-align: middle;\n",
              "    }\n",
              "\n",
              "    .dataframe tbody tr th {\n",
              "        vertical-align: top;\n",
              "    }\n",
              "\n",
              "    .dataframe thead th {\n",
              "        text-align: right;\n",
              "    }\n",
              "</style>\n",
              "<table border=\"1\" class=\"dataframe\">\n",
              "  <thead>\n",
              "    <tr style=\"text-align: right;\">\n",
              "      <th></th>\n",
              "      <th>Role</th>\n",
              "      <th>Location</th>\n",
              "      <th>Salary</th>\n",
              "      <th>Job Link</th>\n",
              "    </tr>\n",
              "  </thead>\n",
              "  <tbody>\n",
              "    <tr>\n",
              "      <th>0</th>\n",
              "      <td>Senior Data Analyst w/ Python</td>\n",
              "      <td>Dublin, Dublin</td>\n",
              "      <td>Salary Not Quoted</td>\n",
              "      <td>https://job-openings.monster.ie/senior-data-an...</td>\n",
              "    </tr>\n",
              "    <tr>\n",
              "      <th>1</th>\n",
              "      <td>Claims Data Analyst</td>\n",
              "      <td>Dublin, Dublin Dublin</td>\n",
              "      <td>€60000 - €75000 per year</td>\n",
              "      <td>https://job-openings.monster.ie/claims-data-an...</td>\n",
              "    </tr>\n",
              "    <tr>\n",
              "      <th>2</th>\n",
              "      <td>Data Quality Analyst - Global Innovation Centre</td>\n",
              "      <td>Dublin, Dublin</td>\n",
              "      <td>€35000 - €45000 per year</td>\n",
              "      <td>https://job-openings.monster.ie/data-quality-a...</td>\n",
              "    </tr>\n",
              "    <tr>\n",
              "      <th>3</th>\n",
              "      <td>Fleet, GDPR &amp; Data Administrator/Analyst</td>\n",
              "      <td>westmeath, Westmeath</td>\n",
              "      <td>Salary Not Quoted</td>\n",
              "      <td>https://job-openings.monster.ie/fleet-gdpr-dat...</td>\n",
              "    </tr>\n",
              "    <tr>\n",
              "      <th>4</th>\n",
              "      <td>Data Analyst</td>\n",
              "      <td>westmeath, Westmeath</td>\n",
              "      <td>Salary Not Quoted</td>\n",
              "      <td>https://job-openings.monster.ie/data-analyst-w...</td>\n",
              "    </tr>\n",
              "  </tbody>\n",
              "</table>\n",
              "</div>"
            ],
            "text/plain": [
              "                                               Role  ...                                           Job Link\n",
              "0                     Senior Data Analyst w/ Python  ...  https://job-openings.monster.ie/senior-data-an...\n",
              "1                               Claims Data Analyst  ...  https://job-openings.monster.ie/claims-data-an...\n",
              "2   Data Quality Analyst - Global Innovation Centre  ...  https://job-openings.monster.ie/data-quality-a...\n",
              "3          Fleet, GDPR & Data Administrator/Analyst  ...  https://job-openings.monster.ie/fleet-gdpr-dat...\n",
              "4                                      Data Analyst  ...  https://job-openings.monster.ie/data-analyst-w...\n",
              "\n",
              "[5 rows x 4 columns]"
            ]
          },
          "metadata": {
            "tags": []
          },
          "execution_count": 12
        }
      ]
    },
    {
      "cell_type": "code",
      "metadata": {
        "id": "BfOJ9hha0HXE",
        "colab_type": "code",
        "colab": {}
      },
      "source": [
        "df.to_csv(\"details.csv\",index=False)"
      ],
      "execution_count": null,
      "outputs": []
    },
    {
      "cell_type": "code",
      "metadata": {
        "id": "1WLHrcSL62m9",
        "colab_type": "code",
        "colab": {}
      },
      "source": [
        "with open('link_file.txt', 'w') as f:\n",
        "    for item in link_list:\n",
        "        f.write(\"%s\\n\" % item)"
      ],
      "execution_count": null,
      "outputs": []
    },
    {
      "cell_type": "code",
      "metadata": {
        "id": "Hs1m9ocPwkHr",
        "colab_type": "code",
        "colab": {}
      },
      "source": [
        "import os\n",
        "dir = 'downloaded_web_pages'\n",
        "os.mkdir(dir)"
      ],
      "execution_count": null,
      "outputs": []
    },
    {
      "cell_type": "code",
      "metadata": {
        "id": "n0D2Xym97UTs",
        "colab_type": "code",
        "colab": {
          "base_uri": "https://localhost:8080/",
          "height": 126
        },
        "outputId": "2dd18a33-1d66-4d26-a55e-491d617b4025"
      },
      "source": [
        "!git clone https://github.com/chiphuyen/lazynlp.git\n",
        "!cd lazynlp"
      ],
      "execution_count": null,
      "outputs": [
        {
          "output_type": "stream",
          "text": [
            "Cloning into 'lazynlp'...\n",
            "remote: Enumerating objects: 21, done.\u001b[K\n",
            "remote: Counting objects:   4% (1/21)\u001b[K\rremote: Counting objects:   9% (2/21)\u001b[K\rremote: Counting objects:  14% (3/21)\u001b[K\rremote: Counting objects:  19% (4/21)\u001b[K\rremote: Counting objects:  23% (5/21)\u001b[K\rremote: Counting objects:  28% (6/21)\u001b[K\rremote: Counting objects:  33% (7/21)\u001b[K\rremote: Counting objects:  38% (8/21)\u001b[K\rremote: Counting objects:  42% (9/21)\u001b[K\rremote: Counting objects:  47% (10/21)\u001b[K\rremote: Counting objects:  52% (11/21)\u001b[K\rremote: Counting objects:  57% (12/21)\u001b[K\rremote: Counting objects:  61% (13/21)\u001b[K\rremote: Counting objects:  66% (14/21)\u001b[K\rremote: Counting objects:  71% (15/21)\u001b[K\rremote: Counting objects:  76% (16/21)\u001b[K\rremote: Counting objects:  80% (17/21)\u001b[K\rremote: Counting objects:  85% (18/21)\u001b[K\rremote: Counting objects:  90% (19/21)\u001b[K\rremote: Counting objects:  95% (20/21)\u001b[K\rremote: Counting objects: 100% (21/21)\u001b[K\rremote: Counting objects: 100% (21/21), done.\u001b[K\n",
            "remote: Compressing objects:   4% (1/21)\u001b[K\rremote: Compressing objects:   9% (2/21)\u001b[K\rremote: Compressing objects:  14% (3/21)\u001b[K\rremote: Compressing objects:  19% (4/21)\u001b[K\rremote: Compressing objects:  23% (5/21)\u001b[K\rremote: Compressing objects:  28% (6/21)\u001b[K\rremote: Compressing objects:  33% (7/21)\u001b[K\rremote: Compressing objects:  38% (8/21)\u001b[K\rremote: Compressing objects:  42% (9/21)\u001b[K\rremote: Compressing objects:  47% (10/21)\u001b[K\rremote: Compressing objects:  52% (11/21)\u001b[K\rremote: Compressing objects:  57% (12/21)\u001b[K\rremote: Compressing objects:  61% (13/21)\u001b[K\rremote: Compressing objects:  66% (14/21)\u001b[K\rremote: Compressing objects:  71% (15/21)\u001b[K\rremote: Compressing objects:  76% (16/21)\u001b[K\rremote: Compressing objects:  80% (17/21)\u001b[K\rremote: Compressing objects:  85% (18/21)\u001b[K\rremote: Compressing objects:  90% (19/21)\u001b[K\rremote: Compressing objects:  95% (20/21)\u001b[K\rremote: Compressing objects: 100% (21/21)\u001b[K\rremote: Compressing objects: 100% (21/21), done.\u001b[K\n",
            "Unpacking objects:   1% (1/76)   \rUnpacking objects:   2% (2/76)   \rUnpacking objects:   3% (3/76)   \rUnpacking objects:   5% (4/76)   \rUnpacking objects:   6% (5/76)   \rUnpacking objects:   7% (6/76)   \rUnpacking objects:   9% (7/76)   \rUnpacking objects:  10% (8/76)   \rUnpacking objects:  11% (9/76)   \rUnpacking objects:  13% (10/76)   \rUnpacking objects:  14% (11/76)   \rUnpacking objects:  15% (12/76)   \rUnpacking objects:  17% (13/76)   \rUnpacking objects:  18% (14/76)   \rUnpacking objects:  19% (15/76)   \rUnpacking objects:  21% (16/76)   \rUnpacking objects:  22% (17/76)   \rUnpacking objects:  23% (18/76)   \rUnpacking objects:  25% (19/76)   \rUnpacking objects:  26% (20/76)   \rUnpacking objects:  27% (21/76)   \rUnpacking objects:  28% (22/76)   \rUnpacking objects:  30% (23/76)   \rUnpacking objects:  31% (24/76)   \rUnpacking objects:  32% (25/76)   \rUnpacking objects:  34% (26/76)   \rUnpacking objects:  35% (27/76)   \rUnpacking objects:  36% (28/76)   \rUnpacking objects:  38% (29/76)   \rUnpacking objects:  39% (30/76)   \rUnpacking objects:  40% (31/76)   \rUnpacking objects:  42% (32/76)   \rUnpacking objects:  43% (33/76)   \rUnpacking objects:  44% (34/76)   \rUnpacking objects:  46% (35/76)   \rUnpacking objects:  47% (36/76)   \rUnpacking objects:  48% (37/76)   \rUnpacking objects:  50% (38/76)   \rUnpacking objects:  51% (39/76)   \rUnpacking objects:  52% (40/76)   \rUnpacking objects:  53% (41/76)   \rUnpacking objects:  55% (42/76)   \rUnpacking objects:  56% (43/76)   \rUnpacking objects:  57% (44/76)   \rUnpacking objects:  59% (45/76)   \rUnpacking objects:  60% (46/76)   \rUnpacking objects:  61% (47/76)   \rUnpacking objects:  63% (48/76)   \rUnpacking objects:  64% (49/76)   \rUnpacking objects:  65% (50/76)   \rUnpacking objects:  67% (51/76)   \rUnpacking objects:  68% (52/76)   \rUnpacking objects:  69% (53/76)   \rUnpacking objects:  71% (54/76)   \rUnpacking objects:  72% (55/76)   \rUnpacking objects:  73% (56/76)   \rUnpacking objects:  75% (57/76)   \rUnpacking objects:  76% (58/76)   \rUnpacking objects:  77% (59/76)   \rUnpacking objects:  78% (60/76)   \rUnpacking objects:  80% (61/76)   \rUnpacking objects:  81% (62/76)   \rUnpacking objects:  82% (63/76)   \rremote: Total 76 (delta 8), reused 6 (delta 0), pack-reused 55\u001b[K\n",
            "Unpacking objects:  84% (64/76)   \rUnpacking objects:  85% (65/76)   \rUnpacking objects:  86% (66/76)   \rUnpacking objects:  88% (67/76)   \rUnpacking objects:  89% (68/76)   \rUnpacking objects:  90% (69/76)   \rUnpacking objects:  92% (70/76)   \rUnpacking objects:  93% (71/76)   \rUnpacking objects:  94% (72/76)   \rUnpacking objects:  96% (73/76)   \rUnpacking objects:  97% (74/76)   \rUnpacking objects:  98% (75/76)   \rUnpacking objects: 100% (76/76)   \rUnpacking objects: 100% (76/76), done.\n"
          ],
          "name": "stdout"
        }
      ]
    },
    {
      "cell_type": "code",
      "metadata": {
        "id": "qr1gXJs9-cr9",
        "colab_type": "code",
        "colab": {
          "base_uri": "https://localhost:8080/",
          "height": 673
        },
        "outputId": "8e5f2420-97dc-49a8-90ab-10aa0217a4a0"
      },
      "source": [
        "!pip install -r lazynlp/requirements.txt"
      ],
      "execution_count": null,
      "outputs": [
        {
          "output_type": "stream",
          "text": [
            "Collecting git+https://github.com/jaybaird/python-bloomfilter/ (from -r lazynlp/requirements.txt (line 1))\n",
            "  Cloning https://github.com/jaybaird/python-bloomfilter/ to /tmp/pip-req-build-awmo4ndn\n",
            "  Running command git clone -q https://github.com/jaybaird/python-bloomfilter/ /tmp/pip-req-build-awmo4ndn\n",
            "Collecting justext\n",
            "\u001b[?25l  Downloading https://files.pythonhosted.org/packages/6c/5f/c7b909b4b864ebcacfac23ce2f6f01a50c53628787cc14b3c06f79464cab/jusText-2.2.0-py2.py3-none-any.whl (860kB)\n",
            "\u001b[K     |████████████████████████████████| 870kB 8.6MB/s \n",
            "\u001b[?25hCollecting unidecode\n",
            "\u001b[?25l  Downloading https://files.pythonhosted.org/packages/d0/42/d9edfed04228bacea2d824904cae367ee9efd05e6cce7ceaaedd0b0ad964/Unidecode-1.1.1-py2.py3-none-any.whl (238kB)\n",
            "\u001b[K     |████████████████████████████████| 245kB 30.3MB/s \n",
            "\u001b[?25hCollecting tldextract\n",
            "\u001b[?25l  Downloading https://files.pythonhosted.org/packages/fd/0e/9ab599d6e78f0340bb1d1e28ddeacb38c8bb7f91a1b0eae9a24e9603782f/tldextract-2.2.2-py2.py3-none-any.whl (48kB)\n",
            "\u001b[K     |████████████████████████████████| 51kB 7.9MB/s \n",
            "\u001b[?25hRequirement already satisfied: requests in /usr/local/lib/python3.6/dist-packages (from -r lazynlp/requirements.txt (line 5)) (2.23.0)\n",
            "Collecting bitarray>=0.3.4\n",
            "\u001b[?25l  Downloading https://files.pythonhosted.org/packages/d5/7e/d44c87d6b96491e546d3d8c68212c99f2311db9bc5a158c8fd5f21148fb7/bitarray-1.4.2.tar.gz (51kB)\n",
            "\u001b[K     |████████████████████████████████| 61kB 9.6MB/s \n",
            "\u001b[?25hRequirement already satisfied: lxml>=2.2.4 in /usr/local/lib/python3.6/dist-packages (from justext->-r lazynlp/requirements.txt (line 2)) (4.2.6)\n",
            "Collecting requests-file>=1.4\n",
            "  Downloading https://files.pythonhosted.org/packages/77/86/cdb5e8eaed90796aa83a6d9f75cfbd37af553c47a291cd47bc410ef9bdb2/requests_file-1.5.1-py2.py3-none-any.whl\n",
            "Requirement already satisfied: idna in /usr/local/lib/python3.6/dist-packages (from tldextract->-r lazynlp/requirements.txt (line 4)) (2.10)\n",
            "Requirement already satisfied: setuptools in /usr/local/lib/python3.6/dist-packages (from tldextract->-r lazynlp/requirements.txt (line 4)) (49.1.0)\n",
            "Requirement already satisfied: certifi>=2017.4.17 in /usr/local/lib/python3.6/dist-packages (from requests->-r lazynlp/requirements.txt (line 5)) (2020.6.20)\n",
            "Requirement already satisfied: chardet<4,>=3.0.2 in /usr/local/lib/python3.6/dist-packages (from requests->-r lazynlp/requirements.txt (line 5)) (3.0.4)\n",
            "Requirement already satisfied: urllib3!=1.25.0,!=1.25.1,<1.26,>=1.21.1 in /usr/local/lib/python3.6/dist-packages (from requests->-r lazynlp/requirements.txt (line 5)) (1.24.3)\n",
            "Requirement already satisfied: six in /usr/local/lib/python3.6/dist-packages (from requests-file>=1.4->tldextract->-r lazynlp/requirements.txt (line 4)) (1.15.0)\n",
            "Building wheels for collected packages: pybloom, bitarray\n",
            "  Building wheel for pybloom (setup.py) ... \u001b[?25l\u001b[?25hdone\n",
            "  Created wheel for pybloom: filename=pybloom-2.0.0-cp36-none-any.whl size=9031 sha256=6d7eb50916799a628031cd3e3441bc0089f884b697655a7410fddd7ac7307262\n",
            "  Stored in directory: /tmp/pip-ephem-wheel-cache-ptf0u0_a/wheels/93/d0/47/719b050d35bfa666a91692a995a12bd77f1671c9f90b8ffc55\n",
            "  Building wheel for bitarray (setup.py) ... \u001b[?25l\u001b[?25hdone\n",
            "  Created wheel for bitarray: filename=bitarray-1.4.2-cp36-cp36m-linux_x86_64.whl size=108513 sha256=39647148bdde2a4505847933d55c7cc3fac7381455517cfdb1e7dc1ab55bd837\n",
            "  Stored in directory: /root/.cache/pip/wheels/21/11/f3/7c9571443475b1a364ae541cf3cc80f9ceb4f6d6dc5ba7db44\n",
            "Successfully built pybloom bitarray\n",
            "Installing collected packages: justext, unidecode, requests-file, tldextract, bitarray, pybloom\n",
            "Successfully installed bitarray-1.4.2 justext-2.2.0 pybloom-2.0.0 requests-file-1.5.1 tldextract-2.2.2 unidecode-1.1.1\n"
          ],
          "name": "stdout"
        }
      ]
    },
    {
      "cell_type": "code",
      "metadata": {
        "id": "GlQV0nmv_CYa",
        "colab_type": "code",
        "colab": {
          "base_uri": "https://localhost:8080/",
          "height": 182
        },
        "outputId": "b638ea7b-8f1e-4580-8c0f-d9a91cfb8217"
      },
      "source": [
        "!pip3 install lazynlp/."
      ],
      "execution_count": null,
      "outputs": [
        {
          "output_type": "stream",
          "text": [
            "Processing ./lazynlp\n",
            "Building wheels for collected packages: lazynlp\n",
            "  Building wheel for lazynlp (setup.py) ... \u001b[?25l\u001b[?25hdone\n",
            "  Created wheel for lazynlp: filename=lazynlp-0.0.1-cp36-none-any.whl size=12118 sha256=974f3097c4e171a5a80e96b2e8764cdf99b797c41cb8104d1eddf71033e68424\n",
            "  Stored in directory: /tmp/pip-ephem-wheel-cache-taq9ai77/wheels/15/db/52/4700668f5c5924aeeff06540467dcd910886365522658eb03c\n",
            "Successfully built lazynlp\n",
            "Installing collected packages: lazynlp\n",
            "Successfully installed lazynlp-0.0.1\n"
          ],
          "name": "stdout"
        }
      ]
    },
    {
      "cell_type": "code",
      "metadata": {
        "id": "SDA3uh9yBluM",
        "colab_type": "code",
        "colab": {}
      },
      "source": [
        "import lazynlp"
      ],
      "execution_count": null,
      "outputs": []
    },
    {
      "cell_type": "code",
      "metadata": {
        "id": "RQEXKQDFA9SZ",
        "colab_type": "code",
        "colab": {
          "base_uri": "https://localhost:8080/",
          "height": 1000
        },
        "outputId": "52ecc8fa-b6cb-4d24-d6af-2a55e0c1617f"
      },
      "source": [
        "lazynlp.download_pages('link_file.txt', '/content/drive/My Drive/Colab Notebooks/Monster_files', timeout=30, default_skip=True, extensions=[], domains=[])"
      ],
      "execution_count": null,
      "outputs": [
        {
          "output_type": "stream",
          "text": [
            "0 https://job-openings.monster.ie/senior-data-analyst-w-python-dublin-dublin-ie-hays-ireland/219111708\n",
            "Counter()\n",
            "1 https://job-openings.monster.ie/claims-data-analyst-dublin-dublin-ie-brightwater-recruitment-specialists/219109744\n",
            "Counter()\n",
            "2 https://job-openings.monster.ie/data-quality-analyst-global-innovation-centre-dublin-dublin-ie-archer-recruitment/219074071\n",
            "Counter()\n",
            "Empty page https://job-openings.monster.ie/fleet-gdpr-data-administrator-analyst-westmeath-westmeath-ie-placeme-recruitment/216450897\n",
            "3 https://job-openings.monster.ie/data-analyst-westmeath-westmeath-ie-placeme-recruitment/216450236\n",
            "Counter()\n",
            "Empty page https://job-openings.monster.ie/master-data-governance-analyst-westmeath-westmeath-ie-cpl-ie/219010135\n",
            "4 https://job-openings.monster.ie/senior-data-analyst-sas-dublin-city-centre-dublin-ie-reperio-human-capital-ltd/218893837\n",
            "Counter()\n",
            "Empty page https://job-openings.monster.ie/data-analyst-dublin-ie-dublin-ie-felix-recruitment-limited/219113380\n",
            "5 https://job-openings.monster.ie/data-warehouse-analyst-sql-50k-dublin-dublin-ie-sigmar/219001528\n",
            "Counter()\n",
            "6 https://job-openings.monster.ie/data-analyst-cork-city-cork-ie-sigmar/218940652\n",
            "Counter()\n",
            "7 https://job-openings.monster.ie/data-governance-analyst-dublin-city-centre-dublin-ie-hays-ireland/218693730\n",
            "Counter()\n",
            "Empty page https://job-openings.monster.ie/data-warehouse-engineer-dublin-city-centre-dublin-ie-harvey-nash-ireland/218775351\n",
            "8 https://job-openings.monster.ie/idq-data-engineer-global-innovation-center-dublin-dublin-ie-archer-recruitment/219106770\n",
            "Counter()\n",
            "Empty page https://job-openings.monster.ie/senior-data-scientist-dublin-city-centre-dublin-ie-reperio-human-capital-ltd/218564582\n",
            "9 https://job-openings.monster.ie/data-engineer-informatica-data-quality-idq-dublin-dublin-ie-archer-recruitment/219086159\n",
            "Counter()\n",
            "Empty page https://job-openings.monster.ie/data-scientist-cork-cork-ie-reperio-human-capital-ltd/218626129\n",
            "10 https://job-openings.monster.ie/senior-data-scientist-media-marketing-insights-dublin-dublin-ie-archer-recruitment/218953689\n",
            "Counter()\n",
            "11 https://job-openings.monster.ie/senior-data-scientist-gaming-dublin-dublin-ie-archer-recruitment/218779019\n",
            "Counter()\n",
            "Empty page https://job-openings.monster.ie/bi-analyst-dublin-dublin-ie-reperio-human-capital-ltd/218988134\n",
            "12 https://job-openings.monster.ie/customer-relations-analyst-maynooth-kildare-ie-link-group/218821782\n",
            "Counter()\n",
            "13 https://job-openings.monster.ie/bi-analyst-greenfield-healthcare-perm-dublin-dublin-ie-archer-recruitment/219092218\n",
            "Counter()\n",
            "Empty page https://job-openings.monster.ie/logistics-business-analyst-dublin-dublin-ie-link-personnel-services/219091052\n",
            "14 https://job-openings.monster.ie/aml-analyst-dublin-dublin-ie-link-group/218799301\n",
            "Counter()\n",
            "15 https://job-openings.monster.ie/sales-marketing-analyst-clare-clare-ie-cpl-ie/219118537\n",
            "Counter()\n",
            "16 https://job-openings.monster.ie/aml-analyst-h-f-dublin-dublin-ie-link-group/218744626\n",
            "Counter()\n",
            "17 https://job-openings.monster.ie/junior-financial-analyst-retail-dublin-dublin-ie-archer-recruitment/219024598\n",
            "Counter()\n",
            "18 https://job-openings.monster.ie/pricing-analyst-dublin-dublin-ie-sigmar/219023464\n",
            "Counter()\n",
            "19 https://job-openings.monster.ie/security-analyst-dublin-dublin-ie-e-frontiers/218882120\n",
            "Counter()\n",
            "20 https://job-openings.monster.ie/bi-analyst-healthcare-technology-dublin-dublin-ie-archer-recruitment/218959671\n",
            "Counter()\n",
            "21 https://job-openings.monster.ie/business-intelligence-analyst-new-team-dublin-dublin-ie-archer-recruitment/218953703\n",
            "Counter()\n",
            "22 https://job-openings.monster.ie/commercial-analyst-dublin-dublin-ie-sigmar/218903470\n",
            "Counter()\n",
            "23 https://job-openings.monster.ie/business-analyst-remote-other-dublin-ie-sigmar/218891539\n",
            "Counter()\n",
            "24 https://job-openings.monster.ie/lead-business-intelligence-analyst-85-95k-dublin-dublin-ie-sigmar/218844468\n",
            "Counter()\n",
            "Empty page https://job-openings.monster.ie/business-analyst-dublin-dublin-ie-recruit-first-it/218701509\n",
            "25 https://job-openings.monster.ie/supply-chain-systems-analyst-clare-clare-ie-cpl-ie/218686208\n",
            "Counter()\n",
            "26 https://job-openings.monster.ie/bi-analyst-remote-working-contract-dublin-dublin-ie-archer-recruitment/218596330\n",
            "Counter()\n",
            "27 https://job-openings.monster.ie/ict-applications-support-analyst-dublin-dublin-ie-executive-edge-citywest/216804434\n",
            "Counter()\n",
            "28 https://job-openings.monster.ie/cyber-security-analyst-dublin-dublin-ie-cpl-ie/219128259\n",
            "Counter()\n",
            "Empty page https://job-openings.monster.ie/energy-analyst-dublin-city-centre-dublin-ie-reperio-human-capital-ltd/218809164\n",
            "UnicodeError for https://job-openings.monster.ie/senior-business-analyst-financial-services–-11-month-contract-sandyford-dublin-ie-vantage-resources-limited/219063098\n",
            "29 https://job-openings.monster.ie/financial-accountant-analyst-galway-galway-ie-frs-recruitment/219042846\n",
            "Counter()\n",
            "30 https://job-openings.monster.ie/senior-analyst-java-uml-agile-dublin-dublin-ie-fineos-corporation/215270906\n",
            "Counter()\n",
            "UnicodeError for https://job-openings.monster.ie/business-analyst-insurance-annuities-–-11-month-contract-clare-clare-ie-vantage-resources-limited/218726768\n",
            "31 https://job-openings.monster.ie/associate-accountant-fee-analyst-limerick-limerick-ie-sigmar/219012092\n",
            "Counter()\n",
            "32 https://job-openings.monster.ie/financial-analyst-remote-galway-city-galway-ie-sigmar/219011717\n",
            "Counter()\n",
            "Empty page https://job-openings.monster.ie/business-analyst-contract-dublin-dublin-ie-cpl-ie/219005771\n",
            "33 https://job-openings.monster.ie/transfer-agency-analyst-dublin-dublin-ie-sigmar/218959267\n",
            "Counter()\n",
            "34 https://job-openings.monster.ie/lab-analyst-mayo-mayo-ie-cpl-ie/218930346\n",
            "Counter()\n",
            "Empty page https://job-openings.monster.ie/regulatory-reporting-senior-analyst-dublin-city-centre-dublin-ie-harvey-nash-ireland/218913754\n",
            "35 https://job-openings.monster.ie/sales-operations-analyst-dublin-dublin-ie-sigmar/218891138\n",
            "Counter()\n",
            "36 https://job-openings.monster.ie/microbiology-analyst-dublin-dublin-ie-sigmar/218849750\n",
            "Counter()\n",
            "37 https://job-openings.monster.ie/microbiology-analyst-dublin-dublin-ie-sigmar/218831082\n",
            "Counter()\n",
            "38 https://job-openings.monster.ie/senior-business-analyst-wealth-management-dublin-dublin-ie-archer-recruitment/218776874\n",
            "Counter()\n",
            "39 https://job-openings.monster.ie/qc-microbiology-analyst-dublin-dublin-ie-sigmar/218767844\n",
            "Counter()\n",
            "40 https://job-openings.monster.ie/senior-investment-operations-analyst-35-41k-dublin-dublin-ie-sigmar/218577672\n",
            "Counter()\n",
            "41 https://job-openings.monster.ie/qc-analyst-dublin-dublin-ie-sigmar/218554666\n",
            "Counter()\n",
            "42 https://job-openings.monster.ie/qc-lab-reviewer-job-flexible-working-westmeath-westmeath-ie-frs-recruitment/218673575\n",
            "Counter()\n",
            "Empty page https://job-openings.monster.ie/laboratory-coordinator-job-westmeath-westmeath-ie-frs-recruitment/218673524\n",
            "43 https://job-openings.monster.ie/sdet-tipperary-tipperary-ie-cpl-ie/218553972\n",
            "Counter()\n",
            "44 https://job-openings.monster.ie/senior-supply-chain-specialist-cork-cork-ie-berkley-recruitment-group/219107788\n",
            "Counter()\n",
            "45 https://job-openings.monster.ie/product-specialist-dublin-dublin-ie-sigmar/218600592\n",
            "Counter()\n",
            "46 https://job-openings.monster.ie/cloud-infrastructure-engineer-cork-cork-ie-morgan-mckinley/219114339\n",
            "Counter()\n",
            "47 https://job-openings.monster.ie/systems-administrator-waterford-waterford-ie-itcontracting/218939129\n",
            "Counter()\n",
            "48 https://job-openings.monster.ie/etl-developer-dublin-dublin-ie-sigmar/219040223\n",
            "Counter()\n",
            "49 https://job-openings.monster.ie/t24-solution-architect-kildare-kildare-ie-link-group/218903398\n",
            "Counter()\n",
            "50 https://job-openings.monster.ie/cyber-security-system-engineer-remote-dublin-dublin-ie-harvey-nash-ireland/219014141\n",
            "Counter()\n",
            "51 https://job-openings.monster.ie/senior-database-engineer-graphdb-contract-dublin-dublin-ie-mason-alexander-limited/218650229\n",
            "Counter()\n",
            "52 https://job-openings.monster.ie/senior-salesforce-developer-sales-cloud-dublin-dublin-ie-qptech/218405394\n",
            "Counter()\n",
            "Empty page https://job-openings.monster.ie/salesforce-administrator-dublin-dublin-ie-cpl-ie/218999969\n",
            "53 https://job-openings.monster.ie/privacy-manager-dublin-dublin-ie-sigmar/218808238\n",
            "Counter()\n",
            "Empty page https://job-openings.monster.ie/product-owner-fintech-dublin-dublin-ie-harvey-nash-ireland/219097233\n",
            "54 https://job-openings.monster.ie/temps-dublin-dublin-ie-sigmar/219089210\n",
            "Counter()\n",
            "55 https://job-openings.monster.ie/billing-executive-ar-limerick-limerick-ie-sigmar/219024110\n",
            "Counter()\n",
            "56 https://job-openings.monster.ie/senior-qa-validation-limerick-limerick-ie-manpower-ireland/217207063\n",
            "Counter()\n",
            "57 https://job-openings.monster.ie/senior-qa-validation-specialist-limerick-limerick-ie-manpower-ireland/217481847\n",
            "Counter()\n",
            "58 https://job-openings.monster.ie/it-asset-management-support-dublin-dublin-ie-cpl-ie/219010130\n",
            "Counter()\n",
            "59 https://job-openings.monster.ie/portuguese-video-content-specialist-dublin-dublin-ie-sigmar/218892487\n",
            "Counter()\n",
            "60 https://job-openings.monster.ie/japanese-video-content-specialist-dublin-dublin-ie-sigmar/218892486\n",
            "Counter()\n",
            "61 https://job-openings.monster.ie/german-video-content-specialist-dublin-dublin-ie-sigmar/218892485\n",
            "Counter()\n",
            "62 https://job-openings.monster.ie/english-video-content-specialist-dublin-dublin-ie-sigmar/218892483\n",
            "Counter()\n",
            "63 https://job-openings.monster.ie/spanish-video-content-specialist-dublin-dublin-ie-sigmar/218891602\n",
            "Counter()\n",
            "64 https://job-openings.monster.ie/french-video-content-reviewer-dublin-dublin-ie-sigmar/218891601\n",
            "Counter()\n",
            "65 https://job-openings.monster.ie/payroll-specialist-tech-company-40-45k-dublin-dublin-ie-sigmar/218616465\n",
            "Counter()\n",
            "66 https://job-openings.monster.ie/head-it-project-delivery-agile-financial-exp-dublin-dublin-ie-sigmar/218603013\n",
            "Counter()\n",
            "67 https://job-openings.monster.ie/risk-analyst-data-model-strategy-dublin-15-ie-paypal/a61a5b99-19ce-4a40-9d29-3bca32899f30\n",
            "Counter()\n",
            "68 https://job-openings.monster.ie/dublin-ie-risk-analyst-data-model-strategy-dublin-ie-paypal/62065edf-9bbc-4522-b5eb-5b22c48b56c3\n",
            "Counter()\n",
            "69 https://job-openings.monster.ie/sap-ixp-intern-commercial-sales-data-analyst-job-dublin-ie-sap/99035704-48f0-4c26-bef8-67abf92a7c7e\n",
            "Counter()\n",
            "70 https://job-openings.monster.ie/data-analyst-dublin-ie-axa/3f37d12c-5b5d-4e2c-b75e-06090438fd87\n",
            "Counter()\n",
            "71 https://job-openings.monster.ie/sap-ixp-intern-commercial-sales-data-analyst-job-dublin-ie-sap-business-objects/eda8120f-9bd9-4851-b93e-3ec712885cc3\n",
            "Counter()\n",
            "72 https://job-openings.monster.ie/payments-product-data-analyst-dublin-ie-facebook/08473d62-0505-4a59-96b1-1013d1dc9825\n",
            "Counter()\n",
            "73 https://job-openings.monster.ie/data-analyst-credit-risk-dublin-ie-facebook/65712b20-fd61-488e-b138-c9520ff2f1b9\n",
            "Counter()\n",
            "74 https://job-openings.monster.ie/data-analyst-dublin-ie-facebook/17872101-a964-4b5e-a332-75e6a86615ca\n",
            "Counter()\n",
            "75 https://job-openings.monster.ie/data-analyst-dublin-dublin-18-ie-affirma-consulting/47233bd0-2968-436b-b5b3-357050daee8a\n",
            "Counter()\n",
            "76 https://job-openings.monster.ie/data-analytics-analyst-gartner-research-ie-gartner/8c89e5af-95fb-4f7a-863e-fa189434b8c1\n",
            "Counter()\n",
            "Empty page https://job-openings.monster.ie/fleet-gdpr-data-administrator-analyst-athlone-ie-salessense/696aa8f3-f61e-4f51-b2a1-0d2ae6e5039e\n",
            "77 https://job-openings.monster.ie/data-analyst-athlone-ie-salessense/a9333018-56d4-4ff2-bb62-4d4027220f2c\n",
            "Counter()\n",
            "78 https://job-openings.monster.ie/data-analyst-ii-dublin-dublin-ie-virtus-partners/28f61d21-1178-47d3-9549-b309b067af92\n",
            "Counter()\n",
            "79 https://job-openings.monster.ie/data-analyst-i-structured-finance-dublin-dublin-ie-virtus-partners/3dcef235-7e7e-49d1-9478-317e230072cf\n",
            "Counter()\n",
            "80 https://job-openings.monster.ie/data-analyst-ii-dublin-ie-virtus-partners-llc/e0958827-2758-4373-922a-44cd5e2bfe0d\n",
            "Counter()\n",
            "Empty page https://job-openings.monster.ie/data-analyst-iii-dublin-ie-virtus-partners-llc/005507f8-10d4-42bb-a1db-89b92bc8ad54\n",
            "81 https://job-openings.monster.ie/data-analyst-i-structured-finance-dublin-ie-virtus-partners-llc/07903157-a281-4bdc-b89a-03354bbf78df\n",
            "Counter()\n",
            "82 https://job-openings.monster.ie/software-development-engineer-data-discovery-dublin-ie-groupon-gmbh/9183b45e-75be-40cf-b451-efe67c20a7cb\n",
            "Counter()\n",
            "83 https://job-openings.monster.ie/data-analytics-associate-performance-management-dublin-ie-facebook/f0728d54-dc0c-4ea6-a00e-af24c4973f5c\n",
            "Counter()\n",
            "84 https://job-openings.monster.ie/senior-data-scientist-dublin-ireland-dublin-ie-unitedhealth-group/4c007f61-532d-4976-868e-bd48d6b17406\n",
            "Counter()\n",
            "85 https://job-openings.monster.ie/data-engineer-ai-dublin-ie-shutterstock-inc/15d2f071-078b-457c-b830-b76a4a30d3a0\n",
            "Counter()\n",
            "86 https://job-openings.monster.ie/director-of-ai-data-science-dublin-ie-shutterstock-inc/00c6bb00-7c3e-4b9e-949a-2895ab70aa60\n",
            "Counter()\n",
            "87 https://job-openings.monster.ie/data-architect-cork-ie-cloudera/c1488322-ee3a-4c1e-ba3b-ad7acf1b4b29\n",
            "Counter()\n",
            "88 https://job-openings.monster.ie/qc-bioanalytical-analyst-cruiserath-ie-bristol-myers-squibb/1fc1e291-1526-4ba5-8e33-f7744b660e0d\n",
            "Counter()\n",
            "UnicodeError for https://job-openings.monster.ie/business-analyst-–-financial-services-consulting-dublin-ie-ey/f86b18c2-a317-429b-9b9f-2c8e5459f9e9\n",
            "89 https://job-openings.monster.ie/lcms-chemistry-analyst-dungarvan-ie-eurofins/5764098a-acb8-4d91-99ce-98ad96eece1a\n",
            "Counter()\n",
            "90 https://job-openings.monster.ie/senior-fp-a-analyst-dublin-ie-sap/55a75665-1a35-4e78-8a50-767238acc328\n",
            "Counter()\n",
            "91 https://job-openings.monster.ie/analyst-ballina-ie-charles-river-laboratories/a765b00a-63af-4950-bf09-d59d71561b9b\n",
            "Counter()\n",
            "92 https://job-openings.monster.ie/financial-analyst-dublin-ie-veritas/96325d8f-1e58-4d96-919c-b70ef64c1e94\n",
            "Counter()\n",
            "93 https://job-openings.monster.ie/senior-security-analyst-dublin-ie-mastercard/83288ffa-9831-46be-b4ce-c603d20125b2\n",
            "Counter()\n",
            "94 https://job-openings.monster.ie/junior-content-analyst-australian-market-cork-ie-globe-technical-service-ltd/bc157ea4-7da0-4bd2-b8d6-b403a1024e6a\n",
            "Counter()\n",
            "95 https://job-openings.monster.ie/senior-risk-strategy-analyst-dublin-15-ie-paypal/4190de95-850d-4385-81cb-2fcbddacc6e3\n",
            "Counter()\n",
            "96 https://job-openings.monster.ie/compensation-total-rewards-analyst-cork-ie-logitech/94bd12c2-7c10-4c0a-a96f-1e7e5b93632d\n",
            "Counter()\n",
            "97 https://job-openings.monster.ie/junior-content-analyst-australian-market-cork-ie-globetech/31028c83-aaed-40b2-b41b-61ecdb45111b\n",
            "Counter()\n",
            "98 https://job-openings.monster.ie/order-management-analyst-dublin-ie-new-relic/62c9e6e0-5d41-4ecf-b621-10dedd654968\n",
            "Counter()\n",
            "99 https://job-openings.monster.ie/junior-content-analyst-spanish-market-cork-ie-globe-technical-service-ltd/279e034d-d7cb-4c0d-8723-cf5ed8fd7db9\n",
            "Counter()\n",
            "100 https://job-openings.monster.ie/content-enforcement-analyst-commerce-operations-dublin-ie-facebook/11d32434-bd6b-481b-be4e-af59ce0a0721\n",
            "Counter()\n",
            "101 https://job-openings.monster.ie/business-analyst-pmo-dublin-ie-blueface/76e286f9-193b-4e61-be96-30c4f55beaad\n",
            "Counter()\n",
            "102 https://job-openings.monster.ie/junior-content-analyst-spanish-market-cork-ie-globetech/93f6d9c6-dadf-4e4a-9408-9e1feedb31c2\n",
            "Counter()\n",
            "103 https://job-openings.monster.ie/regulatory-reporting-senior-analyst-dublin-15-ie-paypal/172248c9-9a91-4f16-b932-55a20cd4f3a1\n",
            "Counter()\n",
            "104 https://job-openings.monster.ie/business-integrity-ops-technical-analyst-dublin-ie-facebook/32b87cc4-98d6-409f-9305-a744a75cdcb1\n",
            "Counter()\n",
            "105 https://job-openings.monster.ie/scientific-analyst-bioassay-ringaskiddy-ie-eurofins/e589074b-4fd9-40a5-817e-ab4a458f77f5\n",
            "Counter()\n",
            "Error 404 for https://job-openings.monster.ie/infra-technology-support-senior-analyst-dublin-ie-accenture/cdf85c10-9882-47e6-b0fc-f4df252bac80\n",
            "106 https://job-openings.monster.ie/junior-content-analyst-french-market-cork-ie-globe-technical-service-ltd/66ee62cf-ac4e-4108-835a-9758ac1e1812\n",
            "Counter()\n",
            "107 https://job-openings.monster.ie/junior-content-analyst-uk-market-cork-ie-globe-technical-service-ltd/7047c4b9-71c0-4bd7-862a-da1f826ae8d7\n",
            "Counter()\n",
            "108 https://job-openings.monster.ie/junior-content-analyst-german-market-cork-ie-globe-technical-service-ltd/9a184165-a132-4b2f-b9dd-8c4917108e43\n",
            "Counter()\n",
            "109 https://job-openings.monster.ie/junior-content-analyst-french-market-cork-ie-globetech/9b6d6255-97d3-4515-8b97-9ac3affd948c\n",
            "Counter()\n",
            "110 https://job-openings.monster.ie/junior-content-analyst-uk-market-cork-ie-globetech/6f79d3a9-4900-4596-8b4c-31991775d862\n",
            "Counter()\n",
            "111 https://job-openings.monster.ie/junior-content-analyst-german-market-cork-ie-globetech/d86c8224-f496-42db-a44c-fba09e93cc48\n",
            "Counter()\n",
            "112 https://job-openings.monster.ie/tableau-developer-analyst-dublin-ie-singlepoint/0eb22652-c2c4-493f-9c13-a85b9b66d193\n",
            "Counter()\n",
            "113 https://job-openings.monster.ie/global-sales-compensation-analyst-11-month-contract-dublin-ie-peabody-management-inc/b5c828bf-a67d-40ca-ab81-6b3cfd4b64d5\n",
            "Counter()\n",
            "114 https://job-openings.monster.ie/client-analyst-dublin-ie-taskus/58ea407a-46fd-4441-a048-de1cf50a47bb\n",
            "Counter()\n",
            "Empty page https://job-openings.monster.ie/sql-database-developer-analyst-galway-ie-salessense/fced5e8d-d7ef-4e7b-b1a7-3063a5a56f1f\n",
            "115 https://job-openings.monster.ie/technical-solutions-analyst-iii-cork-ie-vertex-inc/5c9d2666-d574-453a-a1a6-5603f2c1501b\n",
            "Counter()\n",
            "116 https://job-openings.monster.ie/sr-associate-information-security-analyst-cork-ie-mckesson/778314b4-c5f0-475e-8f5b-877b4d66c975\n",
            "Counter()\n",
            "117 https://job-openings.monster.ie/senior-business-analyst-clonakilty-dublin-ie-expleo/94c124ea-26f4-4a37-a0d3-7402b06a4db4\n",
            "Counter()\n",
            "Error 404 for https://job-openings.monster.ie/associate-wfm-analyst-dublin-ie-accenture/9a0050a4-5304-4904-86db-73f2f4e0f3b9\n",
            "118 https://job-openings.monster.ie/transfer-pricing-analyst-ie-ey/c9686fb4-5da0-4393-8baa-8fc52e67562d\n",
            "Counter()\n",
            "119 https://job-openings.monster.ie/qa-analyst-telco-experience-dublin-ie-expleo/00be67b4-52df-46f1-960c-328c5425041e\n",
            "Counter()\n",
            "120 https://job-openings.monster.ie/analytical-analyst-ballina-ie-charles-river-laboratories/877d7482-c4a1-4931-a845-038438576076\n",
            "Counter()\n",
            "Error 404 for https://job-openings.monster.ie/risk-quality-analyst-dublin-ie-accenture/3569fde1-8060-4775-878f-eac6a3c4b753\n",
            "UnicodeError for https://job-openings.monster.ie/compliance-analyst-–-conduct-risk-dublin-ie-xl-group/0639b292-cfe4-4288-8eda-f57ee06f6999\n",
            "121 https://job-openings.monster.ie/supplier-quality-analyst-shannon-ie-edwards-lifesciences/a4dbc92f-8b47-41ea-9c00-981f1dbd77ff\n",
            "Counter()\n",
            "122 https://job-openings.monster.ie/information-security-analyst-dublin-ie-perrigo/94c38e9e-838a-4a80-aaf9-c20e7496c318\n",
            "Counter()\n",
            "Error 404 for https://job-openings.monster.ie/risk-wfm-analyst-dublin-ie-accenture/bc301ba8-4502-4a2f-b512-76961008343c\n",
            "123 https://job-openings.monster.ie/global-trade-operations-analyst-emea-dublin-cah-office-ie-cardinal-health/c36073c0-8f2a-4ee8-97c5-10d4d30ba54e\n",
            "Counter()\n",
            "124 https://job-openings.monster.ie/senior-business-analyst-dublin-or-letterkenny-ir-dublin-ie-unitedhealth-group/62d5572f-6cec-4b0d-b57e-1870dcd8e1bd\n",
            "Counter()\n",
            "Error 404 for https://job-openings.monster.ie/collections-analyst-french-dublin-ie-accenture/1113c2b6-906e-4641-a65a-d3f3e31946a5\n",
            "UnicodeError for https://job-openings.monster.ie/pmo-analyst-banking-–-financial-services-consulting-dublin-ie-ey/9184ca75-071a-42bf-b4a0-155e290c6c8d\n",
            "125 https://job-openings.monster.ie/senior-business-analyst-fund-accounting-experience-dublin-ie-expleo/3b8b7f72-da8c-45e5-b4bb-29c789bfc58c\n",
            "Counter()\n",
            "126 https://job-openings.monster.ie/business-systems-analyst-openair-cork-ie-cloudera/5b7dbe80-ddd9-4954-a2cb-4c1e058329d7\n",
            "Counter()\n",
            "127 https://job-openings.monster.ie/validation-analyst-athlone-ie-cbre/1a26ca62-7290-4bb9-a1ab-e3a0841f9f61\n",
            "Counter()\n",
            "128 https://job-openings.monster.ie/sales-operations-analyst-dublin-ireland-ie-intercom/e9d0cadb-24f2-40d0-95b5-3ef49b1e29b9\n",
            "Counter()\n",
            "129 https://job-openings.monster.ie/sample-management-analyst-ringaskiddy-ringaskiddy-ie-eurofins/5328bb71-869b-441b-9c8c-899feeee1dba\n",
            "Counter()\n",
            "130 https://job-openings.monster.ie/process-science-equipment-analyst-limerick-limerick-ie-eurofins/8b8df06a-7c10-4d94-9bef-9949f08a6506\n",
            "Counter()\n",
            "Empty page https://job-openings.monster.ie/hris-administrator-analyst-galway-ie-salessense/11814ee3-9ec5-49dd-a0e9-a982b17a7379\n",
            "131 https://job-openings.monster.ie/micro-lead-analyst-kinsale-kinsale-ie-eurofins/efd8a24d-8e51-4919-8353-7d12953b26bc\n",
            "Counter()\n",
            "132 https://job-openings.monster.ie/global-asset-analyst-i-dublin-dublin-ie-virtus-partners/3bf50047-67c3-4179-8592-4db195ed0103\n",
            "Counter()\n",
            "133 https://job-openings.monster.ie/global-asset-analyst-i-dublin-ie-virtus-partners-llc/1627752f-a389-43b1-8cdc-fca5e7c9388b\n",
            "Counter()\n",
            "134 https://job-openings.monster.ie/it-systems-analyst-dublin-ie-virtus-partners-llc/58614d21-1342-4dbe-ae41-2443505ebe9c\n",
            "Counter()\n",
            "135 https://job-openings.monster.ie/performance-engineer-dublin-ie-workday-inc/21443b56-3fec-4515-9b83-35e4c48b2ad0\n",
            "Counter()\n",
            "136 https://job-openings.monster.ie/it-procurement-it-asset-management-expert-gartner-research-advisory-ireland-dublin-ie-gartner/a7ad4ea8-2688-4b1d-a667-2cb391205086\n",
            "Counter()\n",
            "137 https://job-openings.monster.ie/senior-scientist-chemistry-dungarvan-ie-eurofins/1064401c-0c93-46c6-be90-ccc651c9269e\n",
            "Counter()\n",
            "138 https://job-openings.monster.ie/lead-software-engineer-full-stack-fraud-platform-dublin-ie-mastercard/9c16a6e0-047b-41d0-bc09-af173f236d6c\n",
            "Counter()\n",
            "Error 404 for https://job-openings.monster.ie/customer-service-agent-fluent-german-dublin-ie-accenture/38e8af24-312b-4c3c-9bdf-c3223befa08a\n",
            "139 https://job-openings.monster.ie/it-business-partner-commercial-cork-ie-johnson-controls-inc/647b006d-3490-4960-83bd-bb76c0b61108\n",
            "Counter()\n",
            "140 https://job-openings.monster.ie/it-business-partner-commercial-ie-cork-ie-johnson-controls-inc/e795c106-34c1-4c36-8e68-08a4504859bd\n",
            "Counter()\n",
            "141 https://job-openings.monster.ie/technical-content-designer-dublin-dublin-ie-tibco/9f01478c-e564-40be-9eed-06995bdfa7fb\n",
            "Counter()\n",
            "142 https://job-openings.monster.ie/edi-b2b-on-boarding-specialist-cork-cork-ie-globetech/47803e8a-f4d8-4595-bfc2-4ca5f663051e\n",
            "Counter()\n",
            "143 https://job-openings.monster.ie/edi-b2b-on-boarding-specialist-cork-cork-ie-globe-technical-service-ltd/8df41076-ac55-4750-9319-fcde3fd7a960\n",
            "Counter()\n",
            "144 https://job-openings.monster.ie/finance-manager-opex-cork-ie-logitech/ae7b7923-4dc4-4a75-8ce2-4b3036365543\n",
            "Counter()\n",
            "145 https://job-openings.monster.ie/tech-content-designer-dublin-dublin-ie-tibco/870a0529-742a-453c-89a9-02f96ecdba45\n",
            "Counter()\n",
            "146 https://job-openings.monster.ie/qa-engineer-with-english-british-market-cork-cork-ie-globe-technical-service-ltd/66d5ebe9-00b9-4ab1-bb22-353d16fe8edc\n",
            "Counter()\n",
            "147 https://job-openings.monster.ie/qa-engineer-with-english-british-market-cork-cork-ie-globetech/92d2ad23-4b36-47b6-84fd-6ff9e867852f\n",
            "Counter()\n",
            "148 https://job-openings.monster.ie/analytical-group-supervisor-pharmaceuticals-athlone-ie-cbre/9eb6cbea-0b57-46db-b159-222c8fd2051e\n",
            "Counter()\n",
            "149 https://job-openings.monster.ie/cloud-engineer-dublin-ie-genuity-science/b2ac9528-1d66-4b4f-8b2e-27225f2bba71\n",
            "Counter()\n",
            "150 https://job-openings.monster.ie/analytical-group-supervisor-athlone-ie-cbre/cd1003fc-1d5d-405b-ab54-b1cce9aa9aaf\n",
            "Counter()\n",
            "151 https://job-openings.monster.ie/localisation-tester-with-hebrew-cork-cork-ie-globe-technical-service-ltd/34826210-407f-4c39-a5c9-b938e64a7309\n",
            "Counter()\n",
            "152 https://job-openings.monster.ie/localisation-tester-with-hebrew-cork-cork-ie-globetech/4c12972e-0b49-4982-8c8d-80881f069a26\n",
            "Counter()\n",
            "153 https://job-openings.monster.ie/qa-engineer-with-french-swiss-market-cork-cork-ie-globe-technical-service-ltd/0a838e23-1e97-4e6e-8e26-a30600df0360\n",
            "Counter()\n",
            "154 https://job-openings.monster.ie/qa-engineer-with-danish-cork-cork-ie-globe-technical-service-ltd/7d0cca21-30af-4b35-9e0b-a0fa93fb1b01\n",
            "Counter()\n",
            "155 https://job-openings.monster.ie/localisation-qa-engineer-with-hebrew-cork-cork-ie-globe-technical-service-ltd/8fcd74c2-7606-43cd-afa4-041924c5e463\n",
            "Counter()\n",
            "156 https://job-openings.monster.ie/localisation-qa-engineer-with-french-cork-cork-ie-globe-technical-service-ltd/c6a31a75-e59b-42e2-9ecb-596e0a5a2e13\n",
            "Counter()\n",
            "157 https://job-openings.monster.ie/localisation-qa-engineer-with-english-australian-market-cork-cork-ie-globe-technical-service-ltd/ccb3740e-a40c-4ab6-8f22-1ca56331be42\n",
            "Counter()\n",
            "158 https://job-openings.monster.ie/qa-engineer-with-english-canadian-market-cork-cork-ie-globe-technical-service-ltd/0ac347f0-144f-4bc8-87bc-34f3436bc979\n",
            "Counter()\n",
            "159 https://job-openings.monster.ie/qa-engineer-with-turkish-cork-cork-ie-globe-technical-service-ltd/45d1f8fc-c314-46e5-9fe9-68b93f886c46\n",
            "Counter()\n",
            "160 https://job-openings.monster.ie/qa-engineer-with-swedish-cork-cork-ie-globe-technical-service-ltd/6ea3e486-8d16-47b0-a35b-1032125ffee1\n",
            "Counter()\n",
            "161 https://job-openings.monster.ie/qa-engineer-with-arabic-cork-cork-ie-globe-technical-service-ltd/89dd3344-b6fa-4d15-bd76-7759398fe409\n",
            "Counter()\n",
            "162 https://job-openings.monster.ie/qa-engineer-with-dutch-or-flemish-cork-cork-ie-globe-technical-service-ltd/bdaf31f4-e733-4b37-b7f1-e8bf68b83d7d\n",
            "Counter()\n",
            "163 https://job-openings.monster.ie/localisation-tester-with-dutch-cork-cork-ie-globe-technical-service-ltd/fca025f3-0040-4de2-b3ec-58b4aaaee1d6\n",
            "Counter()\n",
            "164 https://job-openings.monster.ie/qa-engineer-with-french-swiss-market-cork-cork-ie-globetech/ca7fb94d-1db0-4652-b7f2-9dd9ef9ce796\n",
            "Counter()\n",
            "165 https://job-openings.monster.ie/localisation-qa-engineer-with-english-australian-market-cork-cork-ie-globetech/d4435968-68cd-406c-a98f-8f99e3e6656f\n",
            "Counter()\n",
            "166 https://job-openings.monster.ie/localisation-qa-engineer-with-hebrew-cork-cork-ie-globetech/e58c54d0-1288-4f7f-8abe-826d1fc48f3f\n",
            "Counter()\n",
            "167 https://job-openings.monster.ie/qa-engineer-with-danish-cork-cork-ie-globetech/b72658e1-97bb-4431-a048-b1bb8373eef7\n",
            "Counter()\n",
            "168 https://job-openings.monster.ie/qa-engineer-with-dutch-or-flemish-cork-cork-ie-globetech/9de7296d-5c76-4753-9776-cd293a74e98e\n",
            "Counter()\n",
            "169 https://job-openings.monster.ie/comms-planning-business-director-dublin-ie-mediacom/49f2b408-2655-4266-805e-61143e9d6bcd\n",
            "Counter()\n",
            "170 https://job-openings.monster.ie/comms-planning-business-director-dublin-ie-groupm/2a23284c-27bf-40e1-bfd6-d922b097290e\n",
            "Counter()\n",
            "171 https://job-openings.monster.ie/localisation-qa-engineer-with-french-cork-cork-ie-globetech/5f15314b-3f88-4b1a-9e5a-d4178f60b0ef\n",
            "Counter()\n",
            "172 https://job-openings.monster.ie/qa-engineer-with-arabic-cork-cork-ie-globetech/7a153d78-3540-4b9b-bf07-9091a56603d2\n",
            "Counter()\n",
            "173 https://job-openings.monster.ie/localisation-tester-with-dutch-cork-cork-ie-globetech/77d98009-cc36-47dc-ab66-9f986fd748d7\n",
            "Counter()\n",
            "174 https://job-openings.monster.ie/qa-engineer-with-swedish-cork-cork-ie-globetech/57e76157-0926-418b-9cd5-be5ea637b43b\n",
            "Counter()\n",
            "175 https://job-openings.monster.ie/qa-engineer-with-turkish-cork-cork-ie-globetech/de4fb9d5-3993-4aeb-9c7b-120a2850def4\n",
            "Counter()\n",
            "176 https://job-openings.monster.ie/qa-engineer-with-english-canadian-market-cork-cork-ie-globetech/9222f9b4-89df-487a-8fb2-9298180ea5ed\n",
            "Counter()\n",
            "177 https://job-openings.monster.ie/product-manager-dev-platform-dublin-ireland-ie-intercom/ca350dfa-62fb-48ff-8887-11236723331d\n",
            "Counter()\n",
            "178 https://job-openings.monster.ie/senior-software-engineer-dublin-ireland-ie-intercom/ac811d38-5e31-45e9-9f04-54d7c0db8b1b\n",
            "Counter()\n",
            "179 https://job-openings.monster.ie/senior-product-manager-messenger-dublin-ireland-ie-intercom/c543ecea-63c7-4112-9733-6592d74fbe2e\n",
            "Counter()\n",
            "180 https://job-openings.monster.ie/software-engineer-dublin-ireland-ie-intercom/4578f310-5393-4777-8627-b1f626a6c4ae\n",
            "Counter()\n",
            "181 https://job-openings.monster.ie/service-desk-support-ii-german-galway-ie-abbott/7d6f6015-774f-4594-9246-d8da1d521fd3\n",
            "Counter()\n",
            "182 https://job-openings.monster.ie/senior-sales-account-manager-ireland-dublin-ie-pg/041abd8b-932e-436e-b4a4-9cdb969c3f04\n",
            "Counter()\n",
            "183 https://job-openings.monster.ie/senior-sales-account-manager-ireland-leinster-ie-procter-gamble/fc717708-fce7-4b73-a64f-7c1742b8d5dc\n",
            "Counter()\n",
            "184 https://job-openings.monster.ie/senior-sales-account-manager-ireland-dublin-ie-procter-gamble-co/2802c8b5-0413-4d16-8981-c4a21db3cf3e\n",
            "Counter()\n"
          ],
          "name": "stdout"
        }
      ]
    },
    {
      "cell_type": "code",
      "metadata": {
        "id": "ckQlD4kcBkgM",
        "colab_type": "code",
        "colab": {}
      },
      "source": [
        ""
      ],
      "execution_count": null,
      "outputs": []
    },
    {
      "cell_type": "code",
      "metadata": {
        "id": "Wg4DQcC37iM4",
        "colab_type": "code",
        "colab": {
          "base_uri": "https://localhost:8080/",
          "height": 128
        },
        "outputId": "0ace8ba8-8e52-46fe-8787-52e173dbbdc6"
      },
      "source": [
        "from google.colab import drive\n",
        "drive.mount('/content/drive')"
      ],
      "execution_count": 1,
      "outputs": [
        {
          "output_type": "stream",
          "text": [
            "Go to this URL in a browser: https://accounts.google.com/o/oauth2/auth?client_id=947318989803-6bn6qk8qdgf4n4g3pfee6491hc0brc4i.apps.googleusercontent.com&redirect_uri=urn%3aietf%3awg%3aoauth%3a2.0%3aoob&response_type=code&scope=email%20https%3a%2f%2fwww.googleapis.com%2fauth%2fdocs.test%20https%3a%2f%2fwww.googleapis.com%2fauth%2fdrive%20https%3a%2f%2fwww.googleapis.com%2fauth%2fdrive.photos.readonly%20https%3a%2f%2fwww.googleapis.com%2fauth%2fpeopleapi.readonly\n",
            "\n",
            "Enter your authorization code:\n",
            "··········\n",
            "Mounted at /content/drive\n"
          ],
          "name": "stdout"
        }
      ]
    },
    {
      "cell_type": "code",
      "metadata": {
        "id": "p7SbrDgm7kSY",
        "colab_type": "code",
        "colab": {}
      },
      "source": [
        ""
      ],
      "execution_count": 4,
      "outputs": []
    },
    {
      "cell_type": "code",
      "metadata": {
        "id": "gzcGmEAu-U-i",
        "colab_type": "code",
        "colab": {
          "base_uri": "https://localhost:8080/",
          "height": 36
        },
        "outputId": "98a712de-3762-475d-d2a2-838af8a3cba0"
      },
      "source": [
        "import os\n",
        "os.getcwd()"
      ],
      "execution_count": 2,
      "outputs": [
        {
          "output_type": "execute_result",
          "data": {
            "application/vnd.google.colaboratory.intrinsic+json": {
              "type": "string"
            },
            "text/plain": [
              "'/content'"
            ]
          },
          "metadata": {
            "tags": []
          },
          "execution_count": 2
        }
      ]
    },
    {
      "cell_type": "code",
      "metadata": {
        "id": "77A-T9cV6QK6",
        "colab_type": "code",
        "colab": {}
      },
      "source": [
        ""
      ],
      "execution_count": 5,
      "outputs": []
    },
    {
      "cell_type": "code",
      "metadata": {
        "id": "1EQ6GGrx9Dcj",
        "colab_type": "code",
        "colab": {
          "base_uri": "https://localhost:8080/",
          "height": 108
        },
        "outputId": "333b2bf9-e292-4e7d-c090-fd3c793d6948"
      },
      "source": [
        ""
      ],
      "execution_count": 6,
      "outputs": [
        {
          "output_type": "stream",
          "text": [
            "Requirement already satisfied: pandas in /usr/local/lib/python3.6/dist-packages (1.0.5)\n",
            "Requirement already satisfied: numpy>=1.13.3 in /usr/local/lib/python3.6/dist-packages (from pandas) (1.18.5)\n",
            "Requirement already satisfied: pytz>=2017.2 in /usr/local/lib/python3.6/dist-packages (from pandas) (2018.9)\n",
            "Requirement already satisfied: python-dateutil>=2.6.1 in /usr/local/lib/python3.6/dist-packages (from pandas) (2.8.1)\n",
            "Requirement already satisfied: six>=1.5 in /usr/local/lib/python3.6/dist-packages (from python-dateutil>=2.6.1->pandas) (1.15.0)\n"
          ],
          "name": "stdout"
        }
      ]
    },
    {
      "cell_type": "code",
      "metadata": {
        "id": "qSPWOO7z9FZ3",
        "colab_type": "code",
        "colab": {}
      },
      "source": [
        ""
      ],
      "execution_count": null,
      "outputs": []
    }
  ]
}