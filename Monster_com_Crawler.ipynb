{
  "nbformat": 4,
  "nbformat_minor": 0,
  "metadata": {
    "kernelspec": {
      "display_name": "Python 3",
      "language": "python",
      "name": "python3"
    },
    "language_info": {
      "codemirror_mode": {
        "name": "ipython",
        "version": 3
      },
      "file_extension": ".py",
      "mimetype": "text/x-python",
      "name": "python",
      "nbconvert_exporter": "python",
      "pygments_lexer": "ipython3",
      "version": "3.7.4"
    },
    "colab": {
      "name": "Monster.com_Crawler.ipynb",
      "provenance": [],
      "collapsed_sections": [],
      "include_colab_link": true
    },
    "accelerator": "GPU"
  },
  "cells": [
    {
      "cell_type": "markdown",
      "metadata": {
        "id": "view-in-github",
        "colab_type": "text"
      },
      "source": [
        "<a href=\"https://colab.research.google.com/github/Sidd-Shanmuhavel/Python---WebCrawler-Using-BeautifulSoup4/blob/master/Monster_com_Crawler.ipynb\" target=\"_parent\"><img src=\"https://colab.research.google.com/assets/colab-badge.svg\" alt=\"Open In Colab\"/></a>"
      ]
    },
    {
      "cell_type": "code",
      "metadata": {
        "id": "dfvjsTEFBfwS",
        "colab_type": "code",
        "colab": {}
      },
      "source": [
        "from bs4 import BeautifulSoup\n",
        "import csv\n",
        "import json\n",
        "import requests\n",
        "import pandas as pd"
      ],
      "execution_count": 1,
      "outputs": []
    },
    {
      "cell_type": "code",
      "metadata": {
        "id": "nb5e0_1YBfxa",
        "colab_type": "code",
        "colab": {
          "base_uri": "https://localhost:8080/",
          "height": 35
        },
        "outputId": "f7b5afa2-00f4-487f-8b79-05881edcada3"
      },
      "source": [
        "role = \"data-analyst\"\n",
        "link = f'https://www.monster.ie/jobs/search/?q={role}'\n",
        "print(link)"
      ],
      "execution_count": 80,
      "outputs": [
        {
          "output_type": "stream",
          "text": [
            "https://www.monster.ie/jobs/search/?q=data-analyst\n"
          ],
          "name": "stdout"
        }
      ]
    },
    {
      "cell_type": "code",
      "metadata": {
        "id": "0Wp5yPQtBfyL",
        "colab_type": "code",
        "colab": {}
      },
      "source": [
        "source = requests.get(link).text\n",
        "soup = BeautifulSoup(source,'lxml')\n",
        "\n",
        "#fetching the search results\n",
        "job_body = soup.find(id = 'ResultsContainer')\n",
        "\n",
        "#It returns a json object\n",
        "script = job_body.find('script').text\n",
        "\n",
        "#Parsing the json, the result is a dict\n",
        "jsonValue = json.loads(script)"
      ],
      "execution_count": 7,
      "outputs": []
    },
    {
      "cell_type": "code",
      "metadata": {
        "id": "SOLMtBF5BfzO",
        "colab_type": "code",
        "colab": {}
      },
      "source": [
        "#Links of all the jobs appearing\n",
        "link_list = []\n",
        "for job in jsonValue['itemListElement']:\n",
        "    url = job['url']\n",
        "    if len(url) > 0:\n",
        "        link_list.append(url)"
      ],
      "execution_count": 12,
      "outputs": []
    },
    {
      "cell_type": "code",
      "metadata": {
        "id": "4jD1lPNlBfzr",
        "colab_type": "code",
        "colab": {}
      },
      "source": [
        "#Location of all the jobs posted\n",
        "location_list = []\n",
        "role_name_list = []\n",
        "salary_list = []\n",
        "for link in link_list:\n",
        "    one_job = requests.get(link).text\n",
        "    job_soup = BeautifulSoup(one_job,'lxml')\n",
        "    heading = job_soup.find('div',class_='heading')\n",
        "\n",
        "    #Location\n",
        "    location_list.append(heading.find(class_ = 'location c-gray-6').text)\n",
        "    \n",
        "    #Role Name\n",
        "    role_name_list.append(job_soup.find('div',class_='heading').h1.text)\n",
        "\n",
        "    #Salary\n",
        "    about_job = job_soup.find('div', class_='col-md-12 col-8 ta-md-l ta-r font-semibold')\n",
        "    salary_list.append(about_job.text)"
      ],
      "execution_count": 59,
      "outputs": []
    },
    {
      "cell_type": "code",
      "metadata": {
        "id": "UHd8LD1kM9VM",
        "colab_type": "code",
        "colab": {}
      },
      "source": [
        "#Checking if the Salary is mentioned in the posting or nots\n",
        "for index in range(len(salary_list)):\n",
        "  if any(map(str.isdigit, salary_list[index])) == False:\n",
        "    salary_list[index] = 'Salary Not Quoted'"
      ],
      "execution_count": 69,
      "outputs": []
    },
    {
      "cell_type": "code",
      "metadata": {
        "id": "H0sb3jJdJacE",
        "colab_type": "code",
        "colab": {}
      },
      "source": [
        "#creating a dictionary of the data collected\n",
        "data = {'Role':role_name_list,'Location':location_list,'Salary':salary_list,'Job Link': link_list}"
      ],
      "execution_count": 71,
      "outputs": []
    },
    {
      "cell_type": "code",
      "metadata": {
        "id": "vFJXW8qmJqJE",
        "colab_type": "code",
        "colab": {
          "base_uri": "https://localhost:8080/",
          "height": 206
        },
        "outputId": "63ad0629-48c1-4604-a068-db2abebf197d"
      },
      "source": [
        "#creating a data frame with the data scrapped\n",
        "df = pd.DataFrame(data)\n",
        "df.head()"
      ],
      "execution_count": 72,
      "outputs": [
        {
          "output_type": "execute_result",
          "data": {
            "text/html": [
              "<div>\n",
              "<style scoped>\n",
              "    .dataframe tbody tr th:only-of-type {\n",
              "        vertical-align: middle;\n",
              "    }\n",
              "\n",
              "    .dataframe tbody tr th {\n",
              "        vertical-align: top;\n",
              "    }\n",
              "\n",
              "    .dataframe thead th {\n",
              "        text-align: right;\n",
              "    }\n",
              "</style>\n",
              "<table border=\"1\" class=\"dataframe\">\n",
              "  <thead>\n",
              "    <tr style=\"text-align: right;\">\n",
              "      <th></th>\n",
              "      <th>Role</th>\n",
              "      <th>Location</th>\n",
              "      <th>Salary</th>\n",
              "      <th>Job Link</th>\n",
              "    </tr>\n",
              "  </thead>\n",
              "  <tbody>\n",
              "    <tr>\n",
              "      <th>0</th>\n",
              "      <td>Data Analyst/ Developer</td>\n",
              "      <td>Dublin, Dublin</td>\n",
              "      <td>€50000 - €60000 per year</td>\n",
              "      <td>https://job-openings.monster.ie/data-analyst-d...</td>\n",
              "    </tr>\n",
              "    <tr>\n",
              "      <th>1</th>\n",
              "      <td>Master Data Governance Analyst</td>\n",
              "      <td>Westmeath, Westmeath</td>\n",
              "      <td>€60000 - €70000 per year</td>\n",
              "      <td>https://job-openings.monster.ie/master-data-go...</td>\n",
              "    </tr>\n",
              "    <tr>\n",
              "      <th>2</th>\n",
              "      <td>Senior Data Analyst - Investments</td>\n",
              "      <td>Dublin, Dublin</td>\n",
              "      <td>Salary Not Quoted</td>\n",
              "      <td>https://job-openings.monster.ie/senior-data-an...</td>\n",
              "    </tr>\n",
              "    <tr>\n",
              "      <th>3</th>\n",
              "      <td>Data Analyst - Funds - 50-55k</td>\n",
              "      <td>Dublin, Dublin</td>\n",
              "      <td>€50000 - €55000 per year</td>\n",
              "      <td>https://job-openings.monster.ie/data-analyst-f...</td>\n",
              "    </tr>\n",
              "    <tr>\n",
              "      <th>4</th>\n",
              "      <td>Investment Data Analyst</td>\n",
              "      <td>Dublin, Dublin</td>\n",
              "      <td>€45000 - €60000 per year</td>\n",
              "      <td>https://job-openings.monster.ie/investment-dat...</td>\n",
              "    </tr>\n",
              "  </tbody>\n",
              "</table>\n",
              "</div>"
            ],
            "text/plain": [
              "                                 Role  ...                                           Job Link\n",
              "0             Data Analyst/ Developer  ...  https://job-openings.monster.ie/data-analyst-d...\n",
              "1      Master Data Governance Analyst  ...  https://job-openings.monster.ie/master-data-go...\n",
              "2   Senior Data Analyst - Investments  ...  https://job-openings.monster.ie/senior-data-an...\n",
              "3       Data Analyst - Funds - 50-55k  ...  https://job-openings.monster.ie/data-analyst-f...\n",
              "4             Investment Data Analyst  ...  https://job-openings.monster.ie/investment-dat...\n",
              "\n",
              "[5 rows x 4 columns]"
            ]
          },
          "metadata": {
            "tags": []
          },
          "execution_count": 72
        }
      ]
    }
  ]
}